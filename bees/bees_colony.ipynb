{
  "nbformat": 4,
  "nbformat_minor": 0,
  "metadata": {
    "colab": {
      "name": "bees_colony.ipynb",
      "version": "0.3.2",
      "provenance": [],
      "include_colab_link": true
    },
    "kernelspec": {
      "name": "python3",
      "display_name": "Python 3"
    }
  },
  "cells": [
    {
      "cell_type": "markdown",
      "metadata": {
        "id": "view-in-github",
        "colab_type": "text"
      },
      "source": [
        "<a href=\"https://colab.research.google.com/github/cocoisland/python_apps/blob/master/bees/bees_colony.ipynb\" target=\"_parent\"><img src=\"https://colab.research.google.com/assets/colab-badge.svg\" alt=\"Open In Colab\"/></a>"
      ]
    },
    {
      "metadata": {
        "id": "mOmyhTpbzN_8",
        "colab_type": "text"
      },
      "cell_type": "markdown",
      "source": [
        "# Save the bees.\n",
        "\n",
        "### https://data.world/finley/bee-colony-statistical-data-from-1987-2017\n",
        "### https://usda.library.cornell.edu/concern/publications/rn301137d?locale=en"
      ]
    },
    {
      "metadata": {
        "id": "jzQSUuuu_WKi",
        "colab_type": "text"
      },
      "cell_type": "markdown",
      "source": [
        "###Glossary\n",
        "https://github.com/cocoisland/python_apps/blob/master/bees/finley-bee-colony-statistical-data-from-1987-2017/glossary%20for%20bee%20stats.pdf\n",
        "\n",
        "###Survey png\n",
        "https://github.com/cocoisland/python_apps/blob/master/bees/finley-bee-colony-statistical-data-from-1987-2017/Search%20criteria%20for%20bee%20colony%20survey.png\n",
        "\n",
        "###Census png\n",
        "https://github.com/cocoisland/python_apps/blob/master/bees/finley-bee-colony-statistical-data-from-1987-2017/Search%20criteria%20for%20bee%20colony%20census.png"
      ]
    },
    {
      "metadata": {
        "id": "aCVKEiJL69ZO",
        "colab_type": "code",
        "colab": {
          "base_uri": "https://localhost:8080/",
          "height": 34
        },
        "outputId": "7bce5d02-a45b-4278-ad54-abedf7306186"
      },
      "cell_type": "code",
      "source": [
        "import pandas as pd\n",
        "\n",
        "df_county = pd.read_csv('https://raw.githubusercontent.com/cocoisland/python_apps/master/bees/finley-bee-colony-statistical-data-from-1987-2017/Bee%20Colony%20Census%20Data%20by%20County.csv')\n",
        "#df_loss = pd.read_excel('finley-bee-colony-statistical-data-from-1987-2017/Bee Colony Loss.xlsx', sheet_name='Sheet1') \n",
        "df_loss = pd.read_csv('https://raw.githubusercontent.com/cocoisland/python_apps/master/bees/Bee%20Colony%20Loss.csv')\n",
        "df_state = pd.read_csv('https://raw.githubusercontent.com/cocoisland/python_apps/master/bees/finley-bee-colony-statistical-data-from-1987-2017/Bee%20Colony%20Survey%20Data%20by%20State.csv')\n",
        "\n",
        "df_county.shape,  df_state.shape, df_loss.shape"
      ],
      "execution_count": 1,
      "outputs": [
        {
          "output_type": "execute_result",
          "data": {
            "text/plain": [
              "((7830, 10), (3396, 9), (365, 8))"
            ]
          },
          "metadata": {
            "tags": []
          },
          "execution_count": 1
        }
      ]
    },
    {
      "metadata": {
        "id": "se95T22v-56m",
        "colab_type": "code",
        "colab": {
          "base_uri": "https://localhost:8080/",
          "height": 198
        },
        "outputId": "51d58096-5b17-498b-cdce-d15311bac7ea"
      },
      "cell_type": "code",
      "source": [
        "df_loss.head()"
      ],
      "execution_count": 54,
      "outputs": [
        {
          "output_type": "execute_result",
          "data": {
            "text/html": [
              "<div>\n",
              "<style scoped>\n",
              "    .dataframe tbody tr th:only-of-type {\n",
              "        vertical-align: middle;\n",
              "    }\n",
              "\n",
              "    .dataframe tbody tr th {\n",
              "        vertical-align: top;\n",
              "    }\n",
              "\n",
              "    .dataframe thead th {\n",
              "        text-align: right;\n",
              "    }\n",
              "</style>\n",
              "<table border=\"1\" class=\"dataframe\">\n",
              "  <thead>\n",
              "    <tr style=\"text-align: right;\">\n",
              "      <th></th>\n",
              "      <th>Year</th>\n",
              "      <th>Season</th>\n",
              "      <th>State</th>\n",
              "      <th>Total Annual Loss</th>\n",
              "      <th>Beekeepers</th>\n",
              "      <th>Beekeepers Exclusive to State</th>\n",
              "      <th>Colonies</th>\n",
              "      <th>Colonies Exclusive to State</th>\n",
              "    </tr>\n",
              "  </thead>\n",
              "  <tbody>\n",
              "    <tr>\n",
              "      <th>0</th>\n",
              "      <td>2016</td>\n",
              "      <td>Annual</td>\n",
              "      <td>MASSACHUSETTS</td>\n",
              "      <td>15.90%</td>\n",
              "      <td>87</td>\n",
              "      <td>94.30%</td>\n",
              "      <td>27186</td>\n",
              "      <td>2.30%</td>\n",
              "    </tr>\n",
              "    <tr>\n",
              "      <th>1</th>\n",
              "      <td>2016</td>\n",
              "      <td>Annual</td>\n",
              "      <td>MONTANA</td>\n",
              "      <td>17.10%</td>\n",
              "      <td>21</td>\n",
              "      <td>52.40%</td>\n",
              "      <td>35905</td>\n",
              "      <td>0.30%</td>\n",
              "    </tr>\n",
              "    <tr>\n",
              "      <th>2</th>\n",
              "      <td>2016</td>\n",
              "      <td>Annual</td>\n",
              "      <td>NEVADA</td>\n",
              "      <td>23.00%</td>\n",
              "      <td>13</td>\n",
              "      <td>92.30%</td>\n",
              "      <td>2512</td>\n",
              "      <td>5.20%</td>\n",
              "    </tr>\n",
              "    <tr>\n",
              "      <th>3</th>\n",
              "      <td>2016</td>\n",
              "      <td>Annual</td>\n",
              "      <td>MAINE</td>\n",
              "      <td>23.30%</td>\n",
              "      <td>65</td>\n",
              "      <td>93.80%</td>\n",
              "      <td>41102</td>\n",
              "      <td>1.40%</td>\n",
              "    </tr>\n",
              "    <tr>\n",
              "      <th>4</th>\n",
              "      <td>2016</td>\n",
              "      <td>Annual</td>\n",
              "      <td>WYOMING</td>\n",
              "      <td>23.40%</td>\n",
              "      <td>18</td>\n",
              "      <td>77.80%</td>\n",
              "      <td>6521</td>\n",
              "      <td>1.40%</td>\n",
              "    </tr>\n",
              "  </tbody>\n",
              "</table>\n",
              "</div>"
            ],
            "text/plain": [
              "   Year  Season          State Total Annual Loss  Beekeepers Beekeepers Exclusive to State  Colonies Colonies Exclusive to State\n",
              "0  2016  Annual  MASSACHUSETTS            15.90%          87                        94.30%     27186                       2.30%\n",
              "1  2016  Annual        MONTANA            17.10%          21                        52.40%     35905                       0.30%\n",
              "2  2016  Annual         NEVADA            23.00%          13                        92.30%      2512                       5.20%\n",
              "3  2016  Annual          MAINE            23.30%          65                        93.80%     41102                       1.40%\n",
              "4  2016  Annual        WYOMING            23.40%          18                        77.80%      6521                       1.40%"
            ]
          },
          "metadata": {
            "tags": []
          },
          "execution_count": 54
        }
      ]
    },
    {
      "metadata": {
        "id": "Mv0NlUPkK8W_",
        "colab_type": "code",
        "colab": {}
      },
      "cell_type": "code",
      "source": [
        "# Convert camel case State to upper case to be the same as upper case State in df_state\n",
        "df_loss['State']=df_loss['State'].str.upper()"
      ],
      "execution_count": 0,
      "outputs": []
    },
    {
      "metadata": {
        "id": "Ij9nA70E2bET",
        "colab_type": "code",
        "colab": {}
      },
      "cell_type": "code",
      "source": [
        "# convert 2016/17 to 2016 to match Year in df_state\n",
        "df_loss['Year']=df_loss.Year.str[:-3]"
      ],
      "execution_count": 0,
      "outputs": []
    },
    {
      "metadata": {
        "id": "Q7Z-P3Kd-Ge8",
        "colab_type": "code",
        "colab": {
          "base_uri": "https://localhost:8080/",
          "height": 198
        },
        "outputId": "a1b3e1bb-4c3d-4052-db86-81c998315796"
      },
      "cell_type": "code",
      "source": [
        "df_state.head()"
      ],
      "execution_count": 23,
      "outputs": [
        {
          "output_type": "execute_result",
          "data": {
            "text/html": [
              "<div>\n",
              "<style scoped>\n",
              "    .dataframe tbody tr th:only-of-type {\n",
              "        vertical-align: middle;\n",
              "    }\n",
              "\n",
              "    .dataframe tbody tr th {\n",
              "        vertical-align: top;\n",
              "    }\n",
              "\n",
              "    .dataframe thead th {\n",
              "        text-align: right;\n",
              "    }\n",
              "</style>\n",
              "<table border=\"1\" class=\"dataframe\">\n",
              "  <thead>\n",
              "    <tr style=\"text-align: right;\">\n",
              "      <th></th>\n",
              "      <th>Year</th>\n",
              "      <th>Period</th>\n",
              "      <th>Week Ending</th>\n",
              "      <th>State</th>\n",
              "      <th>State ANSI</th>\n",
              "      <th>Watershed</th>\n",
              "      <th>Data Item</th>\n",
              "      <th>Value</th>\n",
              "      <th>CV (%)</th>\n",
              "    </tr>\n",
              "  </thead>\n",
              "  <tbody>\n",
              "    <tr>\n",
              "      <th>0</th>\n",
              "      <td>2017</td>\n",
              "      <td>JAN THRU MAR</td>\n",
              "      <td>NaN</td>\n",
              "      <td>ALABAMA</td>\n",
              "      <td>1</td>\n",
              "      <td>NaN</td>\n",
              "      <td>ADDED &amp; REPLACED</td>\n",
              "      <td>570</td>\n",
              "      <td>NaN</td>\n",
              "    </tr>\n",
              "    <tr>\n",
              "      <th>1</th>\n",
              "      <td>2017</td>\n",
              "      <td>JAN THRU MAR</td>\n",
              "      <td>NaN</td>\n",
              "      <td>ARIZONA</td>\n",
              "      <td>4</td>\n",
              "      <td>NaN</td>\n",
              "      <td>ADDED &amp; REPLACED</td>\n",
              "      <td>2,900</td>\n",
              "      <td>NaN</td>\n",
              "    </tr>\n",
              "    <tr>\n",
              "      <th>2</th>\n",
              "      <td>2017</td>\n",
              "      <td>JAN THRU MAR</td>\n",
              "      <td>NaN</td>\n",
              "      <td>ARKANSAS</td>\n",
              "      <td>5</td>\n",
              "      <td>NaN</td>\n",
              "      <td>ADDED &amp; REPLACED</td>\n",
              "      <td>430</td>\n",
              "      <td>NaN</td>\n",
              "    </tr>\n",
              "    <tr>\n",
              "      <th>3</th>\n",
              "      <td>2017</td>\n",
              "      <td>JAN THRU MAR</td>\n",
              "      <td>NaN</td>\n",
              "      <td>CALIFORNIA</td>\n",
              "      <td>6</td>\n",
              "      <td>NaN</td>\n",
              "      <td>ADDED &amp; REPLACED</td>\n",
              "      <td>215,000</td>\n",
              "      <td>NaN</td>\n",
              "    </tr>\n",
              "    <tr>\n",
              "      <th>4</th>\n",
              "      <td>2017</td>\n",
              "      <td>JAN THRU MAR</td>\n",
              "      <td>NaN</td>\n",
              "      <td>COLORADO</td>\n",
              "      <td>8</td>\n",
              "      <td>NaN</td>\n",
              "      <td>ADDED &amp; REPLACED</td>\n",
              "      <td>100</td>\n",
              "      <td>NaN</td>\n",
              "    </tr>\n",
              "  </tbody>\n",
              "</table>\n",
              "</div>"
            ],
            "text/plain": [
              "   Year        Period  Week Ending       State  State ANSI  Watershed  \\\n",
              "0  2017  JAN THRU MAR          NaN     ALABAMA           1        NaN   \n",
              "1  2017  JAN THRU MAR          NaN     ARIZONA           4        NaN   \n",
              "2  2017  JAN THRU MAR          NaN    ARKANSAS           5        NaN   \n",
              "3  2017  JAN THRU MAR          NaN  CALIFORNIA           6        NaN   \n",
              "4  2017  JAN THRU MAR          NaN    COLORADO           8        NaN   \n",
              "\n",
              "          Data Item    Value  CV (%)  \n",
              "0  ADDED & REPLACED      570     NaN  \n",
              "1  ADDED & REPLACED    2,900     NaN  \n",
              "2  ADDED & REPLACED      430     NaN  \n",
              "3  ADDED & REPLACED  215,000     NaN  \n",
              "4  ADDED & REPLACED      100     NaN  "
            ]
          },
          "metadata": {
            "tags": []
          },
          "execution_count": 23
        }
      ]
    },
    {
      "metadata": {
        "id": "6RJ4gv80_icR",
        "colab_type": "code",
        "colab": {
          "base_uri": "https://localhost:8080/",
          "height": 188
        },
        "outputId": "a172bd34-172a-4f9a-f4c3-e89f7d955a39"
      },
      "cell_type": "code",
      "source": [
        "df_state.dtypes"
      ],
      "execution_count": 36,
      "outputs": [
        {
          "output_type": "execute_result",
          "data": {
            "text/plain": [
              "Year             int64\n",
              "Period          object\n",
              "Week Ending    float64\n",
              "State           object\n",
              "State ANSI       int64\n",
              "Watershed      float64\n",
              "Data Item       object\n",
              "Value           object\n",
              "CV (%)         float64\n",
              "dtype: object"
            ]
          },
          "metadata": {
            "tags": []
          },
          "execution_count": 36
        }
      ]
    },
    {
      "metadata": {
        "id": "X_vHo-uf_mj4",
        "colab_type": "code",
        "colab": {}
      },
      "cell_type": "code",
      "source": [
        "# convert Value object to float\n",
        "df_state['Value'] = df_state.Value.str.replace(',','').astype(float)"
      ],
      "execution_count": 0,
      "outputs": []
    },
    {
      "metadata": {
        "id": "REQvTURNEp3Z",
        "colab_type": "code",
        "colab": {
          "base_uri": "https://localhost:8080/",
          "height": 308
        },
        "outputId": "385ad124-50ee-4a6f-9000-715f7e7b3fc3"
      },
      "cell_type": "code",
      "source": [
        "df_state.State.unique(), df_state.Year.unique(), df_state.Period.unique()"
      ],
      "execution_count": 7,
      "outputs": [
        {
          "output_type": "execute_result",
          "data": {
            "text/plain": [
              "(array(['ALABAMA', 'ARIZONA', 'ARKANSAS', 'CALIFORNIA', 'COLORADO',\n",
              "        'CONNECTICUT', 'FLORIDA', 'GEORGIA', 'HAWAII', 'IDAHO', 'ILLINOIS',\n",
              "        'INDIANA', 'IOWA', 'KANSAS', 'KENTUCKY', 'LOUISIANA', 'MAINE',\n",
              "        'MARYLAND', 'MASSACHUSETTS', 'MICHIGAN', 'MINNESOTA',\n",
              "        'MISSISSIPPI', 'MISSOURI', 'MONTANA', 'NEBRASKA', 'NEW JERSEY',\n",
              "        'NEW MEXICO', 'NEW YORK', 'NORTH CAROLINA', 'NORTH DAKOTA', 'OHIO',\n",
              "        'OKLAHOMA', 'OREGON', 'PENNSYLVANIA', 'SOUTH CAROLINA',\n",
              "        'SOUTH DAKOTA', 'TENNESSEE', 'TEXAS', 'UTAH', 'VERMONT',\n",
              "        'VIRGINIA', 'WASHINGTON', 'WEST VIRGINIA', 'WISCONSIN', 'WYOMING',\n",
              "        'NEVADA', 'DELAWARE', 'NEW HAMPSHIRE', 'RHODE ISLAND'],\n",
              "       dtype=object),\n",
              " array([2017, 2016, 2015, 2014, 2013, 2012, 2011, 2010, 2009, 2008, 2007,\n",
              "        2006, 2005, 2004, 2003, 2002, 2001, 2000, 1999, 1998, 1997, 1996,\n",
              "        1995, 1994, 1993, 1992, 1991, 1990, 1989, 1988, 1987]),\n",
              " array(['JAN THRU MAR', 'APR THRU JUN', 'JUL THRU SEP', 'OCT THRU DEC',\n",
              "        'MARKETING YEAR', 'FIRST OF JAN', 'FIRST OF APR', 'FIRST OF JUL',\n",
              "        'FIRST OF OCT'], dtype=object))"
            ]
          },
          "metadata": {
            "tags": []
          },
          "execution_count": 7
        }
      ]
    },
    {
      "metadata": {
        "id": "4LlgnYryTYIu",
        "colab_type": "code",
        "colab": {}
      },
      "cell_type": "code",
      "source": [
        "# To sum up agriculture value based on state, year and period\n",
        "dfs=df_state[['Period','Year','State','Value']].copy()\n"
      ],
      "execution_count": 0,
      "outputs": []
    },
    {
      "metadata": {
        "id": "RtaeEw374I4Z",
        "colab_type": "code",
        "colab": {}
      },
      "cell_type": "code",
      "source": [
        "import pandas as pd\n",
        "pd.set_option('display.max_rows', 100)\n",
        "#pd.set_option('display.max_columns', 500)\n",
        "pd.set_option('display.width', 1000)"
      ],
      "execution_count": 0,
      "outputs": []
    },
    {
      "metadata": {
        "id": "nFpE_qrf4lgv",
        "colab_type": "code",
        "colab": {}
      },
      "cell_type": "code",
      "source": [
        "# take ALABAMA as example to sum up value for year 2015\n",
        "dfs.loc[(dfs['Year'] == 2015) & (dfs['State']=='ALABAMA')]"
      ],
      "execution_count": 0,
      "outputs": []
    },
    {
      "metadata": {
        "id": "DYNCIfg1aiIo",
        "colab_type": "code",
        "colab": {}
      },
      "cell_type": "code",
      "source": [
        "# method 1 : summing up Value as subtotal. But we want total value for State-Year-Period\n",
        "dfs.groupby(['State','Year','Period','Value']).sum()"
      ],
      "execution_count": 0,
      "outputs": []
    },
    {
      "metadata": {
        "id": "fJbDasYvEq68",
        "colab_type": "code",
        "colab": {}
      },
      "cell_type": "code",
      "source": [
        "# method 2: summing value as total for State-Year-Period\n",
        "dfV=df_state.Value.groupby([df_state['State'],df_state['Year'],df_state['Period']]).sum()"
      ],
      "execution_count": 0,
      "outputs": []
    },
    {
      "metadata": {
        "id": "fChCWIn7U0oF",
        "colab_type": "code",
        "colab": {
          "base_uri": "https://localhost:8080/",
          "height": 908
        },
        "outputId": "be65073a-56cb-42f2-a4b9-6c1a0e048b3c"
      },
      "cell_type": "code",
      "source": [
        "dfV.head(50)"
      ],
      "execution_count": 53,
      "outputs": [
        {
          "output_type": "execute_result",
          "data": {
            "text/plain": [
              "State    Year  Period        \n",
              "ALABAMA  1987  MARKETING YEAR    46000.0\n",
              "         1988  MARKETING YEAR    42000.0\n",
              "         1989  MARKETING YEAR    41000.0\n",
              "         1990  MARKETING YEAR    29000.0\n",
              "         1991  MARKETING YEAR    23000.0\n",
              "         1992  MARKETING YEAR    25000.0\n",
              "         1993  MARKETING YEAR    19000.0\n",
              "         1994  MARKETING YEAR    18000.0\n",
              "         1995  MARKETING YEAR    16000.0\n",
              "         1996  MARKETING YEAR    15000.0\n",
              "         1997  MARKETING YEAR    14000.0\n",
              "         1998  MARKETING YEAR    16000.0\n",
              "         1999  MARKETING YEAR    17000.0\n",
              "         2000  MARKETING YEAR    16000.0\n",
              "         2001  MARKETING YEAR    14000.0\n",
              "         2002  MARKETING YEAR    12000.0\n",
              "         2003  MARKETING YEAR    13000.0\n",
              "         2004  MARKETING YEAR    12000.0\n",
              "         2005  MARKETING YEAR    13000.0\n",
              "         2006  MARKETING YEAR    11000.0\n",
              "         2007  MARKETING YEAR    11000.0\n",
              "         2008  MARKETING YEAR     9000.0\n",
              "         2009  MARKETING YEAR     9000.0\n",
              "         2010  MARKETING YEAR     9000.0\n",
              "         2011  MARKETING YEAR     9000.0\n",
              "         2012  MARKETING YEAR     8000.0\n",
              "         2013  MARKETING YEAR     7000.0\n",
              "         2014  MARKETING YEAR     7000.0\n",
              "         2015  APR THRU JUN      10260.0\n",
              "               FIRST OF APR       7500.0\n",
              "               FIRST OF JAN       7000.0\n",
              "               FIRST OF JUL       8500.0\n",
              "               FIRST OF OCT       8000.0\n",
              "               JAN THRU MAR      11600.0\n",
              "               JUL THRU SEP      10560.0\n",
              "               MARKETING YEAR     7000.0\n",
              "               OCT THRU DEC       8690.0\n",
              "         2016  APR THRU JUN      10260.0\n",
              "               FIRST OF APR       8000.0\n",
              "               FIRST OF JAN       7500.0\n",
              "               FIRST OF JUL       8000.0\n",
              "               FIRST OF OCT       7000.0\n",
              "               JAN THRU MAR      11780.0\n",
              "               JUL THRU SEP      10040.0\n",
              "               MARKETING YEAR     7000.0\n",
              "               OCT THRU DEC       7760.0\n",
              "         2017  APR THRU JUN       8160.0\n",
              "               FIRST OF APR       6500.0\n",
              "               FIRST OF JAN       7000.0\n",
              "               JAN THRU MAR       9420.0\n",
              "Name: Value, dtype: float64"
            ]
          },
          "metadata": {
            "tags": []
          },
          "execution_count": 53
        }
      ]
    },
    {
      "metadata": {
        "id": "RvmYnhWcDiJw",
        "colab_type": "code",
        "colab": {
          "base_uri": "https://localhost:8080/",
          "height": 34
        },
        "outputId": "f9a4264a-760f-4ce2-ad3f-b2c16a4404c8"
      },
      "cell_type": "code",
      "source": [
        "# summing ALABAMA state and Year 2015 to check method3 total accuracy\n",
        "10260+7500+7000+8500+8000+11600+10560+7000+8690"
      ],
      "execution_count": 60,
      "outputs": [
        {
          "output_type": "execute_result",
          "data": {
            "text/plain": [
              "79110"
            ]
          },
          "metadata": {
            "tags": []
          },
          "execution_count": 60
        }
      ]
    },
    {
      "metadata": {
        "id": "S6MWftGSDP3D",
        "colab_type": "code",
        "colab": {}
      },
      "cell_type": "code",
      "source": [
        "# method 3: summing value as total for State-Year\n",
        "dfs=df_state.Value.groupby([df_state['State'],df_state['Year']]).sum()"
      ],
      "execution_count": 0,
      "outputs": []
    },
    {
      "metadata": {
        "id": "7zTlxem9Gfcy",
        "colab_type": "code",
        "colab": {}
      },
      "cell_type": "code",
      "source": [
        "dfs=dfs.reset_index()"
      ],
      "execution_count": 0,
      "outputs": []
    },
    {
      "metadata": {
        "id": "YCo6-nlEJ-8c",
        "colab_type": "code",
        "colab": {
          "base_uri": "https://localhost:8080/",
          "height": 198
        },
        "outputId": "cec901c3-b3d4-43df-dd3f-13f47c95ee8b"
      },
      "cell_type": "code",
      "source": [
        "dfs.head()"
      ],
      "execution_count": 114,
      "outputs": [
        {
          "output_type": "execute_result",
          "data": {
            "text/html": [
              "<div>\n",
              "<style scoped>\n",
              "    .dataframe tbody tr th:only-of-type {\n",
              "        vertical-align: middle;\n",
              "    }\n",
              "\n",
              "    .dataframe tbody tr th {\n",
              "        vertical-align: top;\n",
              "    }\n",
              "\n",
              "    .dataframe thead th {\n",
              "        text-align: right;\n",
              "    }\n",
              "</style>\n",
              "<table border=\"1\" class=\"dataframe\">\n",
              "  <thead>\n",
              "    <tr style=\"text-align: right;\">\n",
              "      <th></th>\n",
              "      <th>State</th>\n",
              "      <th>Year</th>\n",
              "      <th>Value</th>\n",
              "    </tr>\n",
              "  </thead>\n",
              "  <tbody>\n",
              "    <tr>\n",
              "      <th>0</th>\n",
              "      <td>ALABAMA</td>\n",
              "      <td>1987</td>\n",
              "      <td>46000.0</td>\n",
              "    </tr>\n",
              "    <tr>\n",
              "      <th>1</th>\n",
              "      <td>ALABAMA</td>\n",
              "      <td>1988</td>\n",
              "      <td>42000.0</td>\n",
              "    </tr>\n",
              "    <tr>\n",
              "      <th>2</th>\n",
              "      <td>ALABAMA</td>\n",
              "      <td>1989</td>\n",
              "      <td>41000.0</td>\n",
              "    </tr>\n",
              "    <tr>\n",
              "      <th>3</th>\n",
              "      <td>ALABAMA</td>\n",
              "      <td>1990</td>\n",
              "      <td>29000.0</td>\n",
              "    </tr>\n",
              "    <tr>\n",
              "      <th>4</th>\n",
              "      <td>ALABAMA</td>\n",
              "      <td>1991</td>\n",
              "      <td>23000.0</td>\n",
              "    </tr>\n",
              "  </tbody>\n",
              "</table>\n",
              "</div>"
            ],
            "text/plain": [
              "     State  Year    Value\n",
              "0  ALABAMA  1987  46000.0\n",
              "1  ALABAMA  1988  42000.0\n",
              "2  ALABAMA  1989  41000.0\n",
              "3  ALABAMA  1990  29000.0\n",
              "4  ALABAMA  1991  23000.0"
            ]
          },
          "metadata": {
            "tags": []
          },
          "execution_count": 114
        }
      ]
    },
    {
      "metadata": {
        "id": "xHFePCYwJ-va",
        "colab_type": "code",
        "colab": {
          "base_uri": "https://localhost:8080/",
          "height": 34
        },
        "outputId": "3add0a79-6ecf-41d3-ebf9-4dca24e26927"
      },
      "cell_type": "code",
      "source": [
        "type(dfs)"
      ],
      "execution_count": 115,
      "outputs": [
        {
          "output_type": "execute_result",
          "data": {
            "text/plain": [
              "pandas.core.frame.DataFrame"
            ]
          },
          "metadata": {
            "tags": []
          },
          "execution_count": 115
        }
      ]
    },
    {
      "metadata": {
        "id": "-RnO4eWQKclq",
        "colab_type": "code",
        "colab": {
          "base_uri": "https://localhost:8080/",
          "height": 86
        },
        "outputId": "1422632d-5fbc-41bf-99b3-4deafeacc537"
      },
      "cell_type": "code",
      "source": [
        "dfs.dtypes"
      ],
      "execution_count": 120,
      "outputs": [
        {
          "output_type": "execute_result",
          "data": {
            "text/plain": [
              "State     object\n",
              "Year      object\n",
              "Value    float64\n",
              "dtype: object"
            ]
          },
          "metadata": {
            "tags": []
          },
          "execution_count": 120
        }
      ]
    },
    {
      "metadata": {
        "id": "J9AoJxMXKou4",
        "colab_type": "code",
        "colab": {}
      },
      "cell_type": "code",
      "source": [
        "dfs['Year']=dfs.Year.astype(object)"
      ],
      "execution_count": 0,
      "outputs": []
    },
    {
      "metadata": {
        "id": "XSktfz07KfDI",
        "colab_type": "code",
        "colab": {
          "base_uri": "https://localhost:8080/",
          "height": 68
        },
        "outputId": "f26d7ca5-0a06-4470-fee4-7af272a1cbbd"
      },
      "cell_type": "code",
      "source": [
        "dfl.dtypes"
      ],
      "execution_count": 118,
      "outputs": [
        {
          "output_type": "execute_result",
          "data": {
            "text/plain": [
              "State    object\n",
              "Year     object\n",
              "dtype: object"
            ]
          },
          "metadata": {
            "tags": []
          },
          "execution_count": 118
        }
      ]
    },
    {
      "metadata": {
        "id": "c-lykggcCqJJ",
        "colab_type": "code",
        "colab": {
          "base_uri": "https://localhost:8080/",
          "height": 48
        },
        "outputId": "02f7e283-17f9-4681-e4f0-054a13cd8f4d"
      },
      "cell_type": "code",
      "source": [
        "dfl.merge(dfs, on=['State','Year'])"
      ],
      "execution_count": 121,
      "outputs": [
        {
          "output_type": "execute_result",
          "data": {
            "text/html": [
              "<div>\n",
              "<style scoped>\n",
              "    .dataframe tbody tr th:only-of-type {\n",
              "        vertical-align: middle;\n",
              "    }\n",
              "\n",
              "    .dataframe tbody tr th {\n",
              "        vertical-align: top;\n",
              "    }\n",
              "\n",
              "    .dataframe thead th {\n",
              "        text-align: right;\n",
              "    }\n",
              "</style>\n",
              "<table border=\"1\" class=\"dataframe\">\n",
              "  <thead>\n",
              "    <tr style=\"text-align: right;\">\n",
              "      <th></th>\n",
              "      <th>State</th>\n",
              "      <th>Year</th>\n",
              "      <th>Value</th>\n",
              "    </tr>\n",
              "  </thead>\n",
              "  <tbody>\n",
              "  </tbody>\n",
              "</table>\n",
              "</div>"
            ],
            "text/plain": [
              "Empty DataFrame\n",
              "Columns: [State, Year, Value]\n",
              "Index: []"
            ]
          },
          "metadata": {
            "tags": []
          },
          "execution_count": 121
        }
      ]
    },
    {
      "metadata": {
        "id": "hI3RWyxoK8tV",
        "colab_type": "code",
        "colab": {
          "base_uri": "https://localhost:8080/",
          "height": 3107
        },
        "outputId": "f54c2f51-7d44-4429-f76f-823c2c0b3659"
      },
      "cell_type": "code",
      "source": [
        "dfl"
      ],
      "execution_count": 122,
      "outputs": [
        {
          "output_type": "execute_result",
          "data": {
            "text/html": [
              "<div>\n",
              "<style scoped>\n",
              "    .dataframe tbody tr th:only-of-type {\n",
              "        vertical-align: middle;\n",
              "    }\n",
              "\n",
              "    .dataframe tbody tr th {\n",
              "        vertical-align: top;\n",
              "    }\n",
              "\n",
              "    .dataframe thead th {\n",
              "        text-align: right;\n",
              "    }\n",
              "</style>\n",
              "<table border=\"1\" class=\"dataframe\">\n",
              "  <thead>\n",
              "    <tr style=\"text-align: right;\">\n",
              "      <th></th>\n",
              "      <th>State</th>\n",
              "      <th>Year</th>\n",
              "    </tr>\n",
              "  </thead>\n",
              "  <tbody>\n",
              "    <tr>\n",
              "      <th>0</th>\n",
              "      <td>MASSACHUSETTS</td>\n",
              "      <td>2016</td>\n",
              "    </tr>\n",
              "    <tr>\n",
              "      <th>1</th>\n",
              "      <td>MONTANA</td>\n",
              "      <td>2016</td>\n",
              "    </tr>\n",
              "    <tr>\n",
              "      <th>2</th>\n",
              "      <td>NEVADA</td>\n",
              "      <td>2016</td>\n",
              "    </tr>\n",
              "    <tr>\n",
              "      <th>3</th>\n",
              "      <td>MAINE</td>\n",
              "      <td>2016</td>\n",
              "    </tr>\n",
              "    <tr>\n",
              "      <th>4</th>\n",
              "      <td>WYOMING</td>\n",
              "      <td>2016</td>\n",
              "    </tr>\n",
              "    <tr>\n",
              "      <th>5</th>\n",
              "      <td>HAWAII</td>\n",
              "      <td>2016</td>\n",
              "    </tr>\n",
              "    <tr>\n",
              "      <th>6</th>\n",
              "      <td>MISSISSIPPI</td>\n",
              "      <td>2016</td>\n",
              "    </tr>\n",
              "    <tr>\n",
              "      <th>7</th>\n",
              "      <td>WEST VIRGINIA</td>\n",
              "      <td>2016</td>\n",
              "    </tr>\n",
              "    <tr>\n",
              "      <th>8</th>\n",
              "      <td>IDAHO</td>\n",
              "      <td>2016</td>\n",
              "    </tr>\n",
              "    <tr>\n",
              "      <th>9</th>\n",
              "      <td>FLORIDA</td>\n",
              "      <td>2016</td>\n",
              "    </tr>\n",
              "    <tr>\n",
              "      <th>10</th>\n",
              "      <td>WISCONSIN</td>\n",
              "      <td>2016</td>\n",
              "    </tr>\n",
              "    <tr>\n",
              "      <th>11</th>\n",
              "      <td>NORTH CAROLINA</td>\n",
              "      <td>2016</td>\n",
              "    </tr>\n",
              "    <tr>\n",
              "      <th>12</th>\n",
              "      <td>CALIFORNIA</td>\n",
              "      <td>2016</td>\n",
              "    </tr>\n",
              "    <tr>\n",
              "      <th>13</th>\n",
              "      <td>GEORGIA</td>\n",
              "      <td>2016</td>\n",
              "    </tr>\n",
              "    <tr>\n",
              "      <th>14</th>\n",
              "      <td>MULTISTATEOPERATION</td>\n",
              "      <td>2016</td>\n",
              "    </tr>\n",
              "    <tr>\n",
              "      <th>15</th>\n",
              "      <td>SOUTH DAKOTA</td>\n",
              "      <td>2016</td>\n",
              "    </tr>\n",
              "    <tr>\n",
              "      <th>16</th>\n",
              "      <td>OREGON</td>\n",
              "      <td>2016</td>\n",
              "    </tr>\n",
              "    <tr>\n",
              "      <th>17</th>\n",
              "      <td>MICHIGAN</td>\n",
              "      <td>2016</td>\n",
              "    </tr>\n",
              "    <tr>\n",
              "      <th>18</th>\n",
              "      <td>MISSOURI</td>\n",
              "      <td>2016</td>\n",
              "    </tr>\n",
              "    <tr>\n",
              "      <th>19</th>\n",
              "      <td>TEXAS</td>\n",
              "      <td>2016</td>\n",
              "    </tr>\n",
              "    <tr>\n",
              "      <th>20</th>\n",
              "      <td>ALABAMA</td>\n",
              "      <td>2016</td>\n",
              "    </tr>\n",
              "    <tr>\n",
              "      <th>21</th>\n",
              "      <td>NEW MEXICO</td>\n",
              "      <td>2016</td>\n",
              "    </tr>\n",
              "    <tr>\n",
              "      <th>22</th>\n",
              "      <td>LOUISIANA</td>\n",
              "      <td>2016</td>\n",
              "    </tr>\n",
              "    <tr>\n",
              "      <th>23</th>\n",
              "      <td>NORTH DAKOTA</td>\n",
              "      <td>2016</td>\n",
              "    </tr>\n",
              "    <tr>\n",
              "      <th>24</th>\n",
              "      <td>DISTRICT OF COLUMBIA</td>\n",
              "      <td>2016</td>\n",
              "    </tr>\n",
              "    <tr>\n",
              "      <th>25</th>\n",
              "      <td>OHIO</td>\n",
              "      <td>2016</td>\n",
              "    </tr>\n",
              "    <tr>\n",
              "      <th>26</th>\n",
              "      <td>WASHINGTON</td>\n",
              "      <td>2016</td>\n",
              "    </tr>\n",
              "    <tr>\n",
              "      <th>27</th>\n",
              "      <td>ARKANSAS</td>\n",
              "      <td>2016</td>\n",
              "    </tr>\n",
              "    <tr>\n",
              "      <th>28</th>\n",
              "      <td>KENTUCKY</td>\n",
              "      <td>2016</td>\n",
              "    </tr>\n",
              "    <tr>\n",
              "      <th>29</th>\n",
              "      <td>INDIANA</td>\n",
              "      <td>2016</td>\n",
              "    </tr>\n",
              "    <tr>\n",
              "      <th>30</th>\n",
              "      <td>NEW JERSEY</td>\n",
              "      <td>2016</td>\n",
              "    </tr>\n",
              "    <tr>\n",
              "      <th>31</th>\n",
              "      <td>NEW YORK</td>\n",
              "      <td>2016</td>\n",
              "    </tr>\n",
              "    <tr>\n",
              "      <th>32</th>\n",
              "      <td>VIRGINIA</td>\n",
              "      <td>2016</td>\n",
              "    </tr>\n",
              "    <tr>\n",
              "      <th>33</th>\n",
              "      <td>RHODE ISLAND</td>\n",
              "      <td>2016</td>\n",
              "    </tr>\n",
              "    <tr>\n",
              "      <th>34</th>\n",
              "      <td>KANSAS</td>\n",
              "      <td>2016</td>\n",
              "    </tr>\n",
              "    <tr>\n",
              "      <th>35</th>\n",
              "      <td>COLORADO</td>\n",
              "      <td>2016</td>\n",
              "    </tr>\n",
              "    <tr>\n",
              "      <th>36</th>\n",
              "      <td>VERMONT</td>\n",
              "      <td>2016</td>\n",
              "    </tr>\n",
              "    <tr>\n",
              "      <th>37</th>\n",
              "      <td>TENNESSEE</td>\n",
              "      <td>2016</td>\n",
              "    </tr>\n",
              "    <tr>\n",
              "      <th>38</th>\n",
              "      <td>MINNESOTA</td>\n",
              "      <td>2016</td>\n",
              "    </tr>\n",
              "    <tr>\n",
              "      <th>39</th>\n",
              "      <td>PENNSYLVANIA</td>\n",
              "      <td>2016</td>\n",
              "    </tr>\n",
              "    <tr>\n",
              "      <th>40</th>\n",
              "      <td>UTAH</td>\n",
              "      <td>2016</td>\n",
              "    </tr>\n",
              "    <tr>\n",
              "      <th>41</th>\n",
              "      <td>SOUTH CAROLINA</td>\n",
              "      <td>2016</td>\n",
              "    </tr>\n",
              "    <tr>\n",
              "      <th>42</th>\n",
              "      <td>MARYLAND</td>\n",
              "      <td>2016</td>\n",
              "    </tr>\n",
              "    <tr>\n",
              "      <th>43</th>\n",
              "      <td>ILLINOIS</td>\n",
              "      <td>2016</td>\n",
              "    </tr>\n",
              "    <tr>\n",
              "      <th>44</th>\n",
              "      <td>NEW HAMPSHIRE</td>\n",
              "      <td>2016</td>\n",
              "    </tr>\n",
              "    <tr>\n",
              "      <th>45</th>\n",
              "      <td>CONNECTICUT</td>\n",
              "      <td>2016</td>\n",
              "    </tr>\n",
              "    <tr>\n",
              "      <th>46</th>\n",
              "      <td>ARIZONA</td>\n",
              "      <td>2016</td>\n",
              "    </tr>\n",
              "    <tr>\n",
              "      <th>47</th>\n",
              "      <td>IOWA</td>\n",
              "      <td>2016</td>\n",
              "    </tr>\n",
              "    <tr>\n",
              "      <th>48</th>\n",
              "      <td>NEBRASKA</td>\n",
              "      <td>2016</td>\n",
              "    </tr>\n",
              "    <tr>\n",
              "      <th>49</th>\n",
              "      <td>DELAWARE</td>\n",
              "      <td>2016</td>\n",
              "    </tr>\n",
              "    <tr>\n",
              "      <th>...</th>\n",
              "      <td>...</td>\n",
              "      <td>...</td>\n",
              "    </tr>\n",
              "    <tr>\n",
              "      <th>315</th>\n",
              "      <td>NEBRASKA</td>\n",
              "      <td>2010</td>\n",
              "    </tr>\n",
              "    <tr>\n",
              "      <th>316</th>\n",
              "      <td>MONTANA</td>\n",
              "      <td>2010</td>\n",
              "    </tr>\n",
              "    <tr>\n",
              "      <th>317</th>\n",
              "      <td>OREGON</td>\n",
              "      <td>2010</td>\n",
              "    </tr>\n",
              "    <tr>\n",
              "      <th>318</th>\n",
              "      <td>WASHINGTON</td>\n",
              "      <td>2010</td>\n",
              "    </tr>\n",
              "    <tr>\n",
              "      <th>319</th>\n",
              "      <td>IDAHO</td>\n",
              "      <td>2010</td>\n",
              "    </tr>\n",
              "    <tr>\n",
              "      <th>320</th>\n",
              "      <td>ARIZONA</td>\n",
              "      <td>2010</td>\n",
              "    </tr>\n",
              "    <tr>\n",
              "      <th>321</th>\n",
              "      <td>SOUTH CAROLINA</td>\n",
              "      <td>2010</td>\n",
              "    </tr>\n",
              "    <tr>\n",
              "      <th>322</th>\n",
              "      <td>VERMONT</td>\n",
              "      <td>2010</td>\n",
              "    </tr>\n",
              "    <tr>\n",
              "      <th>323</th>\n",
              "      <td>MISSOURI</td>\n",
              "      <td>2010</td>\n",
              "    </tr>\n",
              "    <tr>\n",
              "      <th>324</th>\n",
              "      <td>UTAH</td>\n",
              "      <td>2010</td>\n",
              "    </tr>\n",
              "    <tr>\n",
              "      <th>325</th>\n",
              "      <td>NORTH DAKOTA</td>\n",
              "      <td>2010</td>\n",
              "    </tr>\n",
              "    <tr>\n",
              "      <th>326</th>\n",
              "      <td>NEW JERSEY</td>\n",
              "      <td>2010</td>\n",
              "    </tr>\n",
              "    <tr>\n",
              "      <th>327</th>\n",
              "      <td>ARKANSAS</td>\n",
              "      <td>2010</td>\n",
              "    </tr>\n",
              "    <tr>\n",
              "      <th>328</th>\n",
              "      <td>TEXAS</td>\n",
              "      <td>2010</td>\n",
              "    </tr>\n",
              "    <tr>\n",
              "      <th>329</th>\n",
              "      <td>OKLAHOMA</td>\n",
              "      <td>2010</td>\n",
              "    </tr>\n",
              "    <tr>\n",
              "      <th>330</th>\n",
              "      <td>KENTUCKY</td>\n",
              "      <td>2010</td>\n",
              "    </tr>\n",
              "    <tr>\n",
              "      <th>331</th>\n",
              "      <td>INDIANA</td>\n",
              "      <td>2010</td>\n",
              "    </tr>\n",
              "    <tr>\n",
              "      <th>332</th>\n",
              "      <td>WISCONSIN</td>\n",
              "      <td>2010</td>\n",
              "    </tr>\n",
              "    <tr>\n",
              "      <th>333</th>\n",
              "      <td>NEW HAMPSHIRE</td>\n",
              "      <td>2010</td>\n",
              "    </tr>\n",
              "    <tr>\n",
              "      <th>334</th>\n",
              "      <td>CALIFORNIA</td>\n",
              "      <td>2010</td>\n",
              "    </tr>\n",
              "    <tr>\n",
              "      <th>335</th>\n",
              "      <td>MULTISTATEOPERATION</td>\n",
              "      <td>2010</td>\n",
              "    </tr>\n",
              "    <tr>\n",
              "      <th>336</th>\n",
              "      <td>TENNESSEE</td>\n",
              "      <td>2010</td>\n",
              "    </tr>\n",
              "    <tr>\n",
              "      <th>337</th>\n",
              "      <td>COLORADO</td>\n",
              "      <td>2010</td>\n",
              "    </tr>\n",
              "    <tr>\n",
              "      <th>338</th>\n",
              "      <td>KANSAS</td>\n",
              "      <td>2010</td>\n",
              "    </tr>\n",
              "    <tr>\n",
              "      <th>339</th>\n",
              "      <td>DELAWARE</td>\n",
              "      <td>2010</td>\n",
              "    </tr>\n",
              "    <tr>\n",
              "      <th>340</th>\n",
              "      <td>OHIO</td>\n",
              "      <td>2010</td>\n",
              "    </tr>\n",
              "    <tr>\n",
              "      <th>341</th>\n",
              "      <td>VIRGINIA</td>\n",
              "      <td>2010</td>\n",
              "    </tr>\n",
              "    <tr>\n",
              "      <th>342</th>\n",
              "      <td>NORTH CAROLINA</td>\n",
              "      <td>2010</td>\n",
              "    </tr>\n",
              "    <tr>\n",
              "      <th>343</th>\n",
              "      <td>MINNESOTA</td>\n",
              "      <td>2010</td>\n",
              "    </tr>\n",
              "    <tr>\n",
              "      <th>344</th>\n",
              "      <td>MISSISSIPPI</td>\n",
              "      <td>2010</td>\n",
              "    </tr>\n",
              "    <tr>\n",
              "      <th>345</th>\n",
              "      <td>CONNECTICUT</td>\n",
              "      <td>2010</td>\n",
              "    </tr>\n",
              "    <tr>\n",
              "      <th>346</th>\n",
              "      <td>SOUTH DAKOTA</td>\n",
              "      <td>2010</td>\n",
              "    </tr>\n",
              "    <tr>\n",
              "      <th>347</th>\n",
              "      <td>MARYLAND</td>\n",
              "      <td>2010</td>\n",
              "    </tr>\n",
              "    <tr>\n",
              "      <th>348</th>\n",
              "      <td>RHODE ISLAND</td>\n",
              "      <td>2010</td>\n",
              "    </tr>\n",
              "    <tr>\n",
              "      <th>349</th>\n",
              "      <td>FLORIDA</td>\n",
              "      <td>2010</td>\n",
              "    </tr>\n",
              "    <tr>\n",
              "      <th>350</th>\n",
              "      <td>ILLINOIS</td>\n",
              "      <td>2010</td>\n",
              "    </tr>\n",
              "    <tr>\n",
              "      <th>351</th>\n",
              "      <td>MASSACHUSETTS</td>\n",
              "      <td>2010</td>\n",
              "    </tr>\n",
              "    <tr>\n",
              "      <th>352</th>\n",
              "      <td>LOUISIANA</td>\n",
              "      <td>2010</td>\n",
              "    </tr>\n",
              "    <tr>\n",
              "      <th>353</th>\n",
              "      <td>NEW YORK</td>\n",
              "      <td>2010</td>\n",
              "    </tr>\n",
              "    <tr>\n",
              "      <th>354</th>\n",
              "      <td>PENNSYLVANIA</td>\n",
              "      <td>2010</td>\n",
              "    </tr>\n",
              "    <tr>\n",
              "      <th>355</th>\n",
              "      <td>WEST VIRGINIA</td>\n",
              "      <td>2010</td>\n",
              "    </tr>\n",
              "    <tr>\n",
              "      <th>356</th>\n",
              "      <td>IOWA</td>\n",
              "      <td>2010</td>\n",
              "    </tr>\n",
              "    <tr>\n",
              "      <th>357</th>\n",
              "      <td>MICHIGAN</td>\n",
              "      <td>2010</td>\n",
              "    </tr>\n",
              "    <tr>\n",
              "      <th>358</th>\n",
              "      <td>GEORGIA</td>\n",
              "      <td>2010</td>\n",
              "    </tr>\n",
              "    <tr>\n",
              "      <th>359</th>\n",
              "      <td>MAINE</td>\n",
              "      <td>2010</td>\n",
              "    </tr>\n",
              "    <tr>\n",
              "      <th>360</th>\n",
              "      <td>PUERTO RICO</td>\n",
              "      <td>2010</td>\n",
              "    </tr>\n",
              "    <tr>\n",
              "      <th>361</th>\n",
              "      <td>ALASKA</td>\n",
              "      <td>2010</td>\n",
              "    </tr>\n",
              "    <tr>\n",
              "      <th>362</th>\n",
              "      <td>DISTRICT OF COLUMBIA</td>\n",
              "      <td>2010</td>\n",
              "    </tr>\n",
              "    <tr>\n",
              "      <th>363</th>\n",
              "      <td>WYOMING</td>\n",
              "      <td>2010</td>\n",
              "    </tr>\n",
              "    <tr>\n",
              "      <th>364</th>\n",
              "      <td>NEVADA</td>\n",
              "      <td>2010</td>\n",
              "    </tr>\n",
              "  </tbody>\n",
              "</table>\n",
              "<p>365 rows × 2 columns</p>\n",
              "</div>"
            ],
            "text/plain": [
              "                    State  Year\n",
              "0           MASSACHUSETTS  2016\n",
              "1                 MONTANA  2016\n",
              "2                  NEVADA  2016\n",
              "3                   MAINE  2016\n",
              "4                 WYOMING  2016\n",
              "5                  HAWAII  2016\n",
              "6             MISSISSIPPI  2016\n",
              "7           WEST VIRGINIA  2016\n",
              "8                   IDAHO  2016\n",
              "9                 FLORIDA  2016\n",
              "10              WISCONSIN  2016\n",
              "11         NORTH CAROLINA  2016\n",
              "12             CALIFORNIA  2016\n",
              "13                GEORGIA  2016\n",
              "14    MULTISTATEOPERATION  2016\n",
              "15           SOUTH DAKOTA  2016\n",
              "16                 OREGON  2016\n",
              "17               MICHIGAN  2016\n",
              "18               MISSOURI  2016\n",
              "19                  TEXAS  2016\n",
              "20                ALABAMA  2016\n",
              "21             NEW MEXICO  2016\n",
              "22              LOUISIANA  2016\n",
              "23           NORTH DAKOTA  2016\n",
              "24   DISTRICT OF COLUMBIA  2016\n",
              "25                   OHIO  2016\n",
              "26             WASHINGTON  2016\n",
              "27               ARKANSAS  2016\n",
              "28               KENTUCKY  2016\n",
              "29                INDIANA  2016\n",
              "30             NEW JERSEY  2016\n",
              "31               NEW YORK  2016\n",
              "32               VIRGINIA  2016\n",
              "33           RHODE ISLAND  2016\n",
              "34                 KANSAS  2016\n",
              "35               COLORADO  2016\n",
              "36                VERMONT  2016\n",
              "37              TENNESSEE  2016\n",
              "38              MINNESOTA  2016\n",
              "39           PENNSYLVANIA  2016\n",
              "40                   UTAH  2016\n",
              "41         SOUTH CAROLINA  2016\n",
              "42               MARYLAND  2016\n",
              "43               ILLINOIS  2016\n",
              "44          NEW HAMPSHIRE  2016\n",
              "45            CONNECTICUT  2016\n",
              "46                ARIZONA  2016\n",
              "47                   IOWA  2016\n",
              "48               NEBRASKA  2016\n",
              "49               DELAWARE  2016\n",
              "..                    ...   ...\n",
              "315              NEBRASKA  2010\n",
              "316               MONTANA  2010\n",
              "317                OREGON  2010\n",
              "318            WASHINGTON  2010\n",
              "319                 IDAHO  2010\n",
              "320               ARIZONA  2010\n",
              "321        SOUTH CAROLINA  2010\n",
              "322               VERMONT  2010\n",
              "323              MISSOURI  2010\n",
              "324                  UTAH  2010\n",
              "325          NORTH DAKOTA  2010\n",
              "326            NEW JERSEY  2010\n",
              "327              ARKANSAS  2010\n",
              "328                 TEXAS  2010\n",
              "329              OKLAHOMA  2010\n",
              "330              KENTUCKY  2010\n",
              "331               INDIANA  2010\n",
              "332             WISCONSIN  2010\n",
              "333         NEW HAMPSHIRE  2010\n",
              "334            CALIFORNIA  2010\n",
              "335   MULTISTATEOPERATION  2010\n",
              "336             TENNESSEE  2010\n",
              "337              COLORADO  2010\n",
              "338                KANSAS  2010\n",
              "339              DELAWARE  2010\n",
              "340                  OHIO  2010\n",
              "341              VIRGINIA  2010\n",
              "342        NORTH CAROLINA  2010\n",
              "343             MINNESOTA  2010\n",
              "344           MISSISSIPPI  2010\n",
              "345           CONNECTICUT  2010\n",
              "346          SOUTH DAKOTA  2010\n",
              "347              MARYLAND  2010\n",
              "348          RHODE ISLAND  2010\n",
              "349               FLORIDA  2010\n",
              "350              ILLINOIS  2010\n",
              "351         MASSACHUSETTS  2010\n",
              "352             LOUISIANA  2010\n",
              "353              NEW YORK  2010\n",
              "354          PENNSYLVANIA  2010\n",
              "355         WEST VIRGINIA  2010\n",
              "356                  IOWA  2010\n",
              "357              MICHIGAN  2010\n",
              "358               GEORGIA  2010\n",
              "359                 MAINE  2010\n",
              "360           PUERTO RICO  2010\n",
              "361                ALASKA  2010\n",
              "362  DISTRICT OF COLUMBIA  2010\n",
              "363               WYOMING  2010\n",
              "364                NEVADA  2010\n",
              "\n",
              "[365 rows x 2 columns]"
            ]
          },
          "metadata": {
            "tags": []
          },
          "execution_count": 122
        }
      ]
    }
  ]
}