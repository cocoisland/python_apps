{
  "nbformat": 4,
  "nbformat_minor": 0,
  "metadata": {
    "colab": {
      "name": "Copy of MNIST CNN.ipynb",
      "version": "0.3.2",
      "provenance": [],
      "include_colab_link": true
    },
    "kernelspec": {
      "name": "python3",
      "display_name": "Python 3"
    },
    "accelerator": "GPU"
  },
  "cells": [
    {
      "cell_type": "markdown",
      "metadata": {
        "id": "view-in-github",
        "colab_type": "text"
      },
      "source": [
        "<a href=\"https://colab.research.google.com/github/cocoisland/python_apps/blob/master/Copy_of_MNIST_CNN.ipynb\" target=\"_parent\"><img src=\"https://colab.research.google.com/assets/colab-badge.svg\" alt=\"Open In Colab\"/></a>"
      ]
    },
    {
      "metadata": {
        "id": "RjXybic7RdSU",
        "colab_type": "code",
        "outputId": "c573a773-f6cc-44d1-fc31-44203a200fa6",
        "colab": {
          "base_uri": "https://localhost:8080/",
          "height": 34
        }
      },
      "cell_type": "code",
      "source": [
        "import numpy as np\n",
        "import matplotlib.pyplot as plt\n",
        "import keras\n",
        "from keras.datasets import mnist\n",
        "from keras.utils import to_categorical\n",
        "from keras.models import Sequential\n",
        "from keras.layers import Dense, Dropout, Flatten, Conv2D, MaxPooling2D\n",
        "from keras import backend as K\n",
        "from keras.wrappers.scikit_learn import KerasClassifier"
      ],
      "execution_count": 0,
      "outputs": [
        {
          "output_type": "stream",
          "text": [
            "Using TensorFlow backend.\n"
          ],
          "name": "stderr"
        }
      ]
    },
    {
      "metadata": {
        "id": "DbwLdB2WSJhM",
        "colab_type": "code",
        "outputId": "e1ed82a0-9966-474a-b5e3-1c629c53c069",
        "colab": {
          "base_uri": "https://localhost:8080/",
          "height": 86
        }
      },
      "cell_type": "code",
      "source": [
        "# the data, shuffled and split between train and test sets\n",
        "(x_train, y_train), (x_test, y_test) = mnist.load_data()\n",
        "\n",
        "# What are the dimensions of a single image?\n",
        "print(x_train[0].shape)\n",
        "\n",
        "# input image dimensions\n",
        "img_rows, img_cols = 28,28\n",
        "\n",
        "if K.backend()=='tensorflow':\n",
        "    K.set_image_dim_ordering(\"th\")\n",
        "    \n",
        "print(K.image_data_format())\n",
        "\n",
        "if K.image_data_format() == 'channels_first':\n",
        "    x_train = x_train.reshape(x_train.shape[0], 1, img_rows, img_cols)\n",
        "    x_test = x_test.reshape(x_test.shape[0], 1, img_rows, img_cols)\n",
        "    input_shape = (1, img_rows, img_cols)\n",
        "else:\n",
        "    x_train = x_train.reshape(x_train.shape[0], img_rows, img_cols, 1)\n",
        "    x_test = x_test.reshape(x_test.shape[0], img_rows, img_cols, 1)\n",
        "    input_shape = (img_rows, img_cols, 1)\n",
        "\n",
        "#Only look at 2s and 7s\n",
        "num_classes = 2\n",
        "\n",
        "# Create boolean arrays for train and test\n",
        "train_picks = np.logical_or(y_train==2,y_train==7)\n",
        "test_picks = np.logical_or(y_test==2,y_test==7)\n",
        "\n",
        "# Filter train and test based on boolean arrays\n",
        "x_train = x_train[train_picks]\n",
        "x_test = x_test[test_picks]\n",
        "y_train = np.array(y_train[train_picks]==7,dtype=int)\n",
        "y_test = np.array(y_test[test_picks]==7,dtype=int)"
      ],
      "execution_count": 0,
      "outputs": [
        {
          "output_type": "stream",
          "text": [
            "Downloading data from https://s3.amazonaws.com/img-datasets/mnist.npz\n",
            "11493376/11490434 [==============================] - 2s 0us/step\n",
            "(28, 28)\n",
            "channels_first\n"
          ],
          "name": "stdout"
        }
      ]
    },
    {
      "metadata": {
        "id": "Z5YH7i_MSW7d",
        "colab_type": "code",
        "outputId": "e3430d1b-dc7e-4dd2-fc44-c8aacc6e1cd4",
        "colab": {
          "base_uri": "https://localhost:8080/",
          "height": 69
        }
      },
      "cell_type": "code",
      "source": [
        "# Scale pixel values to be floats between 0 and 1\n",
        "x_train = x_train.astype('float32')\n",
        "x_test = x_test.astype('float32')\n",
        "x_train /= 255\n",
        "x_test /= 255\n",
        "\n",
        "print('x_train shape:', x_train.shape)\n",
        "print(x_train.shape[0], 'train samples')\n",
        "print(x_test.shape[0], 'test samples')\n",
        "\n",
        "# convert class vectors to binary class matrices\n",
        "y_train = to_categorical(y_train, num_classes)\n",
        "y_test = to_categorical(y_test, num_classes)"
      ],
      "execution_count": 0,
      "outputs": [
        {
          "output_type": "stream",
          "text": [
            "x_train shape: (12223, 1, 28, 28)\n",
            "12223 train samples\n",
            "2060 test samples\n"
          ],
          "name": "stdout"
        }
      ]
    },
    {
      "metadata": {
        "id": "OYOixG5IVG0M",
        "colab_type": "code",
        "outputId": "dfdfdcb7-f371-4c48-8aef-3bfede18bc68",
        "colab": {
          "base_uri": "https://localhost:8080/",
          "height": 141
        }
      },
      "cell_type": "code",
      "source": [
        "model = Sequential()\n",
        "model.add(Conv2D(4, kernel_size=(3, 3), activation='relu', input_shape=input_shape)) \n",
        "model.add(Conv2D(8, (3, 3), activation='relu'))\n",
        "model.add(MaxPooling2D(pool_size=(2, 2)))\n",
        "model.add(Dropout(0.25)) \n",
        "\n",
        "model.add(Flatten())\n",
        "model.add(Dense(16, activation='relu'))\n",
        "model.add(Dropout(0.5))\n",
        "model.add(Dense(2, activation='softmax'))\n",
        "\n",
        "model.compile(loss=keras.losses.categorical_crossentropy, optimizer=keras.optimizers.Adadelta(), metrics=['accuracy'])\n",
        "\n",
        "np.random.seed(42)"
      ],
      "execution_count": 0,
      "outputs": [
        {
          "output_type": "stream",
          "text": [
            "WARNING:tensorflow:From /usr/local/lib/python3.6/dist-packages/tensorflow/python/framework/op_def_library.py:263: colocate_with (from tensorflow.python.framework.ops) is deprecated and will be removed in a future version.\n",
            "Instructions for updating:\n",
            "Colocations handled automatically by placer.\n",
            "WARNING:tensorflow:From /usr/local/lib/python3.6/dist-packages/keras/backend/tensorflow_backend.py:3445: calling dropout (from tensorflow.python.ops.nn_ops) with keep_prob is deprecated and will be removed in a future version.\n",
            "Instructions for updating:\n",
            "Please use `rate` instead of `keep_prob`. Rate should be set to `rate = 1 - keep_prob`.\n"
          ],
          "name": "stdout"
        }
      ]
    },
    {
      "metadata": {
        "id": "CEJTA9MGVbpF",
        "colab_type": "code",
        "outputId": "8421913b-4151-4028-d6e5-4aaff005e485",
        "colab": {
          "base_uri": "https://localhost:8080/",
          "height": 454
        }
      },
      "cell_type": "code",
      "source": [
        "batch_size = 32\n",
        "epochs = 10\n",
        "\n",
        "fitted_model = model.fit(x_train, y_train, batch_size=batch_size, epochs=epochs, validation_data=(x_test, y_test), shuffle=True)"
      ],
      "execution_count": 0,
      "outputs": [
        {
          "output_type": "stream",
          "text": [
            "WARNING:tensorflow:From /usr/local/lib/python3.6/dist-packages/tensorflow/python/ops/math_ops.py:3066: to_int32 (from tensorflow.python.ops.math_ops) is deprecated and will be removed in a future version.\n",
            "Instructions for updating:\n",
            "Use tf.cast instead.\n",
            "Train on 12223 samples, validate on 2060 samples\n",
            "Epoch 1/10\n",
            "12223/12223 [==============================] - 6s 458us/step - loss: 0.1133 - acc: 0.9590 - val_loss: 0.0710 - val_acc: 0.9801\n",
            "Epoch 2/10\n",
            "12223/12223 [==============================] - 3s 223us/step - loss: 0.0579 - acc: 0.9830 - val_loss: 0.0564 - val_acc: 0.9830\n",
            "Epoch 3/10\n",
            "12223/12223 [==============================] - 3s 222us/step - loss: 0.0529 - acc: 0.9848 - val_loss: 0.0587 - val_acc: 0.9840\n",
            "Epoch 4/10\n",
            "12223/12223 [==============================] - 3s 224us/step - loss: 0.0464 - acc: 0.9868 - val_loss: 0.0463 - val_acc: 0.9864\n",
            "Epoch 5/10\n",
            "12223/12223 [==============================] - 3s 225us/step - loss: 0.0402 - acc: 0.9873 - val_loss: 0.0452 - val_acc: 0.9879\n",
            "Epoch 6/10\n",
            "12223/12223 [==============================] - 3s 224us/step - loss: 0.0376 - acc: 0.9889 - val_loss: 0.0393 - val_acc: 0.9879\n",
            "Epoch 7/10\n",
            "12223/12223 [==============================] - 3s 221us/step - loss: 0.0324 - acc: 0.9902 - val_loss: 0.0411 - val_acc: 0.9883\n",
            "Epoch 8/10\n",
            "12223/12223 [==============================] - 3s 222us/step - loss: 0.0355 - acc: 0.9896 - val_loss: 0.0357 - val_acc: 0.9888\n",
            "Epoch 9/10\n",
            "12223/12223 [==============================] - 3s 222us/step - loss: 0.0356 - acc: 0.9891 - val_loss: 0.0431 - val_acc: 0.9883\n",
            "Epoch 10/10\n",
            "12223/12223 [==============================] - 3s 221us/step - loss: 0.0301 - acc: 0.9912 - val_loss: 0.0365 - val_acc: 0.9903\n"
          ],
          "name": "stdout"
        }
      ]
    },
    {
      "metadata": {
        "id": "lud3Ug1VX9Hh",
        "colab_type": "code",
        "colab": {}
      },
      "cell_type": "code",
      "source": [
        ""
      ],
      "execution_count": 0,
      "outputs": []
    }
  ]
}