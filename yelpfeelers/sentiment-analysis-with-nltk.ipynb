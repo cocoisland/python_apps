{
 "cells": [
  {
   "cell_type": "markdown",
   "metadata": {
    "_uuid": "9e2dfa0870ebbc9e8ab65299aad2cf5328e34fdf"
   },
   "source": [
    "# Sentiment Analysis of Evaluation Statements (aka User Reviews)\n",
    "Kakia Chatsiou, January 2018\n",
    "\n",
    "This notebook presents a very simple way to conduct sentiment analysis using the *Natural Language Toolkit* for Python. Code is taken from the [NLTK Sentiment Analysis](http://www.nltk.org/howto/sentiment.html) page, Peter Nagy's [Python NLTK sentiment analysis](https://www.kaggle.com/ngyptr/python-nltk-sentiment-analysis) Kaggle Kernel and Jagan's [What's in a review? - Yelp ratings EDA](https://www.kaggle.com/jagangupta/what-s-in-a-review-yelp-ratings-eda) notebook.\n",
    "\n",
    "*Sentiment Analysis* is\n",
    "*Evaluation Review statements* are\n",
    "\n",
    "This notebook, describes the implementation of sentiment analysis to an imaginary test set of evaluation statements, using Python, via NLTK (the Natural Language Toolkit). I try to explain the steps followed in as much detail as possible - comments are welcome at the end of this notebook.\n",
    "\n",
    "## Loading the necessary packages"
   ]
  },
  {
   "cell_type": "code",
   "execution_count": 3,
   "metadata": {
    "_cell_guid": "b1076dfc-b9ad-4769-8c92-a6c4dae69d19",
    "_kg_hide-output": false,
    "_uuid": "4b203aefd23f0d4acdeb0dad0df3e1833f25fff7"
   },
   "outputs": [
    {
     "name": "stdout",
     "output_type": "stream",
     "text": [
      "['yelp_academic_dataset_review.json.zip', 'yelp_academic_dataset_business.json.zip', 'review.json', 'yelp_academic_dataset_checkin.json.zip', 'yelp_academic_dataset_review.json', 'yelp_academic_dataset_user.json.zip', 'yelp_academic_dataset_tip.json.zip']\n"
     ]
    }
   ],
   "source": [
    "# This Python 3 environment comes with many helpful analytics libraries installed\n",
    "# It is defined by the kaggle/python docker image: https://github.com/kaggle/docker-python\n",
    "# For example, here's several helpful packages to load in \n",
    "\n",
    "import numpy as np # linear algebra\n",
    "import pandas as pd # data processing, CSV file I/O (e.g. pd.read_csv)\n",
    "from sklearn.model_selection import train_test_split # function for splitting data to train and test sets\n",
    "\n",
    "# Load NLTK\n",
    "import nltk\n",
    "from nltk.classify import NaiveBayesClassifier\n",
    "from nltk.corpus import subjectivity\n",
    "from nltk.sentiment import SentimentAnalyzer\n",
    "from nltk.sentiment.util import *\n",
    "from nltk.corpus import stopwords\n",
    "from nltk.classify import SklearnClassifier\n",
    "\n",
    "# Load wordcloud visualisations\n",
    "from wordcloud import WordCloud,STOPWORDS\n",
    "\n",
    "# Load matplot\n",
    "import matplotlib.pyplot as plt\n",
    "%matplotlib inline\n",
    "\n",
    "# Input data files are available in the \"../input/\" directory.\n",
    "# For example, running this (by clicking run or pressing Shift+Enter) will list the files in the input directory\n",
    "\n",
    "import os\n",
    "print(os.listdir(\"./input\"))\n",
    "\n",
    "# Any results you write to the current directory are saved as output.\n",
    "\n",
    "from subprocess import check_output"
   ]
  },
  {
   "cell_type": "markdown",
   "metadata": {
    "_uuid": "f246a33ea3effb52cb9b4ba14615ff1b6f09e615"
   },
   "source": [
    "*1. Setting up the necessary packages*\n",
    "\n",
    "The first step is to  import all the related packages from nltk that relate to sentiment analysis:\n"
   ]
  },
  {
   "cell_type": "code",
   "execution_count": 4,
   "metadata": {
    "_uuid": "1f729293aaa0bc5871c2a51f9dfc295d013681df"
   },
   "outputs": [
    {
     "data": {
      "text/html": [
       "<div>\n",
       "<style scoped>\n",
       "    .dataframe tbody tr th:only-of-type {\n",
       "        vertical-align: middle;\n",
       "    }\n",
       "\n",
       "    .dataframe tbody tr th {\n",
       "        vertical-align: top;\n",
       "    }\n",
       "\n",
       "    .dataframe thead th {\n",
       "        text-align: right;\n",
       "    }\n",
       "</style>\n",
       "<table border=\"1\" class=\"dataframe\">\n",
       "  <thead>\n",
       "    <tr style=\"text-align: right;\">\n",
       "      <th></th>\n",
       "      <th>review_id</th>\n",
       "      <th>user_id</th>\n",
       "      <th>business_id</th>\n",
       "      <th>stars</th>\n",
       "      <th>useful</th>\n",
       "      <th>funny</th>\n",
       "      <th>cool</th>\n",
       "      <th>text</th>\n",
       "      <th>date</th>\n",
       "    </tr>\n",
       "  </thead>\n",
       "  <tbody>\n",
       "    <tr>\n",
       "      <th>0</th>\n",
       "      <td>Q1sbwvVQXV2734tPgoKj4Q</td>\n",
       "      <td>hG7b0MtEbXx5QzbzE6C_VA</td>\n",
       "      <td>ujmEBvifdJM6h6RLv4wQIg</td>\n",
       "      <td>1.0</td>\n",
       "      <td>6</td>\n",
       "      <td>1</td>\n",
       "      <td>0</td>\n",
       "      <td>Total bill for this horrible service? Over $8G...</td>\n",
       "      <td>2013-05-07 04:34:36</td>\n",
       "    </tr>\n",
       "    <tr>\n",
       "      <th>1</th>\n",
       "      <td>GJXCdrto3ASJOqKeVWPi6Q</td>\n",
       "      <td>yXQM5uF2jS6es16SJzNHfg</td>\n",
       "      <td>NZnhc2sEQy3RmzKTZnqtwQ</td>\n",
       "      <td>5.0</td>\n",
       "      <td>0</td>\n",
       "      <td>0</td>\n",
       "      <td>0</td>\n",
       "      <td>I *adore* Travis at the Hard Rock's new Kelly ...</td>\n",
       "      <td>2017-01-14 21:30:33</td>\n",
       "    </tr>\n",
       "    <tr>\n",
       "      <th>2</th>\n",
       "      <td>2TzJjDVDEuAW6MR5Vuc1ug</td>\n",
       "      <td>n6-Gk65cPZL6Uz8qRm3NYw</td>\n",
       "      <td>WTqjgwHlXbSFevF32_DJVw</td>\n",
       "      <td>5.0</td>\n",
       "      <td>3</td>\n",
       "      <td>0</td>\n",
       "      <td>0</td>\n",
       "      <td>I have to say that this office really has it t...</td>\n",
       "      <td>2016-11-09 20:09:03</td>\n",
       "    </tr>\n",
       "    <tr>\n",
       "      <th>3</th>\n",
       "      <td>yi0R0Ugj_xUx_Nek0-_Qig</td>\n",
       "      <td>dacAIZ6fTM6mqwW5uxkskg</td>\n",
       "      <td>ikCg8xy5JIg_NGPx-MSIDA</td>\n",
       "      <td>5.0</td>\n",
       "      <td>0</td>\n",
       "      <td>0</td>\n",
       "      <td>0</td>\n",
       "      <td>Went in for a lunch. Steak sandwich was delici...</td>\n",
       "      <td>2018-01-09 20:56:38</td>\n",
       "    </tr>\n",
       "    <tr>\n",
       "      <th>4</th>\n",
       "      <td>11a8sVPMUFtaC7_ABRkmtw</td>\n",
       "      <td>ssoyf2_x0EQMed6fgHeMyQ</td>\n",
       "      <td>b1b1eb3uo-w561D0ZfCEiQ</td>\n",
       "      <td>1.0</td>\n",
       "      <td>7</td>\n",
       "      <td>0</td>\n",
       "      <td>0</td>\n",
       "      <td>Today was my second out of three sessions I ha...</td>\n",
       "      <td>2018-01-30 23:07:38</td>\n",
       "    </tr>\n",
       "  </tbody>\n",
       "</table>\n",
       "</div>"
      ],
      "text/plain": [
       "                review_id                 user_id             business_id  \\\n",
       "0  Q1sbwvVQXV2734tPgoKj4Q  hG7b0MtEbXx5QzbzE6C_VA  ujmEBvifdJM6h6RLv4wQIg   \n",
       "1  GJXCdrto3ASJOqKeVWPi6Q  yXQM5uF2jS6es16SJzNHfg  NZnhc2sEQy3RmzKTZnqtwQ   \n",
       "2  2TzJjDVDEuAW6MR5Vuc1ug  n6-Gk65cPZL6Uz8qRm3NYw  WTqjgwHlXbSFevF32_DJVw   \n",
       "3  yi0R0Ugj_xUx_Nek0-_Qig  dacAIZ6fTM6mqwW5uxkskg  ikCg8xy5JIg_NGPx-MSIDA   \n",
       "4  11a8sVPMUFtaC7_ABRkmtw  ssoyf2_x0EQMed6fgHeMyQ  b1b1eb3uo-w561D0ZfCEiQ   \n",
       "\n",
       "   stars  useful  funny  cool  \\\n",
       "0    1.0       6      1     0   \n",
       "1    5.0       0      0     0   \n",
       "2    5.0       3      0     0   \n",
       "3    5.0       0      0     0   \n",
       "4    1.0       7      0     0   \n",
       "\n",
       "                                                text                 date  \n",
       "0  Total bill for this horrible service? Over $8G...  2013-05-07 04:34:36  \n",
       "1  I *adore* Travis at the Hard Rock's new Kelly ...  2017-01-14 21:30:33  \n",
       "2  I have to say that this office really has it t...  2016-11-09 20:09:03  \n",
       "3  Went in for a lunch. Steak sandwich was delici...  2018-01-09 20:56:38  \n",
       "4  Today was my second out of three sessions I ha...  2018-01-30 23:07:38  "
      ]
     },
     "execution_count": 4,
     "metadata": {},
     "output_type": "execute_result"
    }
   ],
   "source": [
    "import json \n",
    "import pandas as pd\n",
    "\n",
    "i=0\n",
    "df = pd.DataFrame([])\n",
    "with open('./input/review.json', 'r') as f:\n",
    "    for line in f:\n",
    "        data = json.loads(line)\n",
    "        df1 = pd.DataFrame(data, index=[i])\n",
    "        df = df.append(df1)\n",
    "        i += 1\n",
    "        \n",
    "df.head()"
   ]
  },
  {
   "cell_type": "code",
   "execution_count": 7,
   "metadata": {},
   "outputs": [
    {
     "name": "stderr",
     "output_type": "stream",
     "text": [
      "[nltk_data] Downloading package subjectivity to /home/tt/nltk_data...\n",
      "[nltk_data]   Unzipping corpora/subjectivity.zip.\n"
     ]
    },
    {
     "data": {
      "text/plain": [
       "True"
      ]
     },
     "execution_count": 7,
     "metadata": {},
     "output_type": "execute_result"
    }
   ],
   "source": [
    "import nltk\n",
    "nltk.download('subjectivity')"
   ]
  },
  {
   "cell_type": "markdown",
   "metadata": {
    "_uuid": "7a75bc70826c9d57146103c713db098dc7e26478"
   },
   "source": [
    "*2. Creating the datasets (subjective and objective sentences)*"
   ]
  },
  {
   "cell_type": "code",
   "execution_count": 8,
   "metadata": {
    "_uuid": "0e5edc639dc39994cecf7b0dfa70a019c595955e"
   },
   "outputs": [
    {
     "data": {
      "text/plain": [
       "(100, 100)"
      ]
     },
     "execution_count": 8,
     "metadata": {},
     "output_type": "execute_result"
    }
   ],
   "source": [
    "n_instances = 100\n",
    "subj_docs = [(sent, 'subj') for sent in subjectivity.sents(categories='subj')[:n_instances]]\n",
    "obj_docs = [(sent, 'obj') for sent in subjectivity.sents(categories='obj')[:n_instances]]\n",
    "len(subj_docs), len(obj_docs)\n",
    "#output should be (100, 100)"
   ]
  },
  {
   "cell_type": "code",
   "execution_count": 37,
   "metadata": {},
   "outputs": [
    {
     "data": {
      "text/plain": [
       "'obj'"
      ]
     },
     "execution_count": 37,
     "metadata": {},
     "output_type": "execute_result"
    }
   ],
   "source": [
    "obj_docs[0][1]\n"
   ]
  },
  {
   "cell_type": "code",
   "execution_count": null,
   "metadata": {},
   "outputs": [],
   "source": []
  },
  {
   "cell_type": "markdown",
   "metadata": {
    "_uuid": "1917297c40615ef21db966d94fd9978c44d1b947"
   },
   "source": [
    "Each Document is represented by a tuple (ie. in the form <sentence, label>. The sentence is tokenised, so it is represented by a _list of strings_."
   ]
  },
  {
   "cell_type": "code",
   "execution_count": 36,
   "metadata": {
    "_uuid": "5ed8790ab8d6a0c9cb74554f34bde3d7afd16a73"
   },
   "outputs": [
    {
     "data": {
      "text/plain": [
       "(['the',\n",
       "  'movie',\n",
       "  'begins',\n",
       "  'in',\n",
       "  'the',\n",
       "  'past',\n",
       "  'where',\n",
       "  'a',\n",
       "  'young',\n",
       "  'boy',\n",
       "  'named',\n",
       "  'sam',\n",
       "  'attempts',\n",
       "  'to',\n",
       "  'save',\n",
       "  'celebi',\n",
       "  'from',\n",
       "  'a',\n",
       "  'hunter',\n",
       "  '.'],\n",
       " 'obj')"
      ]
     },
     "execution_count": 36,
     "metadata": {},
     "output_type": "execute_result"
    }
   ],
   "source": [
    "obj_docs[0]\n",
    "# Output should be: (['smart', 'and', 'alert', ',', 'thirteen', 'conversations', 'about', 'one',\n",
    "# 'thing', 'is', 'a', 'small', 'gem', '.'], 'subj')"
   ]
  },
  {
   "cell_type": "markdown",
   "metadata": {
    "_uuid": "6fb6b512966396f7fae8ffa68e7e10eab4b013c9"
   },
   "source": [
    "Subjective and objective instances were split separately, to keep a balanced uniform class distribution in both train and test sets."
   ]
  },
  {
   "cell_type": "code",
   "execution_count": 20,
   "metadata": {
    "_uuid": "f0131d15ee005d8a685361108a803b69a5ffc763"
   },
   "outputs": [],
   "source": [
    "train_subj_docs = subj_docs[:80]\n",
    "test_subj_docs = subj_docs[80:100]\n",
    "train_obj_docs = obj_docs[:80]\n",
    "test_obj_docs = obj_docs[80:100]\n",
    "training_docs = train_subj_docs+train_obj_docs\n",
    "testing_docs = test_subj_docs+test_obj_docs\n",
    "\n",
    "sentim_analyzer = SentimentAnalyzer()\n",
    "all_words_neg = sentim_analyzer.all_words([mark_negation(doc) for doc in training_docs])\n"
   ]
  },
  {
   "cell_type": "markdown",
   "metadata": {
    "_uuid": "4fac6d9281526b87332598142fd362ed2683fba9"
   },
   "source": [
    "Simple unigram word features are then used, handling negation:"
   ]
  },
  {
   "cell_type": "code",
   "execution_count": 21,
   "metadata": {
    "_uuid": "bbea6aa7a48e740d2f581a9c2d975579ed9a9395"
   },
   "outputs": [],
   "source": [
    "unigram_feats = sentim_analyzer.unigram_word_feats(all_words_neg, min_freq=4)\n",
    "len(unigram_feats)\n",
    "# output: 83\n",
    "sentim_analyzer.add_feat_extractor(extract_unigram_feats, unigrams=unigram_feats)"
   ]
  },
  {
   "cell_type": "markdown",
   "metadata": {
    "_kg_hide-output": true,
    "_uuid": "9084ede0df43e13d338a5b6059a8f7dd35ae7538"
   },
   "source": [
    "Then, features are applied to obtain a feature-value representation of the datasets:"
   ]
  },
  {
   "cell_type": "code",
   "execution_count": 22,
   "metadata": {
    "_uuid": "d2b3af74241f9ef8fce7bb5ce854f7db7af2bf2e"
   },
   "outputs": [],
   "source": [
    "training_set = sentim_analyzer.apply_features(training_docs)\n",
    "test_set = sentim_analyzer.apply_features(testing_docs)"
   ]
  },
  {
   "cell_type": "markdown",
   "metadata": {
    "_uuid": "803f324dcb1bb1691b39b7606cc637b8082e0ccf"
   },
   "source": [
    "At this stage, we are ready to train our classifier on the training set, and output the evaluation results:"
   ]
  },
  {
   "cell_type": "code",
   "execution_count": 23,
   "metadata": {
    "_uuid": "bdd59eaeab2e5ba8c9ea2b2094d70da3f614fb8b"
   },
   "outputs": [
    {
     "name": "stdout",
     "output_type": "stream",
     "text": [
      "Training classifier\n",
      "Evaluating NaiveBayesClassifier results...\n",
      "Accuracy: 0.8\n",
      "F-measure [obj]: 0.8\n",
      "F-measure [subj]: 0.8\n",
      "Precision [obj]: 0.8\n",
      "Precision [subj]: 0.8\n",
      "Recall [obj]: 0.8\n",
      "Recall [subj]: 0.8\n"
     ]
    }
   ],
   "source": [
    "trainer = NaiveBayesClassifier.train\n",
    "classifier = sentim_analyzer.train(trainer, training_set)\n",
    "# output: Training classifier\n",
    "for key,value in sorted(sentim_analyzer.evaluate(test_set).items()):\n",
    "    print('{0}: {1}'.format(key, value))\n",
    "#Outputs:\n",
    "#Evaluating NaiveBayesClassifier results...\n",
    "#Accuracy: 0.8\n",
    "#F-measure [obj]: 0.8\n",
    "#F-measure [subj]: 0.8\n",
    "#Precision [obj]: 0.8\n",
    "#Precision [subj]: 0.8\n",
    "#Recall [obj]: 0.8\n",
    "#Recall [subj]: 0.8"
   ]
  },
  {
   "cell_type": "markdown",
   "metadata": {
    "_kg_hide-input": true,
    "_kg_hide-output": true,
    "_uuid": "c03fa7433dc831792fc86a92f411507c068bb6e0",
    "collapsed": true
   },
   "source": [
    "*3. Loading the Vader statements from the NLTK sentiment library*\n",
    "\n",
    "Importing the NLTK package:"
   ]
  },
  {
   "cell_type": "code",
   "execution_count": 24,
   "metadata": {
    "_uuid": "5e55e416ec3fe049805f8b99802e2625ef3c1303"
   },
   "outputs": [],
   "source": [
    "from nltk.sentiment.vader import SentimentIntensityAnalyzer"
   ]
  },
  {
   "cell_type": "markdown",
   "metadata": {
    "_uuid": "472a30523e06bfa5bfad1a8150a12320ef795877"
   },
   "source": [
    "Defining list of test sentences:"
   ]
  },
  {
   "cell_type": "code",
   "execution_count": null,
   "metadata": {
    "_uuid": "d84c4835ec213b4954f8486daf7151eee5eb5572",
    "collapsed": true
   },
   "outputs": [],
   "source": [
    "sentences = [\"VADER is smart, handsome, and funny.\", # positive sentence example\n",
    "   \"VADER is smart, handsome, and funny!\", # punctuation emphasis handled correctly (sentiment intensity adjusted)\n",
    "   \"VADER is very smart, handsome, and funny.\",  # booster words handled correctly (sentiment intensity adjusted)\n",
    "   \"VADER is VERY SMART, handsome, and FUNNY.\",  # emphasis for ALLCAPS handled\n",
    "   \"VADER is VERY SMART, handsome, and FUNNY!!!\",# combination of signals - VADER appropriately adjusts intensity\n",
    "   \"VADER is VERY SMART, really handsome, and INCREDIBLY FUNNY!!!\",# booster words & punctuation make this close to ceiling for score\n",
    "   \"The book was good.\",         # positive sentence\n",
    "   \"The book was kind of good.\", # qualified positive sentence is handled correctly (intensity adjusted)\n",
    "   \"The plot was good, but the characters are uncompelling and the dialog is not great.\", # mixed negation sentence\n",
    "   \"A really bad, horrible book.\",       # negative sentence with booster words\n",
    "   \"At least it isn't a horrible book.\", # negated negative sentence with contraction\n",
    "   \":) and :D\",     # emoticons handled\n",
    "   \"\",              # an empty string is correctly handled\n",
    "   \"Today sux\",     #  negative slang handled\n",
    "   \"Today sux!\",    #  negative slang with punctuation emphasis handled\n",
    "   \"Today SUX!\",    #  negative slang with capitalization emphasis\n",
    "   \"Today kinda sux! But I'll get by, lol\" # mixed sentiment example with slang and constrastive conjunction \"but\"\n",
    "]"
   ]
  },
  {
   "cell_type": "markdown",
   "metadata": {
    "_uuid": "b7bd871d29e438c8f5c487476b52fe42f037c943"
   },
   "source": [
    "Defining 'tricky' sentences dataset:"
   ]
  },
  {
   "cell_type": "code",
   "execution_count": null,
   "metadata": {
    "_uuid": "03fac0e8aa4d93d0b40276823864b5125a04637d",
    "collapsed": true
   },
   "outputs": [],
   "source": [
    "tricky_sentences = [\n",
    "    \"Most automated sentiment analysis tools are shit.\",\n",
    "    \"VADER sentiment analysis is the shit.\",\n",
    "    \"Sentiment analysis has never been good.\",\n",
    "    \"Sentiment analysis with VADER has never been this good.\",\n",
    "    \"Warren Beatty has never been so entertaining.\",\n",
    "    \"I won't say that the movie is astounding and I wouldn't claim that \\\n",
    "    the movie is too banal either.\",\n",
    "    \"I like to hate Michael Bay films, but I couldn't fault this one\",\n",
    "    \"It's one thing to watch an Uwe Boll film, but another thing entirely \\\n",
    "    to pay for it\",\n",
    "    \"The movie was too good\",\n",
    "    \"This movie was actually neither that funny, nor super witty.\",\n",
    "    \"This movie doesn't care about cleverness, wit or any other kind of \\\n",
    "    intelligent humor.\",\n",
    "    \"Those who find ugly meanings in beautiful things are corrupt without \\\n",
    "    being charming.\",\n",
    "    \"There are slow and repetitive parts, BUT it has just enough spice to \\\n",
    "    keep it interesting.\",\n",
    "    \"The script is not fantastic, but the acting is decent and the cinematography \\\n",
    "    is EXCELLENT!\",\n",
    "    \"Roger Dodger is one of the most compelling variations on this theme.\",\n",
    "    \"Roger Dodger is one of the least compelling variations on this theme.\",\n",
    "    \"Roger Dodger is at least compelling as a variation on the theme.\",\n",
    "    \"they fall in love with the product\",\n",
    "    \"but then it breaks\",\n",
    "    \"usually around the time the 90 day warranty expires\",\n",
    "    \"the twin towers collapsed today\",\n",
    "    \"However, Mr. Carter solemnly argues, his client carried out the kidnapping \\\n",
    "    under orders and in the ''least offensive way possible.''\"\n",
    " ]\n",
    "\n",
    "sentences.extend(tricky_sentences)"
   ]
  },
  {
   "cell_type": "markdown",
   "metadata": {
    "_uuid": "8d227248e5a8ccd39ada599742f9f177cb462fd5"
   },
   "source": [
    "Handling paragraphs:"
   ]
  },
  {
   "cell_type": "code",
   "execution_count": null,
   "metadata": {
    "_uuid": "2e1f145c46cc70b5f5788062a79485072bda853f",
    "collapsed": true
   },
   "outputs": [],
   "source": [
    "paragraph = \"It was one of the worst movies I've seen, despite good reviews. \\\n",
    " Unbelievably bad acting!! Poor direction. VERY poor production. \\\n",
    " The movie was bad. Very bad movie. VERY bad movie. VERY BAD movie. VERY BAD movie!\""
   ]
  },
  {
   "cell_type": "markdown",
   "metadata": {
    "_uuid": "80bf66cb192aaafe4ce6f12e9228c1cea9f61264"
   },
   "source": [
    "Tokenising sentences:"
   ]
  },
  {
   "cell_type": "code",
   "execution_count": null,
   "metadata": {
    "_uuid": "1ee0c73c147f43033765b29dc14faf56867da334",
    "collapsed": true
   },
   "outputs": [],
   "source": [
    "from nltk import tokenize\n",
    "lines_list = tokenize.sent_tokenize(paragraph)\n",
    "sentences.extend(lines_list)"
   ]
  },
  {
   "cell_type": "code",
   "execution_count": 28,
   "metadata": {},
   "outputs": [],
   "source": [
    "sentences = df.text.tolist()\n"
   ]
  },
  {
   "cell_type": "code",
   "execution_count": 29,
   "metadata": {},
   "outputs": [
    {
     "data": {
      "text/plain": [
       "['Total bill for this horrible service? Over $8Gs. These crooks actually had the nerve to charge us $69 for 3 pills. I checked online the pills can be had for 19 cents EACH! Avoid Hospital ERs at all costs.',\n",
       " \"I *adore* Travis at the Hard Rock's new Kelly Cardenas Salon!  I'm always a fan of a great blowout and no stranger to the chains that offer this service; however, Travis has taken the flawless blowout to a whole new level!  \\n\\nTravis's greets you with his perfectly green swoosh in his otherwise perfectly styled black hair and a Vegas-worthy rockstar outfit.  Next comes the most relaxing and incredible shampoo -- where you get a full head message that could cure even the very worst migraine in minutes --- and the scented shampoo room.  Travis has freakishly strong fingers (in a good way) and use the perfect amount of pressure.  That was superb!  Then starts the glorious blowout... where not one, not two, but THREE people were involved in doing the best round-brush action my hair has ever seen.  The team of stylists clearly gets along extremely well, as it's evident from the way they talk to and help one another that it's really genuine and not some corporate requirement.  It was so much fun to be there! \\n\\nNext Travis started with the flat iron.  The way he flipped his wrist to get volume all around without over-doing it and making me look like a Texas pagent girl was admirable.  It's also worth noting that he didn't fry my hair -- something that I've had happen before with less skilled stylists.  At the end of the blowout & style my hair was perfectly bouncey and looked terrific.  The only thing better?  That this awesome blowout lasted for days! \\n\\nTravis, I will see you every single time I'm out in Vegas.  You make me feel beauuuutiful!\",\n",
       " \"I have to say that this office really has it together, they are so organized and friendly!  Dr. J. Phillipp is a great dentist, very friendly and professional.  The dental assistants that helped in my procedure were amazing, Jewel and Bailey helped me to feel comfortable!  I don't have dental insurance, but they have this insurance through their office you can purchase for $80 something a year and this gave me 25% off all of my dental work, plus they helped me get signed up for care credit which I knew nothing about before this visit!  I highly recommend this office for the nice synergy the whole office has!\",\n",
       " \"Went in for a lunch. Steak sandwich was delicious, and the Caesar salad had an absolutely delicious dressing, with a perfect amount of dressing, and distributed perfectly across each leaf. I know I'm going on about the salad ... But it was perfect.\\n\\nDrink prices were pretty good.\\n\\nThe Server, Dawn, was friendly and accommodating. Very happy with her.\\n\\nIn summation, a great pub experience. Would go again!\",\n",
       " 'Today was my second out of three sessions I had paid for. Although my first session went well, I could tell Meredith had a particular enjoyment for her male clients over her female. However, I returned because she did my teeth fine and I was pleased with the results. When I went in today, I was in the whitening room with three other gentlemen. My appointment started out well, although, being a person who is in the service industry, I always attend to my female clientele first when a couple arrives. Unbothered by those signs, I waited my turn. She checked on me once after my original 30 minute timer to ask if I was ok. She attended my boyfriend on numerous occasions, as well as the other men, and would exit the room without even asking me or looking to see if I had any irritation. Half way through, another woman had showed up who she was explaining the deals to in the lobby. While she admits timers must be reset half way through the process, she reset my boyfriends, left, rest the gentleman furthest away from me who had time to come in, redeem his deal, get set, and gave his timer done, before me, then left, and at this point my time was at 10 minutes. So, she should have reset it 5 minutes ago, according to her. While I sat there patiently this whole time with major pain in my gums, i watched the time until the lamp shut off. Not only had she reset two others, explained deals to other guest, but she never once checked on my time. When my light turned off, I released the stance of my mouth to a more relaxed state, assuming I was only getting a thirty minute session instead of the usual 45, because she had yet to come in. At this point, the teeth formula was not only burning the gum she neglected for 25 minutes now, but it began to burn my lips. I began squealing and slapping my chair trying to get her attention from the other room in a panic. I was in so much pain, that by the time she entered the room I was already out of my chair. She finally then acknowledged me, and asked if she could put vitamin E on my gum burn (pictured below). At this point, she has treated two other gums burns, while neglecting me, and I was so irritated that I had to suffer, all I wanted was to leave. While I waited for my boyfriend, she kept harassing me about the issue. Saying, \"well burns come with teeth whitening.\" While I totally agree, and under justifiable circumstances would not be as irritate, it could have easily been avoid if she had checked on me even a second time, so I could let her know. Not only did she never check on my physical health, she couldn\\'t even take two seconds to reset the timer, which she even admitted to me. Her accuse was that she was coming in to do it, but I had the light off for a solid two minutes before I couldn\\'t stand the pain. She admitted it should be reset every 15 minutes, which means for 25 minutes she did not bother to help me at all. Her guest in the lobby then proceeded to attack me as well, simply because I wanted to leave after the way I was treated. I also expected a refund for not getting a complete session today, due to the neglect, and the fact I won\\'t be returning for my last, she had failed to do that. She was even screaming from the door, and continued to until my boyfriend and I were down the steps. I have never in my life been more appalled by a grown woman\\'s behavior, who claims to be in the business for \"10 years.\" Admit your wrongs, but don\\'t make your guest feel unwelcome because you can\\'t do you job properly.',\n",
       " 'I\\'ll be the first to admit that I was not excited about going to La Tavolta. Being a food snob, when a group of friends suggested we go for dinner I looked online at the menu and to me there was nothing special and it seemed overpriced.  Im also not big on ordering pasta when I go out. Alas, I was outnumbered. Thank goodness! I ordered the sea bass special. It was to die for. Cooked perfectly, seasoned perfectly, perfect portion. I can not say enough good things about this dish. When the server asked how it was he seemed very proud of the dish and said, \" doesn\\'t she (the chef) do an incredible job?\" She does. \\n\\nMy hubby got the crab tortellini and also loved his. I heard \"mmmm this is so good\" from all around the table. Our waiter was super nice and even gave us free desserts because we were some of the last people in the restaurant. Service was very slow and the place was PACKED but we had our jugs of wine and a large group with good conversation so it didn\\'t seem to bother anyone.\\n\\nSo-\\n\\nDo order the calamari and fried zucchini appetizers. Leave out the mussels. \\n\\nIf they have the sea bass special, I highly recommend it. The chicken parm and crab tortellini were also very good and very big. The chicken Romano was a bit bland. The house salads were teeny. \\n\\nDo make a reservation but still expect to wait for your food. Go with a large group of people and plan for it to be loud. Don\\'t go with a date unless you\\'re fighting and don\\'t feel like hearing anything they have to say.  Ask to sit in the side room if it\\'s available.',\n",
       " \"Tracy dessert had a big name in Hong Kong and the one in First Markham place has been here for many years now! \\n\\nCame in for some Chinese dessert, and I must say their selection has increased tremendously over the years. I might as well add that the price has also increased tremendously as well. The waitress gave us tea, which I could taste had red date in it. Fancy!\\n\\nA simple taro with coconut with tapioca pearls was like $5.25 or something. Basically all the desserts were more than $5. That's crazy! I can literally just make this dessert at home and for a bowl, it would probably cost like $0.50. A few years ago, I think I can still get it for like $3-$4, which is more reasonable, but wow, more than $5 is a little over the top for this dessert. Though I must say, it is Tracy Dessert, and they are a little more on the expensive side. \\n\\nI also saw other items on the menu like fish balls, chicken wings, shaved ice. My friend got a mango drink with fresh mango in it! \\n\\nI'm also surprised how many people come to Tracy Dessert after work. We came on a Sunday and the tables were always filled. I think the amount of tables they had were just perfect because no one really waited for seats for a long time, but the tables kept filling up once a table was finished.\",\n",
       " \"This place has gone down hill.  Clearly they have cut back on staff and food quality\\n\\nMany of the reviews were written before the menu changed.  I've been going for years and the food quality has gone down hill.\\n\\nThe service is slow & my salad, which was $15, was as bad as it gets.\\n\\nIt's just not worth spending the money on this place when there are so many other options.\",\n",
       " 'I was really looking forward to visiting after having some of their beers. The \"Man O\\'War\" quickly became my favorite DIPA; the Rusulka Vanilla Stout is a good thick, sweet stout; and the Ironclad is a top notch IPA. \\nThe only big miss on their beers I\\'ve had is the Big Chuck Barleywine. It could probably benefit greatly with age, but at this age all there is to taste is the alcohol.  \\nNonetheless, I had enough to convince me that the other beers I hadn\\'t had from them would be top notch... and they are! \\nThe reason for the 2 stars should not reflect the quality of the brewers, they obviously know their craft well! \\nThe servers are great and friendly.... but relying on two servers to wait on 100+ customers says a lot about how inexperienced management must be. In fact, after waiting 15 mins at a dirty table I was finally able to track down someone I guessed was an employee to let them know we were even there! \\nAfter another 5+ mins, the GM finally stopped over to take our drink order. The smugness of this guy was amazing. The thought of offering a simple apology never seemed to enter into his head. \\nThis is the time a server finally stopped by to pick up the non-final check left by the party before us... who didn\\'t seem very pleased when leaving. \\nThe toast & cheese was good, but by the time we were able to dig into their heartiest offering of food, saltines and butter may have been equally pleasing.',\n",
       " \"It's a giant Best Buy with 66 registers.  I don't get it.  What's the big deal about this place??\",\n",
       " 'Like walking back in time, every Saturday morning my sister and I was in a bowling league and after we were done, we\\'d spend a few quarters playing the pin ball machines until our mother came to pick us up.\\n\\nMy sister was daring and play the machines hard, she was afraid of that \"tilt\" showing up and freezing the game.  I, on the other hand was a bit more gentler and wanted to make sure I got my quarter\\'s worth.\\n\\nThis place has rows and rows of machines, some are really old and some are more of a mid 80\\'s theme.  There is even a Ms pac man!  It was fun to spend an afternoon playing the machines and remembering all the fun of my early teen years.',\n",
       " \"Walked in around 4 on a Friday afternoon, we sat at a table just off the bar and walked out after 5 min or so. Don't even think they realized we walked in. However everyone at the bar noticed we walked in!!! Service was non existent at best. Not a good way for a new business to start out. Oh well, the location they are at has been about 5 different things over the past several years, so they will just be added to the list. SMDH!!!\",\n",
       " \"Wow. So surprised at the one and two star reviews!  We started with the most tender calamari. Although the marinara sauce was a bit bland, but a touch of salt made it just right. My husband had the veal with peppers and said it was so delicious and tender. The mashed potatoes were perfect. I had the salmon Diablo which was also delicious. Our salad was beautiful! Dressing was served on the salad and it was a nice amount. We ended our delicious meal with a piece of tiramisu. Our server Matt was right on!! Very pleasant and knowledgeable about the menu. Our appetizer, salad and entrees were timed perfectly. I love salad and did not mind that my entree was served while I was still eating it! No problem it let my dinner cool to just the right temp for me to eat it comfortably. \\nI wonder sometimes if people just don't appreciate relaxing and taking time to eat a wonderful and beautifully prepared meal.  A wonderful atmosphere. So relaxing. The chairs are super comfortable too!!! We will certainly be back. \\nGive it a try.  Don't  always go by the reviews. \\nA bottle of Riesling, calamari app, two delicious entrees and dessert for $92! \\nWell with it.\",\n",
       " \"Michael from Red Carpet VIP is amazing ! I reached out because I needed help planning my soon to be sister in law's bachelorette. It was a group of 10 girls so I was a little overwhelmed but Michael saved the day! Everything was super smooth and easy! We got good deals and had the best time ever! We booked hotel and a bachelorette package for a great price. I have saved contact info because I will for sure reach out again on next Vegas trip!!!\",\n",
       " \"I cannot believe how things have changed in 3 years. I picked up duck congee sometime in the winter when my hubby was sick.  I was very disappointed because the ginger fish sauce tasted like it had gone bad (it should never be bitter).  Today, my hubby wanted to eat there since he was craving the duck congee and most places don't serve the duck & coleslaw side. We waited about 10 minutes to get our menu.  After we placed our orders, we waited another 5 minutes to get the tea that most places bring with the menu.  I could go on with the details but the gist of the story is they were understaffed or the staff was slow.  The worst part of it was that the service.  The servers make us feel bad for asking for anything (like when they took our order).  We had arrived and placed our order before another couple bside us at least 10 minutes ahead but somehow, this couple received their pho before mine.  They were almost done eating their pho before mine came out.\",\n",
       " \"You can't really find anything wrong with this place, the pastas and pizzas are both amazing and high quality, the price is very reasonable, the owner and the staff are very friendly, if you're in downtown check this place out, a lot of people think just because it's downtown there are lots of options around but that's not always the case as there is also a lot of poor quality food in downtown as well.\",\n",
       " 'Great lunch today. Staff was very helpful in assisting with selections and knowledgeable on the ingredients. We enjoyed the BBQ chicken with tika masala sauce and really good naan bread. The biryani with chicken was also yummy! Fun to see the food being prepared in the tandoori ovens. Great addition to the fast casual scene in Cleveland.',\n",
       " 'I love chinese food and I love mexican food. What can go wrong? A couple of things. First things first, this place is more of a \"rice bowl\" kind of place. I thought it was going to be more diverse as far as the menu goes, but its mainly rice bowls you get with different kinds of meats. The ordering was a little confusing at first, but one of the employees helped us out and I got the 2-item bowl and got the jade chicken and hengrenade chicken with all rice(jerk). I also ordered a jade chicken quesadilla on the side.\\n\\nI\\'m gonna admit, this place looks kinda dirty. I don\\'t think Arizona uses those health department letter grade system like California does, but if I were to just judge by how it looked inside, i\\'d give it a \"C\" grade lol. We waited for about 15 minutes or so and finally got our food. We took it to go and ate at our hotel room. \\n\\nMmmm... the food was just alright. The jade chicken was nothing special. It tasted like any generic chinese fast food orange chicken/sesame chicken variant. The hengrenade chicken, although was the less spicier version of the jerk chicken, was still pretty spicy for me. Just be warned the jerk chicken is super spicy. If you aren\\'t sure, ask for a sample at the restaurant before ordering, but it was way too spicy for me. \\n\\nThe jade chicken quesadilla was decent, but nothing special. Just imagine orange chicken in between a tortilla and cheese. A friend of mine ordered a jade chicken burrito and we were confused when we pulled it out of the bag because it was literally the size of Mcdonald\\'s apple pie. If you order the burrito, be warned that it\\'s a burrito for gnomes and smurfs, but he said it was tasty. \\n\\nThey provide a snicker doodle sugar cookie for each meal and it was decent, again nothing special. \\n\\nNot gonna lie, the next day my stomach felt like a little mexican dude and chinese dude were wrestling and throwing molotov cocktails inside. I used the bathroom like 5 times. I don\\'t recommend eating this place if you have a lot to do the next day.',\n",
       " \"We've been a huge Slim's fan since they opened one up in Texas about two years ago when we used to live there. This place never disappoints. They even have great salads and grilled chicken. Plus they have fresh brewed sweet tea, it's the best!\",\n",
       " \"Good selection of classes of beers and mains. I've been here twice.\\n\\nFirst time I had the fried chicken. It was delicious, but be warned, extremely salty. I couldn't even finish the last piece of chicken after experiencing a salt overload.\\n\\nSecond time we came on a wednesday. We didn't know it was BBQ night, where they have a completely different menu, and don't offer anything from their original vegetarian-friendly menu. This menu has one vegetarian-friendly option - an eggplant sandwich. The vegetarian in my party said it was awful. Also, on BBQ night you choose 2 sides. Except they were out of all their sides except 2 - fries and potato salad. I can't say I was thrilled to have carb heavy sides with my carb heavy main. How do you run out of sides so early in the evening?\\n\\nService not so great.\\n\\nI'd avoid coming here on wednesdays.\",\n",
       " 'Our family LOVES the food here. Quick, friendly, delicious, and a great restaurant to take kids to. 5 stars!',\n",
       " \"If you are looking for the best pierogies in Pittsburgh, this is your place. There are a few small tables outside but most of the business is carry out. Pierogies Plus wins Best Pierogies every year. Why? Because the owner is from Poland and she is making the real deal pierogies. The best part is that they are hand pinched by a group of older Polish and Hungarian women. \\nThe biggest seller is potato and cheese but they sell many flavors. They are like plump pillows of softness. You can buy them buy the dozen. You can get them cold to take home and freeze or warm and ready to eat. The warm ones are served with butter and onions.  It's definitely a comfort food. The best part is that they ship internationally. Yes, they are that good.\",\n",
       " \"The food is always good and the prices are reasonable.  Although it's not exactly a restaurant -- more like a snack bar, limited menu and you walk up to the counter, place your order, wait a minute or so for them to prepare your order, and pay the cashier, then search for a table.  Kind of like a sandwich shop.  Still a much better choice for value than the other hotel Deli's on the strip.\",\n",
       " 'Pick any meat on the planet and the chef will make a Mexican style dish with amazing flavor! Wow, fish and lamb tacos to die for. Drinks are great as well.',\n",
       " \"Great food, great service. Obviously fried chicken isn't the healthiest food on earth, but once a month I get that craving for good fried chicken. Their chicken is great, doesn't seem too fatty, and their sides are excellent too. A+\",\n",
       " \"PlumbSmart provided superior service from beginning to end.  They were able to repair a badly damaged sewer pipe with only one day's notice.  I was particularly pleased with their attention to care when cleaning up the landscape after the job was completed.  Their competitive pricing and excellent service make them my first stop for all future plumbing needs.  Thank you to Wayne and the whole team!\\n\\n-Scott B\",\n",
       " 'Unfortunately, I must recommend not to conduct any business with Fast Fix Jewelry and Watch Repairs.  The staff is completely unprofessional and I have never been treated so rudely in my life.  I was actually shocked and walked away thinking \"wow, how do those people even have a job?\"\\n\\nI have never written a negative review before, I usually chalk it up to someone having a bad day.  I have worked in customer service for 10+ years and I know it is exhausting and bad days happen.  But this is a special occasion.\\n\\nI drove 30 minutes to try to find someone who could help me repair a watch band.  I was barely greeted upon arrival and right away felt like I was bothering them.  The girl behind the counter obviously just wanted me to leave, the blond kid working snapped at me when I asked a question and when I re-asked in order to clarify what he said he snapped again and said, \"I already told you?!?\"  \"Is this even authentic?\"  Shouting at me over his shoulder as he work on something else. \\n\\nI was shocked and just stood there put my watch away awkwardly and left with no one else saying a word to me.  There are a lot of places that fix Jewelry in this city and I will be taking my business elsewhere and recommend that people reading this review do the same.  Some places, just do not deserve a loyal customer base.',\n",
       " 'their pettuccine was fresh-made in the morning. it was very delicate and yummy! the owner and staffs are super kind and delightful. We also had Veal piccata. it was classic! love this restaurant.',\n",
       " 'if i can give this place no stars i would, i only had their hot pot though, so im not a good judge for anything besides their shabu. i must say, quantity was small, price is expensive for the quality and quantity, and the taste of the soup base is bland as if they just put hot water in. the sauce selection is limited and not very fresh/clean from my perspective. i love hot pot and i would never go back again because home made hot pot can be much better than this place without even trying. anyways, if you have a good appetite for hot pot, you can do yourself a favor and skip this place because it can make you miserable!',\n",
       " \"This review is in regards to our experience watching SuperBowl 51 February 5, 2017 at the WestGate in the theater/auditorium.\\n\\nWatch the game somewhere else.....\\n\\nTo those unfamiliar with The Big Game experience at WestGate you typically would get in line to watch the Superbowl in the theater portion of the hotel around 8 am on Superbowl Sunday. This line can get extremely long yet the earlier you get in line your choice of seating significantly improves.So...after waiting in line for a few hours we were notified the lower portion of the theater was reserved for paid customers who previously purchased wristbands for $100 (including alcohol and hot dogs) and instead we would be seated in the balcony portion of the theater.No problem, something different, we said. Mistake.\\n\\nSo at 1:30 pm we were sent upstairs to the balcony to take our seats and prepare to watch the big game at 3:30. Once we take our seats one of us ( we're in a group of 8 ) will hold the seats while the rest of us will go out to the casino floor and gamble or go the the sports book and place a couple last minute bets.Please note the patrons that leave the auditorium will receive a hand stamp or wristband to allow reentry to the theater. BUT INSTEAD....\\n\\nWe were told by Westgate staff that no hand stamps or wristbands would be given and we were ON OUR OWN if we choose to leave and we would not be allowed back in. Wow.\\nThat's right, after waiting in line all morning if we wanted to go downstairs to play blackjack, place a bet at the book, or maybe have a bite to eat because no food was made available upstairs we would be out of luck. Nice work Westgate.\\n\\nSo we were seated upstairs...stuck. With no food or soda available for purchase. Only beer and water was sold in the balcony food counter. That was at 1:45 p.m. After vigorously complaining to Westgate staff ( to ushers with yellow jackets and security with black jackets ) at 3:04 pm wristbands were given out. At 3:18 hot dogs and soda were made available for sale in the balcony. I believe this was a direct result of all the upset patrons like myself that were seated in the balcony level.\\n\\nIn summary, for being the biggest sportbook in Las Vegas this place is dysfunction and fails to satisfy the most basic request to provide food and comfort to betting patrons. A total mess. This place sucks. Watch the big game and bet your money some where else. We will.\",\n",
       " \"ended up here because Raku was closed and it received great ratings on Yelp.  I'm so glad I came here.  One of the better meals I've had.  Started off with the mushroom dish and the lettuce wrap.  both were amazing. the lettuce wrap is like having a flavor party in your mouth.  also had the panang duck which was terrific. highly recommend all three dishes. one dish that wasn't so good was the seabass with drunken noodles. overall it was an excellent meal, intimate setting, and great service. definitely will be back.\",\n",
       " 'I tried this place because my girls are away for a month, and I REALLY wanted to try to wait until they came back, because NOBODY can hold a candle to them, but my toes were desperate.  When I went in, they were almost twice what I usually pay to begin with.  Then, before starting the pedicure, I specifically told them I already had gel polish on my toes.  They didn\\'t tell me right then and there \"that will be an extra $5\\'.  No, they waited until it was time to pay, and not only charged me for that, but they charged me all kinds of extra fees that I didn\\'t even ask for!  I had also informed the girl that my toenail was loose and needed gluing.  While I was looking at my phone, all of a sudden I felt this sensation, and she RIPPED OFF MY TOENAIL!!!!  Without even asking me!!!!!!  So then she had another girl come and put acrylic on there since the nail underneath was only 1/2 grown.  Again, they didn\\'t tell me how much this would be, or even ask my permission, they just charged me at the end.  \\n\\nThe added stone \\'massage\\' was barely a massage!  She rubbed the stones up my lower legs a couple times, and that was it.  It lasted about 30 seconds.   And when I asked for a design, I\\'m used to getting a board with a bunch of designs to choose from.  She didn\\'t even ask me what I wanted, she just painted a few lines on my two toes and then charge me 5 MORE dollars for that! \\n\\nUgh, I don\\'t care HOW ugly my toes look next time, I will NEVER go anywhere else besides Bella Nails again, they ROCK!!!!!!!  This place was appalling.  I didn\\'t want to make a scene, so I just paid the money, but I will NEVER go back!!!!!!!',\n",
       " 'Love this place downtown but the Scottsdale location has no manners. Sat at bar for 10 min while bartender ignored us. No menu, no water. We walked out and they could have cared less.',\n",
       " 'Best chinese resto. Highly recommended. 5 stars. Let us support this business. Best in the west valley. Trust me you wont gi wrong coming to this place',\n",
       " \"Came here on a Thursday night at 6:30 p.m. My friends and I had a reservation, but it was not needed - the place was almost empty.\\n\\nSERVICE: Extremely Poor\\n\\nWhile I enjoyed the company of my friends, I would not come back to this restaurant, primarily because of the poor service. Once we were all seated, we were not greeted by anyone for over half an hour, and when someone did come by, we asked whether we could place our orders, to which he said he could not; he's doing something else - so we waited at least another 15 minutes before someone came to finally take our orders. \\n\\nMAIN: Caprese Salad\\n\\nThe salad was okay - a bit salty for my liking. I personally did not find this dish filling, so I ordered the sweet potato fries as well (See below).\\n\\nMAIN: Sweet Potato Fries (this was worth it) \\n\\nThese fries were actually very delicious - crispy on the outside and soft on the inside. If you visit this restaurant, I would recommend this particular dish, especially given the price ($8) and the portion size (it was quite large - almost the size of a large plate).\",\n",
       " 'Went here last weekend and was pretty disappointed. They did not have one thing that was pictured and recommended on yelp as being good. We started off with the steak grilled skewers which were just Ok, nothing special. My freind got the lasagna and I got some special chicken dish. They were both pretty bland and lacking that kick. Our waitress was really nice and got the manger to switch out our dishes. My freind got the hamburger and I got the shrimp scampi. Her hamburger was better then the lasagna but was still lacking flavor. My scampi was better then the chicken but was also still under seasoned and the noodles were a bit under cooked. With such a big name attached to this restaurant and going on such an empty stomach we had such high hopes. The service was great which is why i gave it three stars.',\n",
       " 'This place epitomizes the rumored transformation that is in the process of taking place in Pittsburgh. Great food, drinks, and service, but the atmosphere is second to none. Definitely a must visit for locals and visitors alike! You will not feel like you\\'re in \"Pittsburgh\".',\n",
       " \"Dinner Was Fantastic! Service was great We started with the corn soup and the tuna tartare. We shared the Filet and Scallops. Both delicious entrees! We didn't realize the steak came with potatoes and ordered two sides Mac and cheese and shishito peppers. I thought the peppers were really hot but I'm a whimp I guess! We will definitely come back\",\n",
       " \"They keep there appointments on time and are pretty efficient. However I am very disappointed in how they think that just because I am a girl that I do not know what is going on with my car's tires. The guy that helped me out told me that my two front tires tread was extremely low and that I would be needing two new tires in a month or two. He told me that he could show me the same tires I have on there now and how much they would be. When the I had taken my car to the other Discount Tire they told me it that my tread was actually still really good for how many miles I have on my car. When he told me the price of the two tires it was around $280. Which I had just bought two new ones a couple months before that and they were the same price. So when I bought the two new tires my tire pressure light came on not that long after that. I honestly feel like the tires were not even new and did not look worth $280.\",\n",
       " \"Met a friend for dinner there tonight. The server only brought us one menu. After she brought us a couple of Cokes she didn't come to our table for 20 mins. After trying to get her attention a few times when she walked by we decided to just order off the bartender. We received the starters and the mains at the same time. The wings, brisket, and mac and cheese were alright at best. At this point we hadn't seen the server since she brought the food, so we had to go to the bar for more napkins and refills on the Cokes. The most we actually saw our server was when she hovered over us as we put the tip into the handheld credit card terminal. \\n\\nFood was somewhere between okay and decent. Service was somewhere between piss poor and terrible.\",\n",
       " \"Another solid BBQ place in Calgary. This is definitely a great place to go if you are craving something smokey and delicious. \\n\\nI actually noticed this place because I wandered by when I was walking downtown and it's impossible to miss that lovely smokey/BBQ smell if you're on the block. However, it looks kind of like a hole in the wall. The entrance doesn't look like it's been updated in years, and that's ok because it just adds character. The entire decor is wood/country (to include buffalo head on the wall) and there is also a downstairs where there is live music on the weekends.\\n\\nOk onto the food. I have been here a couple of times now, so I think I can comment on the menu pretty well. My friends and I have ordered the brisket, the catfish, the veggie burger, the mac n cheese, the cesar salad, the chili, and the garlic fries. If I had to review this place based on the delicious and garliciness of their fries, this would be a 5-star review hands down. I mean, seriously, vampires beware, but everyone else should enjoy a-plenty.\\n\\nThe portion sizes are huge, so go hungry or be prepared for a to-go box (granted every time I've gone I have loved the food so much that I ate the entire meal.) \\n\\nI bet at this point in time you are wondering why I am only giving this place 4 stars then? Well, not everything is as amazing as those garlic fries. The bourbon apples are fairly tasteless, the chili is ok (the meat was very tough), and the service is also just ok. However, the catfish is delightful, the mac and cheese is also delicious, and the brisket is quality. \\n\\nThe specialty cocktails are also pretty good, and the beer prices are pretty decent. This is a great place to go for a long lunch, after dinner drink, or even a weekend brunch. There are vegetarian options on the menu (if you can ignore the buffalo head on the wall) and I believe even a few gluten-free options as well. It's a fairly good place to go with a large group, just make sure to call ahead. \\n\\nAll in all, like I said earlier, a great place for good times and smokey flavor.\",\n",
       " 'One day after I satisfy my frozen yogurt craving at Kiwispoon... I get invited out to eat frozen yogurt at Piccadilly.  A rare opportunity to truly compare the two yogurt places.\\n\\nHere, I tried three flavors - chocolate, pumpkin, and caramel sea salt.  Added toppings of brownie bits, chocolate caramel turtles, and mochi.\\n\\nOverall, I liked the yogurt better at Kiwispoon. The frozen yogurt seems less rich in Piccadilly\\'s and the flavors are not as strong.  The price per ounce is also marginally higher at Piccadilly\\'s.\\n\\nThere are definitely pluses to Piccadilly\\'s yogurt though.  I liked the toppings better - I thought the mochi tasted better, the brownie pieces were bigger, and the chocolate caramel turtles went great on ice cream.  The chocolate caramel turtles should be a standard topping for both frozen yogurt and ice cream places.  Also, with the huge map of Cleveland Heights behind the cash register, this feels more like an authentic \"neighborhood\" froyo joint.',\n",
       " 'I called the number provided and same day they showed up to my residence for an inspection. Was able to advise me of multiple broken and loose tiles on my roof and came out just a few days later and completed the repairs. Quoted me a good price for the repairs as well. No complaints!',\n",
       " \"Party of 3 ordered the fish tacos, pork belly banh mi, corn beef hash Benedict, and bam ham. Everything was delicious, esp the pork belly banh mi. It's tender and juicy and the baguette was nicely toasted. Love the crispy fish taco too. Their compliment chips and salsa were fresh and super good and crispy. Service was excellent. Our waitress did a great job checking up on us and serving us. I really want other food options too but I'm too full. Next time i visit i will definitely come back.\",\n",
       " \"We had dinner at the Bellagio Buffet last night. The service was OK. Our server was great but kind of forgot about us towards the end of our visit. The food was cold. The only good thing there was the crab legs because they're suppose to be cold and the tacos because it was freshly made. The food was under a single lamp that didn't heat the food at all. We let the server know that the food was cold and he told the manager that was in charge. All she did was come over to ask what the problem was and said she was going to talk to the chief. Have no idea what actually happened though because we didn't see her after that. Half the buffet was closed as well so there wasn't that many options. I must say i rather go to the Rio buffet. For a high end casino this was a horrible experience.\",\n",
       " 'I really enjoyed my visit here.\\nEverything was visually appealing to me.\\nAmbiance was great. Food tasted amazing. Service was . No complaints at all',\n",
       " \"Flat out fantastic!  Have been here twice and the croissants are the bomb. Can't wait until I can try other items. THE new breakfast spot in Ahwahtukee. The service is great as well. Family run business. Come and support them.\",\n",
       " 'Very nice eating environment and the food are quite nice. Very native Japanese style.',\n",
       " \"notes: 1 visit, breakfast/lunch\\noverall: Excellent high-end buffet, but the dessert section needs a little work.\\n\\nhighlights: \\n- Dip the foccacia pizza in some chimichurri sauce, and it's the best pizza you'll have ever had.\\n- Prime rib is excellent\\n- I hate crab legs in general, but everyone else says they were great here, really fresh.\\n- Cookies!  You must try their cookies.  I got so lucky and grabbed some white chocolate macadamia cookies when they were still warm.  Crispy on the sides and chewy and mouth-wateringly good.  I mean, I was stuffed beyond belief, but I couldn't stop eating it!\\n- If you get in during breakfast time, do try the Portuguese sausage.  It's the only breakfast food really worth it.\\n\\nAvoid:\\n- Gelato bar looks good, but the texture was more like the soft serve at Dairy Queen. (which I HATE) So disappointed.\\n- Shrimp pad thai was served ice cold.  So gross.\",\n",
       " 'I am years out from surgery with sacs and I wish I could turn back time.  He promises great things them butchers your body. I should have left my body alone. It was not bAd. I was out to perfect it.  We often talk about how he ruined a good body.  I will never forget his dirty nasty slippers coming into the operating room. I should have run from the room then.',\n",
       " 'Such a unique place & a great find. Our waitress was funny, knowledgable, and did a fantastic job. The food was amazing. We will definitely return and recommend this restaurant to other couples!',\n",
       " 'Best Wonton soup ever!!! Delicious food and great service. We had Chicken Satay, Roti C., Wonton soup, and one of the fried noodle and shrimp dishes. Definitely will be back!',\n",
       " 'I\\'ve never experienced discrimination as I did last night at this place. I was with 2 other females...we had on dresses and heels. The place was very diverse as far as how everyone was dressed. Dresses, heels, jeans, flip flops, shorts, etc. Immediately we noticed large groups of people of a particular race coming from the back of the line and going inside. We thought nothing of it...assumed they were all on lists. Then it just got weird. We noticed the guy working the door was walking back and fourth scanning the line for people he would pull out and let go inside. Every time it just happened to be groups with Caucasian people. 4 Caucasian girls were in front of us and behind a group of 4 black males. The girls were pulled out of the line and taken to the door to go inside, no talk of any lists. The guys were told they must be on a list or leave. The guys left. We watched this happen quite a few more times before we just gave up here and removed ourselves from the line. We were standing in the front for a really long time with no acknowledgement from the guy working the door. Funny thing is he didn\\'t make a big announcement that we must be on a list to get inside. He was walking up to particular groups and telling them in a low tone so they would leave. I know it wasn\\'t because of how we were dressed or looked....they were letting people in with jeans and flip flops. Ultimately we were let in by a bouncer at a side door. There was nothing so special going on in there that they had to be \"picky\" about who they let inside. It was like a night at Suite.  Safe to say, I will never step foot in this place again.',\n",
       " \"We had dinner here and the food was excellent and the service couldn't have been better!\\nThanks Jose! \\nWe will be back for sure.\",\n",
       " \"Absolutely love this place! I've been here many times and it never fails to impress me  the bff burger is unreal and the tsoynamis and cupcakes are amazing!! Everything is pretty much the best\",\n",
       " \"Here's why I don't write reviews for Chinese restaurants: I have to look up their English names... \\n\\nIt's so popular that I didn't try it until recently. The bubble tea here is really good. It's pricier than the one in Rose tea, but you also get more. \\nI like that noodles with pork sauce. I've tried both the thin and wide/thick noodles. The wide one is less chewy and are kind of sticky. I prefer the thin one for this dish.\\nDan dan noodles are different from what I was expecting. My friend liked it but it's just okay for me.\\nThe noodle with wonton is flavorless to me. \\nThe soup dumplings are good but not amazing. If you've never had it before, give it a try and you probably will like it.\\nI'd like to try noodles with beef soup next time.\\n\\nThe appetizers are too pricy in my opinion. I won't pay $6 for a small plate of vegetables again...\\n\\nThe owner is a nice guy and I enjoyed chatting with him a little bit during dinners.\",\n",
       " \"We went here Saturday for dinner. We had a 2-1 coupon. Price was $37 for two people so a good deal. \\n\\nVery large space, open layout.  Been here a few times years ago. I ate mostly the crab legs. Prime rib. \\n\\nThey provide a self serve drink area, which I think is good.  You don't have to flag down a staff to get a drink when you want one. We've all been in that situation. \\n\\nUnlimited alcohol, wines and beer. They have a bar area with one bartender working and a bunch of tv's to watch or get updates on games. \\n\\nI wouldn't go out of my way, but if I was in Mirage and hungry, I'd eat there if we had another 2-1 coupon. I wouldn't spend full retail price eating there. Other buffets on the strip are better for same price points.\",\n",
       " 'Took my kids here to hang out on one fine 72 degree sunny Saturday in February. Going over the bridge, coming from Aliante Casino, you cant miss the nice view of the waterfall that is at the forefront of the park.\\n\\nToo bad this and the playground were the only nice things I can vouch for. \\n\\nThe playground is a nice fenced in little area that has a decent amount of playground equipment, swings, slides, tables, and benches. I like the soft material they use that the playground equipment is built on. There is also a sand lot area that has dinosaur bones as props. The day we went, the playground was packed. Kids were running into each other as they went down the slides. There were kids actually waiting to get on the swings! \\n\\nAfter a while we decided to walk around to check out the rest of the park. We see ducks everywhere especially in the pond that has the nice waterfall going into it. Unfortunately, this is where the \"nice stuff\" ends. Everywhere on the paths we were walking on were green duck crap. Which brings the question, \"Is there some kind of spray or force field they have on the playground?\" Because there were no ducks or green duck crap anywhere in the playground. Im also curious as to how many people would actually spread out a blanket and have a picnic on the grass for the crap was all over that as well. Just doing this review im starting to get grossed out thinking about that day.\\n\\nAfter carefully trying not to step on any crap going to the car, I made a mental note to make sure to mention all the green crap I saw in this review and to not hesitate in mentioning it to everybody I know that is either making plans on coming here or are just thinking about it. The only thing positive I can think of about that is to come here if you are on a diet. After seeing all the green crap, you probably wont be having much of an appetite and you definitely will get some exercise trying to avoid stepping on the stuff. \\n\\nSo, yeah, im not worried about coming back to this place any time soon in this lifetime. (You think?). Lol. Maybe as a duck.',\n",
       " \"There is a reason I frequent Paul's Ace over the big names such as Home Depot or Lowes: the personalized assistance. Do the big name brands provide this? Yes, bit not at the same level Paul's Ace Hardware does in Tempe. If I need help, they are ready and willing to help me in every aspect of my project.\\n\\nThe store manager Bras personally went out if his way to assist me in gathering all the materials I needed for my current project. He knows his store, bounced around to show me all options, and seemed to have recommendations on each project. This guy must love what he does because he knows everything in the store (or he is a constant do-it-yourselfer).\\n\\nI am always pleased with the help I receive and am thankful this place is in my neighborhood.\",\n",
       " \"In need of a burger, this was the closest location from work that wasn't your typical fast food joint.\\n\\nI always like to chose a signature burger so I opted for the Spicy Cajun Burger and combo'd it up with there Beer Battered Rings and a Jones Strawberry-Lime  Soda.\\n\\nIts a small location with an even smaller patio ( maybe 8 bar stools on a cramped balcony) that looks onto Charles Street. But definitely sit outside if you can grab a seat. Luckily the patio was vacant that late afternoon.\\n\\nToppings - They Spicy Cajun Burger - Avocado, jalapeños, lettuce,\\nJalapeño havarti, tomatoes, Cajun spice & Smokey chipotle & honey mayo. There was ample toppings on the burger, I enjoyed the avocado on my burger, overall not too spicy but good kick from the sliced jalapeños.\\n\\nMeat - Grilled perfectly, tasted average, but I found it too small compared to the bun.\\n\\nBun - Very soft, tasted good, but didn't hold up against the burger and all the toppings and at the end I was left with lots of bun and no more burger.\\n\\nBeer Battered Onion Rings - Very thick batter on these rings, golden brown, crunchy, very filling.\\n\\nDrink -Jones Strawberry-Lime Soda - Yummy not sour but good balance,\\n\\nOverall prompt friendly service, quaint little patio, average burger but good for a quick fix in satisfying the burger craving.\",\n",
       " \"Sadly this place has been sold.  The gas prices have sky rocketed, some of the long term staff is gone, lottery is gone, they have run out of popular cigarettes, I tried to get gas a few days ago and the vendors / delivery trucks that used to park on the side street or off to the side were parked at the pumps...I am going to give it a little time and see if it gets better.  I have been going to this store for 15+ years, but if it doesn't shape up, I will find another....\",\n",
       " 'Easily entering my top 3 restaurants in Charlotte after just one visit!\\n\\nPork Belly, unreal! Had an AMAZING prime NY Strip with bourbon butter jam, PHENOMENAL!',\n",
       " \"So good! They didn't make it to 5 stars due to the prices are a bit high for the amount of food and the location is a bit unsavory. \\nThe decor and atmosphere was surprisingly nice, from the outside I expected to be more run down inside. The staff was very nice. We were surprised how empty the dining room was for a Friday evening.\\nWe got Vegetable Samosas to start then ordered Chicken Tikka Masala, Lamb Rogan Josh, rice and plain Naan. Our only complaint was the lamb could've been more tender but everything was flavorful and delicious. \\nI would definitely go again if given the chance.\",\n",
       " 'Employees were to busy chatting with each other. One employee had his head out the  drive thru window talking to people the entire time I was there. The cook come from outside and made my food. Did he was hands before making my food???',\n",
       " \"This random hole in the wall is located in the Park Rd. shopping center.  I had never heard of it until that fateful St. Patricks day when another beer was in order.  After making my way there and enjoying the patio, I decided the food was my next venture.\\n\\nAfter my second, alcohol only, visit, I was excited to taste what vegetarian options they had.  I had the grilled cheese with spicy asparagus and portobello.  Let me tell you...grilled cheese is amazing, add a few interesting touches, it becomes addicting.  I was very happy with my sandwich.  Also, they have a very tasty appetizer of Goat Cheese Fritters with a red wine sauce.  Goat Cheese is one of my favorites and frying anything makes it better. I was in love.  \\nTher service is great and they can accomadate large groups, the few times I've been has been with 7-20 people.  Great staff, awesome menu choices, I'll be going back\",\n",
       " \"((( LADIES BEWARE))) Don't ever take your machine to 35th Ave. sew and vac on Northern they broke my Elna machine while it was being repaired. I've spent over $10.000 at their store over the years and have been a long time customer .. Bill the owners son was so rude to me and did nothing to resolve my broken machine. I was disgusted when Bill the owners daughter wouldn't do Any thing to help me when the repair man broke my machine. It's terrible to bring a nice sewing machine in to be repaired and these people broke it while in their possession and they don't want to do a damm thing about it. It was like a big (screw you) to me. I won't buy another thing from these people for the way I was treated. Even the material is too over priced. I'm in the market for another machine but I won't go there ever again. My machine STILL NEEDS TO BE TAKEN CARE OF AND THEY STILL HAVE NOT RESOLVED THIS ISSUE. ITS STILL BROKEN AND IT HAPPENED WHILE REPAIRMAN WAS SERVICING MY MACHINE. I WISH I HAD NEVER TAKEN MY MACHINE TO 35TH AVE SEW AND VAC SHOP. WHY CANT PEOPLE OWN UP TO TAKE OWNERSHIP TO THEIR RESPONSIBILITY FOR THEIR OWN MISTAKES!!!! GO TO KINGS SEWING MACHINES MUCH BETTER SERVICE AND THEY DONT BREAK YOUR MACHINE!!!!!\",\n",
       " 'Great tanning salon near me, and clean, equipped with the latest tech and easy checkin and out spot for a short yet amazing relaxation and sunbathing time in chilli Cleveland. I am going to be obsessed with this place in winters and will recharge myself with vitamin D!',\n",
       " 'Th service here is very hit or miss... Sometimes the staff is personable and attentive. Other times I ask myself, \"Why do I come here???\" The staff often has the  \"GTFOH\" stamp placed permanently across their foreheads, and we as patrons just have to go with it, otherwise we are deemed \"that guy.\"  I would say that my continuos visits were for the great HH, but there are several other options close to home, with the same food and drink options for me to choose from. I think today may be last visit...',\n",
       " 'Great cocktails and very good food.  Overall first class restaurant.',\n",
       " \"I took my wife out for a Birthday dinner with my daughter on 12-16-14  at Alfonsos.  I heard the food was good and it was and my waitress ( Dawn ) was also good ( even with it being very busy ). The problem I have is some of the waitress staff are rude. I had a gift card/ certificate to pay for dinner. After a few minutes, a big blond waitress came over and said  ( in a loud and rude tone ) I couldn't use it cause I needed to spend $100.00 in order to get $50.00 off. She then insulted me by saying (so the tables around me could hear ) couldn't I read the fine print telling me of requirements to use gift card. I showed her the certificate and the fine print was not legible She told me, sorry that's not our fault it's yours and she walked away. I am having second thoughts about going back to use gift card. I may give it away or toss it out.\",\n",
       " \"This company tried deliver flowers to our home- my son was home by himself and called me.  I had him keep me on the phone while he opened the front door (our security screen door was  locked though).  He told the gal that he was not going to open the door, that his mom (me) was on the phone and he asked the driver to call me, his mom.  The driver was very insistent about getting a signature and became argumentative.  My son kept saying, call my mom, she's on the phone now.  And she kept interrupting and insistent on a signature.  I told my son to close the door.  I then called the company and spoke with a Manager, Sara.  She understood my concern and said she would make sure the driver was trained on these situations.  Three days pass and I still don't have my flowers or a phone call.  I called and spoke with Sara and she had a completely different tone with me than previously.  She was very curt and tried to give me lots of excuses. I asked that the Owners call me.  Five days later, I've never received a call back from the Owner or my flowers.  I called to find out when one of the Owners would call back, and Linda told me it would be by Friday, which meant six days later than my initial request.  I told Linda that was pretty unreasonable and she told me that the Owners are busy and have several other businesses.  In my opinion, that's completely unacceptable- do yourself a favor and do not order from this Company.  They are very unprofessional and not very concerned about customer service.\",\n",
       " \"Heard about this place and was dying to check it put-and I'm very glad I did! Decent beer selection and kind of a hipster vibe, but $8 for a loaded hot dog and tater tots has got to be one of the best deals in town. Tons of unique toppings to pick from and delicious dipping sauces for tots (secret fry sauce was my fav). We were there early and had no problem getting a seat at the bar, but I can see how during prime time or when live music is on how it could be kind of tight. If you're going for the food is get there earlyu because that loaded dog would have been super hard to eat while standing.\",\n",
       " \"received a  mailer and thought okay let's go. walked in on a Monday afternoon greeted by a bartender wearing a cute  t shirt that said the bar and below that the baby. how cute however never got her name. looked over menu asked what was good she said the club. so ordered it and  yes it is good. had a beer a club on white toast served with fries and watched sport center. really felt at ease there and good music playing. will go back again.\",\n",
       " 'Met an old close friend for dinner at Portofino.  Great intimate dinning with class. Excellent pasta and meat dishes. Delightful service and great drinks. Will come back!',\n",
       " 'My company hosted a dinner and awards night at the hotel last night and the experience was the best we could have imagined! Working with Kristine Cole was fantastic and the communication was always on point. I walked in to be blown away by the set up and I had compliments on the food all night. I came into work today to be flooded with emails on how impressed everyone was with the presentation. The staff that was there to help us was GREAT! I believe Tim was in charge and he had Anna and one other gentleman with him and they made us laugh and gave us the privacy we needed. We will be back and I will be recommending them to everyone!',\n",
       " \"Yes... the Boba Tea explosion is in full force. I have been to Lee Lee International Supermarket in Chandler many times, but I never noticed this little gem next to it until a couple years ago. Boba Tea House has serving up some of the best boba tea in the Valley long before it became a big thing. They have a fantastic array of flavors and drink choices to choose like fruit slushes, snow, milk tea, pudding, mango jelly, coffee jelly, etc. They even have snacks like popcorn chicken, fried tofu, and fries. The staff is super friendly and the prices are reasonable. I still laugh at my friends who have no idea what Boba Tea is or are too afraid to suck up one of those chewy ball things. LOL. In case you didn't know, Boba Tea is a flavored tea (usually with milk) to which chewy tapioca balls or fruit jellies are added. I think they are super delicious. Today I got the Blueberry Milk Boba Tea and it made for the perfect snack in the middle of my day. Another favorite of my mine is the honeydew milk tea.\",\n",
       " 'Yum!! Had the kale grits and would definitely have those again! Menu choices are unique, farm fresh and delicious!',\n",
       " \"I stumbled upon this ice cream store and seeing the high reviews on Yelp, went in with high expectations. First off, the prices are fairly high considering the size of the cones and cups they use. It's almost $4 for a small scoop, which is pretty overpriced in my opinion. Their flavours are a little more creative than most traditional ice cream stores and it is marginally creamier. The Noah I had was pretty neat with some different ingredients mixed into it as well. But, not worth that price and on some hot summer days, that lineup.\\n\\nAlso note that it is a tiny store that fits no more than a dozen people, so don't expect to sit inside enjoying your ice cream there.\",\n",
       " \"ooooooh yummy.  i'm a red meat eating midwestern girl, and 9 had the best steak i can remember having in....who knows how long, it was DAMN GOOD.  the mac and cheese is a tasty, tasty side.  try the snicker dessert...it's basically two cookie/ice cream sanwiches with bits of snickers.  the s'mores my sister got were super fun too.  only complaint is that it was really loud and waaaaaaay too many annoying veil-toting bachelorette parties for my taste.  but hey, it is the palms.\",\n",
       " \"Dreadful Service\\n\\nI've had Jimmy John's before several years ago in Minneapolis.. But apparently here in Phoenix, the store personnel must be trained differently. I had to take my sandwich back up to the counter twice to get the thick headed folks working at the one on Camelback at about 16th to get my sandwich the way I wanted it.\\n\\nI asked for a #10 Hunter's Club with all the veggies. What I got was the standard #10 Hunters Club with lettuce and tomatoes. \\n\\nAfter seeing that, I took it back up to the counter, and explained that I wanted all the veggies. They explained to me that those were all the veggies the sandwich came with. I carefully explained that I wanted all of the veggies that they have. The guy said, oh, you want the Freebies. I would have thought he would have clarified when I ordered whether I just wanted everything that came on the sandwich, or the Freebies as well. I said yes, I wanted all of the Freebie Veggies. \\n\\nI took my revised sandwich and sat down to eat it, only to find that along with the veggies I had requested, they had piled on Italian vinaigrette and Dijon mustard, which I did NOT want.\",\n",
       " 'These burgers are phenomenal! The Galley Boy just melts in your mouth, and paired with the potato teasers and a milkshake it is like heaven on Earth.',\n",
       " 'I got stuck in Myrtle Beach last week and stayed here waiting for another flight.  Very clean, comfortable and right near the airport.  I would definitely stay again.',\n",
       " \"#1 it should be advertised as a vegetarian dinner. For the price we paid, I really would have liked a nice cut of meat. \\n#2. Way over priced. Dinner for 2 with (2) blue moon beers and (1) $10 glass of wine... $165+tip. We tipped over 25% because our server was great and the experience of eating in the Dark was a pretty interesting experience. \\n#3. The food was Meh... I would have been okay with everything else if the food was outstanding. It really wasn't... I probably ate 3 bites of my dinner entree just to taste what the different Ingredients were... It was far from savory and could have used even a pasta or something. A couple of dry (what tasted like hush puppies)?? I would have been impressed a little if when I told the server that I didn't enjoy it if he would have offered to try one of the others, but I didn't make a big deal because like I said before he was really nice. The dessert was literally the only saving grace. \\nAll in all I gave a 2 star... (server and experience in the dark)... I just have to be honest incase others go in expecting a non-vegetarian meal... Be ready for a $200 vegetarian dinner!!!!\\n*** also if they don't like your review on their Facebook page they will block you from commenting on other people talking crap about you, they can not handle the truth and allow others to put you down ***\",\n",
       " 'First off food is DELICIOUS! By far my favorite restaurant in downtown Phoenix. I have tried so many different things from the menu and it never disappoints, but the Saturday night special Prime Rib and Horseradish Dauphinoise Potato is my favorite. Second, the service is amazing. Ian is my favorite waiter, will request him every time! He is so personable with a good sense of humor! He constantly is checking up to make sure everything is good (but not too much). He made the experience at the Arrogant Butcher memorable!',\n",
       " \"At least the Pinks concession stand by Section 3.  Unqualified servers who don't tell you that they won't take cash - and they seriously won't take cash.  Then the manager wouldn't even take the cash to another register. The lines are stupid \\nlong and the workers incapable of handling the slightest issue. I m sitting upstairs if there is a next time I come to a Knights game.\",\n",
       " \"Wonderful experience. We sat outside on the patio and watched the Food Channel and listened to music while going over the menu and having a great conversation with out out-of-country guests. The patio is a good place for kids because the patio can drown out even the loudest child.  If you have a need for food with a great bite to it, this is the spot. We only waited 20 minutes for a table for 8 at the peak dinner hour of 7-8. Our server was quick to greet us and get our drinks to our table. We ordered the sashimi wonton tacos and sausage cheese dip with pretzels wrapped with pepperoni. Tuna was fresh. Wontons not greasy. Wasabi sauce with enough zing but not enough to over power the tuna. Pretzels and cheese dip was nice and hot. Pretzels sprinkled with parmesan cheese and crisp.  Entree's were big enough to serve two people! Beef brisket, beef short ribs, pork ribs, Caesar salad, bacon cheese burger all packed with flavor. Caesar salad comes with a huge garlic crouton, which my daughter cut up and we used it to finish up the sausage cheese dip! Caesar dressing was fresh. Corn bread and macaroni & cheese sides tasty. Ordered the cheesecake for dessert. It was large enough for our party of 8 and we left some of it there. Asked our server to put the pretzels, fudge sauce and potato chips on the side instead of on top, which they did.   If your stomach is sensitive, you may want to ask for the various sauces on the side because this isn't a place to miss. It's not that the food is spicy, it does the dance of the happy on your tongue and in your tummy. For some people, it may be too much but for me, this is a good thing!\",\n",
       " \"I was told so many great things about this place but my entire experience was awful. The food wasn't very good, way too greasy. My fries were luke warm and my tray was literally covered in grease. I needed about 50 napkins and a shower after that. The service was pretty awful too. I can't believe I paid $14 for a small meal with no extra fixings. On national cheeseburger day of all days too. Such a disappointment and I've never gone back since. Best thing about it was the soda, but that's pretty difficult to mess up.\",\n",
       " 'Came here for the \"midnight\" launch of the PSVR. After previously being told by another employee a week prior to get there at 6:01PM to get one of the six extra systems that weren\\'t pre-ordered, and that it was first come first serve, I ended up not able to get a system. When I came in yesterday, the woman behind the counter told me they had written down names and numbers of people who wanted one a few days prior, and that they all were accounted for. \\n\\nThe previous employee even told me I was the first person to have asked about it. If they were organized, and told ALL their employees customers could put their names down on a PSVR, I could have gotten a system last night.\\n\\nNot only did this illiminate my chances of getting a system at GameStop, but made it too late for me to go to other department stores who had stock (as they were too far away, and lines were already forming at each location). \\n\\nNot happy.',\n",
       " \"This place is quite possibly my favorite restaurant in Phoenix. \\n\\nMy favorites are the Chicken Scarpariello, the pizza and the Sangria. My wife can't decide between four dishes. Our daughter loves the Penne ala Vodka, Lasagna, or Ravioli.\\n\\nMario and his sons work hard to please and we've never had a bad meal here. I've seen them bend over backwards to try and take care of obvious jerks. \\n\\nPlus to top it off, when local school invited local pizza places to present to a class on making pizza and recycling issues, Mario came and talked to the kids as if they were adults. All the other places treated it as a marketing event and brought coupons. \\n\\nGet the idea? It's all good at this neighborhood gem!\",\n",
       " 'Dr.K. & Dr.B. together with their Agape team are caring, professional, thorough and knowledgeable.\\nDr.K. & Dr.B. will holistically bring your health & well being back into balance, not just treat individual injuries.\\nEach visit is carefully tailored to your current state of being and needs.',\n",
       " \"Man, I love Toronto! Hiding in a strip mall on Overlea, find a dingy looking restaurant that serves up fantastic, cheap kabob...be warned regardless of when you come here you'll likely be waiting for a table as this place is always overrun with people...If you're a fan of perfectly grilled spicy meat, you must try this place out...now that I've been here I need to limit how many times I go here per month :)\\n\\nTake the drive out and have some kabob...if you don't own a car, borrow one or get a zipcar membership...totally worth it!\",\n",
       " \"Today was my first time seeing the staff at Bella Smile and it was a great experience.  Although I'm not currently living in Las Vegas I plan on coming back for checkups and any other problems that may arise.  There was no wait time whatsoever and I was out of there without a drop of pain or discomfort.  The manager Severn was very accommodating and will be getting business from my family and friends in town.\",\n",
       " \"I've taken my kids here several times, and we've never had to wait more then 5 minutes. We go right up, sign in, and they usually call us back right as I'm done signing their paperwork. The doctors have always been super nice. My daughter had stitches done, and she was a nervous wreck. The staff tried so hard to make her comfortable and gave her a stuffed toy when she was done. It was very nice. I wish they would open a bit earlier in the day...otherwise, they're great.\",\n",
       " \"One of the crappier Marriotts I've ever stayed at. The staff is nice and professional enough. But the fact that it's right by the frontage road along I-17, you tend to attract a seedier crowd. Also, with three floors worth of rooms here, guess how many washer/dryer they have for everyone? ONE crappy washer and ONE crappy dryer! Don't even think about washing your clothes on a Friday night. For a two hour period, I went to see if the washer was finally available, each time I was met with yet another load of dirty clothes inside. If they can't afford to get more machines, consider installing one of those number ticket dispensers! Just a thought. Maybe I would have a better shot of washing my clothes. I also considered sitting on top of the washer until the load was done, but that would be kind of creepy on my part. I will be packing all my dirty clothes with me and never come back here again.\",\n",
       " \"Beer, beer, and more beer.  It's definitely a low-key nieghborhood bar.  As an out of towner, I enjoyed it.  It felt like Pittsburgh's version of Cheers except grimier.\\n\\nUnfortunately, the kitchen closes fairly early on weekdays otherwise this place may have received another star.\",\n",
       " 'Love the crust on this pizza. The sauce is decent, cheese is okay, the pepperoni was not the best quality. \\nMy friend ordered an everything slice, said it was good, just wished so cheese was on the toppings to hold it together.',\n",
       " \"Normally, I give a restaurant at least 3 stars as long as it has good food. However, our group was quite disappointed with this restaurant. Granted, we were expecting a lot from an Italian restaurant in the Venetian, but I also think those are fine expectations to have when eating at these prices.\\n\\nFirst, we changed our reservation, and they said they could accommodate the time. Clearly, they shouldn't have. We were seated at a folding table in the hallway next to the restaurant, quite literally in the food court next to a kiosk selling trinkets to tourists. Whatever ambiance this restaurant might offer is a mystery to me. They shouldn't have switched the reservation if it wasn't possible to accommodate the change (our fault, wouldn't blame them). I know they threw a table together as our table and chairs looked different from the rest of the ones set up. A few were just in front of the restaurant but not off to the side like ours was.\\n\\nI expected to pay a lot in the Venetian, but I expected to be blown away. I would have preferred dining at several places we walked at on the way to this one. I paid $17 for spaghetti carbonara. It was very tasty, a well-balanced sauce with a decent amount of pancetta. However, I finished the whole thing. I can't finish an entree at Olive Garden for the same price. I also ate a few pieces of bread. One of my friends ordered a chicken kabob (who knows why that's sold at an Italian restaurant). It was one single kabob with perhaps 4-5 pieces of chicken and 4-5 vegetables on a bed of rice and it cost $25! Absolutely outrageous. \\n\\nTo top it off, we told the waiter we were celebrating a birthday. He said ok, so I expected we would receive a dessert, as is customary. We received nothing. Of course, our waiter didn't seem keen on giving us the time of day so I don't know why I expected him to remember a birthday.\",\n",
       " \"I'm not that familiar with Scottsdale so I'm just guessing that this restaurant is fairly new. The atmosphere is great and lively but s but loud. They have a huge wine and drink list. \\n\\nThe food was really good, I highly recommend the ahi tuna appetizer, ravioli and the skirt steak!\",\n",
       " '\"Good morning, cocktails for you?\" \\nWait...what? Oh...it\\'s Vegas!\\n\\nDining here, you best not be dieting because this place is literally the definition of excess, but in a good way. I\\'m a sucker for benedicts so that was awesome. \\nService was really great too and the staff was so welcoming. It was our first stop just after landing so really appreciate the service.\\n\\nBack in Hawaii this reminds me of Zippys or Anna Millers - that home feeling. Prices are a bit high, but for what you get it\\'s totally worth it. Will remember this place if I ever return to Vegas in the future.',\n",
       " 'Hands down best Bloody Mary ever. So many things in my BM, veggies  mmm bacon.  \"Nailed it\" it\\'s an appetizer. I also had the burger with fries. Who knew fries could be so good. The presentation doesn\\'t disappoint ether. Very nice. Great seating outside although we sat inside. Would love to see this restaurant near my hometown. Seriously. Get the BM. You rock Guy!']"
      ]
     },
     "execution_count": 29,
     "metadata": {},
     "output_type": "execute_result"
    }
   ],
   "source": [
    "sentences"
   ]
  },
  {
   "cell_type": "markdown",
   "metadata": {
    "_uuid": "416d967dba9b3d9208a6c4a351b0f31f2e308034"
   },
   "source": [
    "*4. Loading the Sentiment Intensity Analyser*. "
   ]
  },
  {
   "cell_type": "code",
   "execution_count": 31,
   "metadata": {},
   "outputs": [
    {
     "name": "stderr",
     "output_type": "stream",
     "text": [
      "[nltk_data] Downloading package vader_lexicon to /home/tt/nltk_data...\n"
     ]
    },
    {
     "data": {
      "text/plain": [
       "True"
      ]
     },
     "execution_count": 31,
     "metadata": {},
     "output_type": "execute_result"
    }
   ],
   "source": [
    "import nltk\n",
    "nltk.download('vader_lexicon')"
   ]
  },
  {
   "cell_type": "code",
   "execution_count": 34,
   "metadata": {
    "_uuid": "7213cfba95a1935e945323e74e208ca41d756a8f"
   },
   "outputs": [
    {
     "name": "stdout",
     "output_type": "stream",
     "text": [
      "Total bill for this horrible service? Over $8Gs. These crooks actually had the nerve to charge us $69 for 3 pills. I checked online the pills can be had for 19 cents EACH! Avoid Hospital ERs at all costs.\n",
      "compound: -0.7661, neg: 0.159, neu: 0.841, pos: 0.0, \n",
      "I *adore* Travis at the Hard Rock's new Kelly Cardenas Salon!  I'm always a fan of a great blowout and no stranger to the chains that offer this service; however, Travis has taken the flawless blowout to a whole new level!  \n",
      "\n",
      "Travis's greets you with his perfectly green swoosh in his otherwise perfectly styled black hair and a Vegas-worthy rockstar outfit.  Next comes the most relaxing and incredible shampoo -- where you get a full head message that could cure even the very worst migraine in minutes --- and the scented shampoo room.  Travis has freakishly strong fingers (in a good way) and use the perfect amount of pressure.  That was superb!  Then starts the glorious blowout... where not one, not two, but THREE people were involved in doing the best round-brush action my hair has ever seen.  The team of stylists clearly gets along extremely well, as it's evident from the way they talk to and help one another that it's really genuine and not some corporate requirement.  It was so much fun to be there! \n",
      "\n",
      "Next Travis started with the flat iron.  The way he flipped his wrist to get volume all around without over-doing it and making me look like a Texas pagent girl was admirable.  It's also worth noting that he didn't fry my hair -- something that I've had happen before with less skilled stylists.  At the end of the blowout & style my hair was perfectly bouncey and looked terrific.  The only thing better?  That this awesome blowout lasted for days! \n",
      "\n",
      "Travis, I will see you every single time I'm out in Vegas.  You make me feel beauuuutiful!\n",
      "compound: 0.9971, neg: 0.026, neu: 0.729, pos: 0.244, \n",
      "I have to say that this office really has it together, they are so organized and friendly!  Dr. J. Phillipp is a great dentist, very friendly and professional.  The dental assistants that helped in my procedure were amazing, Jewel and Bailey helped me to feel comfortable!  I don't have dental insurance, but they have this insurance through their office you can purchase for $80 something a year and this gave me 25% off all of my dental work, plus they helped me get signed up for care credit which I knew nothing about before this visit!  I highly recommend this office for the nice synergy the whole office has!\n",
      "compound: 0.981, neg: 0.0, neu: 0.759, pos: 0.241, \n",
      "Went in for a lunch. Steak sandwich was delicious, and the Caesar salad had an absolutely delicious dressing, with a perfect amount of dressing, and distributed perfectly across each leaf. I know I'm going on about the salad ... But it was perfect.\n",
      "\n",
      "Drink prices were pretty good.\n",
      "\n",
      "The Server, Dawn, was friendly and accommodating. Very happy with her.\n",
      "\n",
      "In summation, a great pub experience. Would go again!\n",
      "compound: 0.9896, neg: 0.0, neu: 0.595, pos: 0.405, \n",
      "Today was my second out of three sessions I had paid for. Although my first session went well, I could tell Meredith had a particular enjoyment for her male clients over her female. However, I returned because she did my teeth fine and I was pleased with the results. When I went in today, I was in the whitening room with three other gentlemen. My appointment started out well, although, being a person who is in the service industry, I always attend to my female clientele first when a couple arrives. Unbothered by those signs, I waited my turn. She checked on me once after my original 30 minute timer to ask if I was ok. She attended my boyfriend on numerous occasions, as well as the other men, and would exit the room without even asking me or looking to see if I had any irritation. Half way through, another woman had showed up who she was explaining the deals to in the lobby. While she admits timers must be reset half way through the process, she reset my boyfriends, left, rest the gentleman furthest away from me who had time to come in, redeem his deal, get set, and gave his timer done, before me, then left, and at this point my time was at 10 minutes. So, she should have reset it 5 minutes ago, according to her. While I sat there patiently this whole time with major pain in my gums, i watched the time until the lamp shut off. Not only had she reset two others, explained deals to other guest, but she never once checked on my time. When my light turned off, I released the stance of my mouth to a more relaxed state, assuming I was only getting a thirty minute session instead of the usual 45, because she had yet to come in. At this point, the teeth formula was not only burning the gum she neglected for 25 minutes now, but it began to burn my lips. I began squealing and slapping my chair trying to get her attention from the other room in a panic. I was in so much pain, that by the time she entered the room I was already out of my chair. She finally then acknowledged me, and asked if she could put vitamin E on my gum burn (pictured below). At this point, she has treated two other gums burns, while neglecting me, and I was so irritated that I had to suffer, all I wanted was to leave. While I waited for my boyfriend, she kept harassing me about the issue. Saying, \"well burns come with teeth whitening.\" While I totally agree, and under justifiable circumstances would not be as irritate, it could have easily been avoid if she had checked on me even a second time, so I could let her know. Not only did she never check on my physical health, she couldn't even take two seconds to reset the timer, which she even admitted to me. Her accuse was that she was coming in to do it, but I had the light off for a solid two minutes before I couldn't stand the pain. She admitted it should be reset every 15 minutes, which means for 25 minutes she did not bother to help me at all. Her guest in the lobby then proceeded to attack me as well, simply because I wanted to leave after the way I was treated. I also expected a refund for not getting a complete session today, due to the neglect, and the fact I won't be returning for my last, she had failed to do that. She was even screaming from the door, and continued to until my boyfriend and I were down the steps. I have never in my life been more appalled by a grown woman's behavior, who claims to be in the business for \"10 years.\" Admit your wrongs, but don't make your guest feel unwelcome because you can't do you job properly.\n",
      "compound: -0.9907, neg: 0.106, neu: 0.825, pos: 0.069, \n",
      "I'll be the first to admit that I was not excited about going to La Tavolta. Being a food snob, when a group of friends suggested we go for dinner I looked online at the menu and to me there was nothing special and it seemed overpriced.  Im also not big on ordering pasta when I go out. Alas, I was outnumbered. Thank goodness! I ordered the sea bass special. It was to die for. Cooked perfectly, seasoned perfectly, perfect portion. I can not say enough good things about this dish. When the server asked how it was he seemed very proud of the dish and said, \" doesn't she (the chef) do an incredible job?\" She does. \n",
      "\n",
      "My hubby got the crab tortellini and also loved his. I heard \"mmmm this is so good\" from all around the table. Our waiter was super nice and even gave us free desserts because we were some of the last people in the restaurant. Service was very slow and the place was PACKED but we had our jugs of wine and a large group with good conversation so it didn't seem to bother anyone.\n",
      "\n",
      "So-\n",
      "\n",
      "Do order the calamari and fried zucchini appetizers. Leave out the mussels. \n",
      "\n",
      "If they have the sea bass special, I highly recommend it. The chicken parm and crab tortellini were also very good and very big. The chicken Romano was a bit bland. The house salads were teeny. \n",
      "\n",
      "Do make a reservation but still expect to wait for your food. Go with a large group of people and plan for it to be loud. Don't go with a date unless you're fighting and don't feel like hearing anything they have to say.  Ask to sit in the side room if it's available.\n",
      "compound: 0.446, neg: 0.097, neu: 0.8, pos: 0.103, \n",
      "Tracy dessert had a big name in Hong Kong and the one in First Markham place has been here for many years now! \n",
      "\n",
      "Came in for some Chinese dessert, and I must say their selection has increased tremendously over the years. I might as well add that the price has also increased tremendously as well. The waitress gave us tea, which I could taste had red date in it. Fancy!\n",
      "\n",
      "A simple taro with coconut with tapioca pearls was like $5.25 or something. Basically all the desserts were more than $5. That's crazy! I can literally just make this dessert at home and for a bowl, it would probably cost like $0.50. A few years ago, I think I can still get it for like $3-$4, which is more reasonable, but wow, more than $5 is a little over the top for this dessert. Though I must say, it is Tracy Dessert, and they are a little more on the expensive side. \n",
      "\n",
      "I also saw other items on the menu like fish balls, chicken wings, shaved ice. My friend got a mango drink with fresh mango in it! \n",
      "\n",
      "I'm also surprised how many people come to Tracy Dessert after work. We came on a Sunday and the tables were always filled. I think the amount of tables they had were just perfect because no one really waited for seats for a long time, but the tables kept filling up once a table was finished.\n",
      "compound: 0.984, neg: 0.018, neu: 0.831, pos: 0.151, \n",
      "This place has gone down hill.  Clearly they have cut back on staff and food quality\n",
      "\n",
      "Many of the reviews were written before the menu changed.  I've been going for years and the food quality has gone down hill.\n",
      "\n",
      "The service is slow & my salad, which was $15, was as bad as it gets.\n",
      "\n",
      "It's just not worth spending the money on this place when there are so many other options.\n",
      "compound: -0.5523, neg: 0.094, neu: 0.871, pos: 0.035, \n",
      "I was really looking forward to visiting after having some of their beers. The \"Man O'War\" quickly became my favorite DIPA; the Rusulka Vanilla Stout is a good thick, sweet stout; and the Ironclad is a top notch IPA. \n",
      "The only big miss on their beers I've had is the Big Chuck Barleywine. It could probably benefit greatly with age, but at this age all there is to taste is the alcohol.  \n",
      "Nonetheless, I had enough to convince me that the other beers I hadn't had from them would be top notch... and they are! \n",
      "The reason for the 2 stars should not reflect the quality of the brewers, they obviously know their craft well! \n",
      "The servers are great and friendly.... but relying on two servers to wait on 100+ customers says a lot about how inexperienced management must be. In fact, after waiting 15 mins at a dirty table I was finally able to track down someone I guessed was an employee to let them know we were even there! \n",
      "After another 5+ mins, the GM finally stopped over to take our drink order. The smugness of this guy was amazing. The thought of offering a simple apology never seemed to enter into his head. \n",
      "This is the time a server finally stopped by to pick up the non-final check left by the party before us... who didn't seem very pleased when leaving. \n",
      "The toast & cheese was good, but by the time we were able to dig into their heartiest offering of food, saltines and butter may have been equally pleasing.\n",
      "compound: 0.9751, neg: 0.057, neu: 0.792, pos: 0.151, \n",
      "It's a giant Best Buy with 66 registers.  I don't get it.  What's the big deal about this place??\n",
      "compound: 0.6767, neg: 0.0, neu: 0.778, pos: 0.222, \n",
      "Like walking back in time, every Saturday morning my sister and I was in a bowling league and after we were done, we'd spend a few quarters playing the pin ball machines until our mother came to pick us up.\n",
      "\n",
      "My sister was daring and play the machines hard, she was afraid of that \"tilt\" showing up and freezing the game.  I, on the other hand was a bit more gentler and wanted to make sure I got my quarter's worth.\n",
      "\n",
      "This place has rows and rows of machines, some are really old and some are more of a mid 80's theme.  There is even a Ms pac man!  It was fun to spend an afternoon playing the machines and remembering all the fun of my early teen years.\n",
      "compound: 0.9725, neg: 0.02, neu: 0.78, pos: 0.2, \n",
      "Walked in around 4 on a Friday afternoon, we sat at a table just off the bar and walked out after 5 min or so. Don't even think they realized we walked in. However everyone at the bar noticed we walked in!!! Service was non existent at best. Not a good way for a new business to start out. Oh well, the location they are at has been about 5 different things over the past several years, so they will just be added to the list. SMDH!!!\n",
      "compound: 0.7237, neg: 0.028, neu: 0.886, pos: 0.086, \n",
      "Wow. So surprised at the one and two star reviews!  We started with the most tender calamari. Although the marinara sauce was a bit bland, but a touch of salt made it just right. My husband had the veal with peppers and said it was so delicious and tender. The mashed potatoes were perfect. I had the salmon Diablo which was also delicious. Our salad was beautiful! Dressing was served on the salad and it was a nice amount. We ended our delicious meal with a piece of tiramisu. Our server Matt was right on!! Very pleasant and knowledgeable about the menu. Our appetizer, salad and entrees were timed perfectly. I love salad and did not mind that my entree was served while I was still eating it! No problem it let my dinner cool to just the right temp for me to eat it comfortably. \n",
      "I wonder sometimes if people just don't appreciate relaxing and taking time to eat a wonderful and beautifully prepared meal.  A wonderful atmosphere. So relaxing. The chairs are super comfortable too!!! We will certainly be back. \n",
      "Give it a try.  Don't  always go by the reviews. \n",
      "A bottle of Riesling, calamari app, two delicious entrees and dessert for $92! \n",
      "Well with it.\n",
      "compound: 0.9984, neg: 0.056, neu: 0.592, pos: 0.352, \n",
      "Michael from Red Carpet VIP is amazing ! I reached out because I needed help planning my soon to be sister in law's bachelorette. It was a group of 10 girls so I was a little overwhelmed but Michael saved the day! Everything was super smooth and easy! We got good deals and had the best time ever! We booked hotel and a bachelorette package for a great price. I have saved contact info because I will for sure reach out again on next Vegas trip!!!\n",
      "compound: 0.9927, neg: 0.011, neu: 0.572, pos: 0.417, \n",
      "I cannot believe how things have changed in 3 years. I picked up duck congee sometime in the winter when my hubby was sick.  I was very disappointed because the ginger fish sauce tasted like it had gone bad (it should never be bitter).  Today, my hubby wanted to eat there since he was craving the duck congee and most places don't serve the duck & coleslaw side. We waited about 10 minutes to get our menu.  After we placed our orders, we waited another 5 minutes to get the tea that most places bring with the menu.  I could go on with the details but the gist of the story is they were understaffed or the staff was slow.  The worst part of it was that the service.  The servers make us feel bad for asking for anything (like when they took our order).  We had arrived and placed our order before another couple bside us at least 10 minutes ahead but somehow, this couple received their pho before mine.  They were almost done eating their pho before mine came out.\n",
      "compound: -0.9455, neg: 0.091, neu: 0.9, pos: 0.009, \n",
      "You can't really find anything wrong with this place, the pastas and pizzas are both amazing and high quality, the price is very reasonable, the owner and the staff are very friendly, if you're in downtown check this place out, a lot of people think just because it's downtown there are lots of options around but that's not always the case as there is also a lot of poor quality food in downtown as well.\n",
      "compound: -0.0091, neg: 0.078, neu: 0.833, pos: 0.089, \n",
      "Great lunch today. Staff was very helpful in assisting with selections and knowledgeable on the ingredients. We enjoyed the BBQ chicken with tika masala sauce and really good naan bread. The biryani with chicken was also yummy! Fun to see the food being prepared in the tandoori ovens. Great addition to the fast casual scene in Cleveland.\n",
      "compound: 0.9808, neg: 0.0, neu: 0.628, pos: 0.372, \n",
      "I love chinese food and I love mexican food. What can go wrong? A couple of things. First things first, this place is more of a \"rice bowl\" kind of place. I thought it was going to be more diverse as far as the menu goes, but its mainly rice bowls you get with different kinds of meats. The ordering was a little confusing at first, but one of the employees helped us out and I got the 2-item bowl and got the jade chicken and hengrenade chicken with all rice(jerk). I also ordered a jade chicken quesadilla on the side.\n",
      "\n",
      "I'm gonna admit, this place looks kinda dirty. I don't think Arizona uses those health department letter grade system like California does, but if I were to just judge by how it looked inside, i'd give it a \"C\" grade lol. We waited for about 15 minutes or so and finally got our food. We took it to go and ate at our hotel room. \n",
      "\n",
      "Mmmm... the food was just alright. The jade chicken was nothing special. It tasted like any generic chinese fast food orange chicken/sesame chicken variant. The hengrenade chicken, although was the less spicier version of the jerk chicken, was still pretty spicy for me. Just be warned the jerk chicken is super spicy. If you aren't sure, ask for a sample at the restaurant before ordering, but it was way too spicy for me. \n",
      "\n",
      "The jade chicken quesadilla was decent, but nothing special. Just imagine orange chicken in between a tortilla and cheese. A friend of mine ordered a jade chicken burrito and we were confused when we pulled it out of the bag because it was literally the size of Mcdonald's apple pie. If you order the burrito, be warned that it's a burrito for gnomes and smurfs, but he said it was tasty. \n",
      "\n",
      "They provide a snicker doodle sugar cookie for each meal and it was decent, again nothing special. \n",
      "\n",
      "Not gonna lie, the next day my stomach felt like a little mexican dude and chinese dude were wrestling and throwing molotov cocktails inside. I used the bathroom like 5 times. I don't recommend eating this place if you have a lot to do the next day.\n",
      "compound: 0.8385, neg: 0.089, neu: 0.811, pos: 0.101, \n",
      "We've been a huge Slim's fan since they opened one up in Texas about two years ago when we used to live there. This place never disappoints. They even have great salads and grilled chicken. Plus they have fresh brewed sweet tea, it's the best!\n",
      "compound: 0.9622, neg: 0.0, neu: 0.642, pos: 0.358, \n",
      "Good selection of classes of beers and mains. I've been here twice.\n",
      "\n",
      "First time I had the fried chicken. It was delicious, but be warned, extremely salty. I couldn't even finish the last piece of chicken after experiencing a salt overload.\n",
      "\n",
      "Second time we came on a wednesday. We didn't know it was BBQ night, where they have a completely different menu, and don't offer anything from their original vegetarian-friendly menu. This menu has one vegetarian-friendly option - an eggplant sandwich. The vegetarian in my party said it was awful. Also, on BBQ night you choose 2 sides. Except they were out of all their sides except 2 - fries and potato salad. I can't say I was thrilled to have carb heavy sides with my carb heavy main. How do you run out of sides so early in the evening?\n",
      "\n",
      "Service not so great.\n",
      "\n",
      "I'd avoid coming here on wednesdays.\n",
      "compound: -0.9203, neg: 0.135, neu: 0.799, pos: 0.066, \n",
      "Our family LOVES the food here. Quick, friendly, delicious, and a great restaurant to take kids to. 5 stars!\n",
      "compound: 0.9495, neg: 0.0, neu: 0.453, pos: 0.547, \n",
      "If you are looking for the best pierogies in Pittsburgh, this is your place. There are a few small tables outside but most of the business is carry out. Pierogies Plus wins Best Pierogies every year. Why? Because the owner is from Poland and she is making the real deal pierogies. The best part is that they are hand pinched by a group of older Polish and Hungarian women. \n",
      "The biggest seller is potato and cheese but they sell many flavors. They are like plump pillows of softness. You can buy them buy the dozen. You can get them cold to take home and freeze or warm and ready to eat. The warm ones are served with butter and onions.  It's definitely a comfort food. The best part is that they ship internationally. Yes, they are that good.\n",
      "compound: 0.9956, neg: 0.0, neu: 0.682, pos: 0.318, \n",
      "The food is always good and the prices are reasonable.  Although it's not exactly a restaurant -- more like a snack bar, limited menu and you walk up to the counter, place your order, wait a minute or so for them to prepare your order, and pay the cashier, then search for a table.  Kind of like a sandwich shop.  Still a much better choice for value than the other hotel Deli's on the strip.\n",
      "compound: 0.8882, neg: 0.042, neu: 0.784, pos: 0.174, \n",
      "Pick any meat on the planet and the chef will make a Mexican style dish with amazing flavor! Wow, fish and lamb tacos to die for. Drinks are great as well.\n",
      "compound: 0.8805, neg: 0.091, neu: 0.582, pos: 0.328, \n",
      "Great food, great service. Obviously fried chicken isn't the healthiest food on earth, but once a month I get that craving for good fried chicken. Their chicken is great, doesn't seem too fatty, and their sides are excellent too. A+\n",
      "compound: 0.9668, neg: 0.0, neu: 0.627, pos: 0.373, \n",
      "PlumbSmart provided superior service from beginning to end.  They were able to repair a badly damaged sewer pipe with only one day's notice.  I was particularly pleased with their attention to care when cleaning up the landscape after the job was completed.  Their competitive pricing and excellent service make them my first stop for all future plumbing needs.  Thank you to Wayne and the whole team!\n",
      "\n",
      "-Scott B\n",
      "compound: 0.8716, neg: 0.1, neu: 0.681, pos: 0.22, \n",
      "Unfortunately, I must recommend not to conduct any business with Fast Fix Jewelry and Watch Repairs.  The staff is completely unprofessional and I have never been treated so rudely in my life.  I was actually shocked and walked away thinking \"wow, how do those people even have a job?\"\n",
      "\n",
      "I have never written a negative review before, I usually chalk it up to someone having a bad day.  I have worked in customer service for 10+ years and I know it is exhausting and bad days happen.  But this is a special occasion.\n",
      "\n",
      "I drove 30 minutes to try to find someone who could help me repair a watch band.  I was barely greeted upon arrival and right away felt like I was bothering them.  The girl behind the counter obviously just wanted me to leave, the blond kid working snapped at me when I asked a question and when I re-asked in order to clarify what he said he snapped again and said, \"I already told you?!?\"  \"Is this even authentic?\"  Shouting at me over his shoulder as he work on something else. \n",
      "\n",
      "I was shocked and just stood there put my watch away awkwardly and left with no one else saying a word to me.  There are a lot of places that fix Jewelry in this city and I will be taking my business elsewhere and recommend that people reading this review do the same.  Some places, just do not deserve a loyal customer base.\n",
      "compound: -0.9559, neg: 0.141, neu: 0.791, pos: 0.069, \n",
      "their pettuccine was fresh-made in the morning. it was very delicate and yummy! the owner and staffs are super kind and delightful. We also had Veal piccata. it was classic! love this restaurant.\n",
      "compound: 0.9684, neg: 0.0, neu: 0.562, pos: 0.438, \n",
      "if i can give this place no stars i would, i only had their hot pot though, so im not a good judge for anything besides their shabu. i must say, quantity was small, price is expensive for the quality and quantity, and the taste of the soup base is bland as if they just put hot water in. the sauce selection is limited and not very fresh/clean from my perspective. i love hot pot and i would never go back again because home made hot pot can be much better than this place without even trying. anyways, if you have a good appetite for hot pot, you can do yourself a favor and skip this place because it can make you miserable!\n",
      "compound: -0.2804, neg: 0.1, neu: 0.823, pos: 0.076, \n",
      "This review is in regards to our experience watching SuperBowl 51 February 5, 2017 at the WestGate in the theater/auditorium.\n",
      "\n",
      "Watch the game somewhere else.....\n",
      "\n",
      "To those unfamiliar with The Big Game experience at WestGate you typically would get in line to watch the Superbowl in the theater portion of the hotel around 8 am on Superbowl Sunday. This line can get extremely long yet the earlier you get in line your choice of seating significantly improves.So...after waiting in line for a few hours we were notified the lower portion of the theater was reserved for paid customers who previously purchased wristbands for $100 (including alcohol and hot dogs) and instead we would be seated in the balcony portion of the theater.No problem, something different, we said. Mistake.\n",
      "\n",
      "So at 1:30 pm we were sent upstairs to the balcony to take our seats and prepare to watch the big game at 3:30. Once we take our seats one of us ( we're in a group of 8 ) will hold the seats while the rest of us will go out to the casino floor and gamble or go the the sports book and place a couple last minute bets.Please note the patrons that leave the auditorium will receive a hand stamp or wristband to allow reentry to the theater. BUT INSTEAD....\n",
      "\n",
      "We were told by Westgate staff that no hand stamps or wristbands would be given and we were ON OUR OWN if we choose to leave and we would not be allowed back in. Wow.\n",
      "That's right, after waiting in line all morning if we wanted to go downstairs to play blackjack, place a bet at the book, or maybe have a bite to eat because no food was made available upstairs we would be out of luck. Nice work Westgate.\n",
      "\n",
      "So we were seated upstairs...stuck. With no food or soda available for purchase. Only beer and water was sold in the balcony food counter. That was at 1:45 p.m. After vigorously complaining to Westgate staff ( to ushers with yellow jackets and security with black jackets ) at 3:04 pm wristbands were given out. At 3:18 hot dogs and soda were made available for sale in the balcony. I believe this was a direct result of all the upset patrons like myself that were seated in the balcony level.\n",
      "\n",
      "In summary, for being the biggest sportbook in Las Vegas this place is dysfunction and fails to satisfy the most basic request to provide food and comfort to betting patrons. A total mess. This place sucks. Watch the big game and bet your money some where else. We will.\n",
      "compound: 0.8294, neg: 0.075, neu: 0.842, pos: 0.083, \n",
      "ended up here because Raku was closed and it received great ratings on Yelp.  I'm so glad I came here.  One of the better meals I've had.  Started off with the mushroom dish and the lettuce wrap.  both were amazing. the lettuce wrap is like having a flavor party in your mouth.  also had the panang duck which was terrific. highly recommend all three dishes. one dish that wasn't so good was the seabass with drunken noodles. overall it was an excellent meal, intimate setting, and great service. definitely will be back.\n",
      "compound: 0.9864, neg: 0.026, neu: 0.665, pos: 0.309, \n",
      "I tried this place because my girls are away for a month, and I REALLY wanted to try to wait until they came back, because NOBODY can hold a candle to them, but my toes were desperate.  When I went in, they were almost twice what I usually pay to begin with.  Then, before starting the pedicure, I specifically told them I already had gel polish on my toes.  They didn't tell me right then and there \"that will be an extra $5'.  No, they waited until it was time to pay, and not only charged me for that, but they charged me all kinds of extra fees that I didn't even ask for!  I had also informed the girl that my toenail was loose and needed gluing.  While I was looking at my phone, all of a sudden I felt this sensation, and she RIPPED OFF MY TOENAIL!!!!  Without even asking me!!!!!!  So then she had another girl come and put acrylic on there since the nail underneath was only 1/2 grown.  Again, they didn't tell me how much this would be, or even ask my permission, they just charged me at the end.  \n",
      "\n",
      "The added stone 'massage' was barely a massage!  She rubbed the stones up my lower legs a couple times, and that was it.  It lasted about 30 seconds.   And when I asked for a design, I'm used to getting a board with a bunch of designs to choose from.  She didn't even ask me what I wanted, she just painted a few lines on my two toes and then charge me 5 MORE dollars for that! \n",
      "\n",
      "Ugh, I don't care HOW ugly my toes look next time, I will NEVER go anywhere else besides Bella Nails again, they ROCK!!!!!!!  This place was appalling.  I didn't want to make a scene, so I just paid the money, but I will NEVER go back!!!!!!!\n",
      "compound: -0.9544, neg: 0.088, neu: 0.882, pos: 0.03, \n",
      "Love this place downtown but the Scottsdale location has no manners. Sat at bar for 10 min while bartender ignored us. No menu, no water. We walked out and they could have cared less.\n",
      "compound: -0.6187, neg: 0.249, neu: 0.613, pos: 0.138, \n",
      "Best chinese resto. Highly recommended. 5 stars. Let us support this business. Best in the west valley. Trust me you wont gi wrong coming to this place\n",
      "compound: 0.9587, neg: 0.0, neu: 0.512, pos: 0.488, \n",
      "Came here on a Thursday night at 6:30 p.m. My friends and I had a reservation, but it was not needed - the place was almost empty.\n",
      "\n",
      "SERVICE: Extremely Poor\n",
      "\n",
      "While I enjoyed the company of my friends, I would not come back to this restaurant, primarily because of the poor service. Once we were all seated, we were not greeted by anyone for over half an hour, and when someone did come by, we asked whether we could place our orders, to which he said he could not; he's doing something else - so we waited at least another 15 minutes before someone came to finally take our orders. \n",
      "\n",
      "MAIN: Caprese Salad\n",
      "\n",
      "The salad was okay - a bit salty for my liking. I personally did not find this dish filling, so I ordered the sweet potato fries as well (See below).\n",
      "\n",
      "MAIN: Sweet Potato Fries (this was worth it) \n",
      "\n",
      "These fries were actually very delicious - crispy on the outside and soft on the inside. If you visit this restaurant, I would recommend this particular dish, especially given the price ($8) and the portion size (it was quite large - almost the size of a large plate).\n",
      "compound: 0.9806, neg: 0.058, neu: 0.765, pos: 0.177, \n",
      "Went here last weekend and was pretty disappointed. They did not have one thing that was pictured and recommended on yelp as being good. We started off with the steak grilled skewers which were just Ok, nothing special. My freind got the lasagna and I got some special chicken dish. They were both pretty bland and lacking that kick. Our waitress was really nice and got the manger to switch out our dishes. My freind got the hamburger and I got the shrimp scampi. Her hamburger was better then the lasagna but was still lacking flavor. My scampi was better then the chicken but was also still under seasoned and the noodles were a bit under cooked. With such a big name attached to this restaurant and going on such an empty stomach we had such high hopes. The service was great which is why i gave it three stars.\n",
      "compound: 0.9574, neg: 0.046, neu: 0.795, pos: 0.16, \n",
      "This place epitomizes the rumored transformation that is in the process of taking place in Pittsburgh. Great food, drinks, and service, but the atmosphere is second to none. Definitely a must visit for locals and visitors alike! You will not feel like you're in \"Pittsburgh\".\n",
      "compound: -0.5096, neg: 0.118, neu: 0.83, pos: 0.052, \n",
      "Dinner Was Fantastic! Service was great We started with the corn soup and the tuna tartare. We shared the Filet and Scallops. Both delicious entrees! We didn't realize the steak came with potatoes and ordered two sides Mac and cheese and shishito peppers. I thought the peppers were really hot but I'm a whimp I guess! We will definitely come back\n",
      "compound: 0.9067, neg: 0.0, neu: 0.799, pos: 0.201, \n",
      "They keep there appointments on time and are pretty efficient. However I am very disappointed in how they think that just because I am a girl that I do not know what is going on with my car's tires. The guy that helped me out told me that my two front tires tread was extremely low and that I would be needing two new tires in a month or two. He told me that he could show me the same tires I have on there now and how much they would be. When the I had taken my car to the other Discount Tire they told me it that my tread was actually still really good for how many miles I have on my car. When he told me the price of the two tires it was around $280. Which I had just bought two new ones a couple months before that and they were the same price. So when I bought the two new tires my tire pressure light came on not that long after that. I honestly feel like the tires were not even new and did not look worth $280.\n",
      "compound: 0.722, neg: 0.049, neu: 0.875, pos: 0.075, \n",
      "Met a friend for dinner there tonight. The server only brought us one menu. After she brought us a couple of Cokes she didn't come to our table for 20 mins. After trying to get her attention a few times when she walked by we decided to just order off the bartender. We received the starters and the mains at the same time. The wings, brisket, and mac and cheese were alright at best. At this point we hadn't seen the server since she brought the food, so we had to go to the bar for more napkins and refills on the Cokes. The most we actually saw our server was when she hovered over us as we put the tip into the handheld credit card terminal. \n",
      "\n",
      "Food was somewhere between okay and decent. Service was somewhere between piss poor and terrible.\n",
      "compound: 0.6124, neg: 0.058, neu: 0.852, pos: 0.09, \n",
      "Another solid BBQ place in Calgary. This is definitely a great place to go if you are craving something smokey and delicious. \n",
      "\n",
      "I actually noticed this place because I wandered by when I was walking downtown and it's impossible to miss that lovely smokey/BBQ smell if you're on the block. However, it looks kind of like a hole in the wall. The entrance doesn't look like it's been updated in years, and that's ok because it just adds character. The entire decor is wood/country (to include buffalo head on the wall) and there is also a downstairs where there is live music on the weekends.\n",
      "\n",
      "Ok onto the food. I have been here a couple of times now, so I think I can comment on the menu pretty well. My friends and I have ordered the brisket, the catfish, the veggie burger, the mac n cheese, the cesar salad, the chili, and the garlic fries. If I had to review this place based on the delicious and garliciness of their fries, this would be a 5-star review hands down. I mean, seriously, vampires beware, but everyone else should enjoy a-plenty.\n",
      "\n",
      "The portion sizes are huge, so go hungry or be prepared for a to-go box (granted every time I've gone I have loved the food so much that I ate the entire meal.) \n",
      "\n",
      "I bet at this point in time you are wondering why I am only giving this place 4 stars then? Well, not everything is as amazing as those garlic fries. The bourbon apples are fairly tasteless, the chili is ok (the meat was very tough), and the service is also just ok. However, the catfish is delightful, the mac and cheese is also delicious, and the brisket is quality. \n",
      "\n",
      "The specialty cocktails are also pretty good, and the beer prices are pretty decent. This is a great place to go for a long lunch, after dinner drink, or even a weekend brunch. There are vegetarian options on the menu (if you can ignore the buffalo head on the wall) and I believe even a few gluten-free options as well. It's a fairly good place to go with a large group, just make sure to call ahead. \n",
      "\n",
      "All in all, like I said earlier, a great place for good times and smokey flavor.\n",
      "compound: 0.9983, neg: 0.018, neu: 0.739, pos: 0.243, \n",
      "One day after I satisfy my frozen yogurt craving at Kiwispoon... I get invited out to eat frozen yogurt at Piccadilly.  A rare opportunity to truly compare the two yogurt places.\n",
      "\n",
      "Here, I tried three flavors - chocolate, pumpkin, and caramel sea salt.  Added toppings of brownie bits, chocolate caramel turtles, and mochi.\n",
      "\n",
      "Overall, I liked the yogurt better at Kiwispoon. The frozen yogurt seems less rich in Piccadilly's and the flavors are not as strong.  The price per ounce is also marginally higher at Piccadilly's.\n",
      "\n",
      "There are definitely pluses to Piccadilly's yogurt though.  I liked the toppings better - I thought the mochi tasted better, the brownie pieces were bigger, and the chocolate caramel turtles went great on ice cream.  The chocolate caramel turtles should be a standard topping for both frozen yogurt and ice cream places.  Also, with the huge map of Cleveland Heights behind the cash register, this feels more like an authentic \"neighborhood\" froyo joint.\n",
      "compound: 0.9867, neg: 0.015, neu: 0.767, pos: 0.217, \n",
      "I called the number provided and same day they showed up to my residence for an inspection. Was able to advise me of multiple broken and loose tiles on my roof and came out just a few days later and completed the repairs. Quoted me a good price for the repairs as well. No complaints!\n",
      "compound: -0.6476, neg: 0.171, neu: 0.727, pos: 0.102, \n",
      "Party of 3 ordered the fish tacos, pork belly banh mi, corn beef hash Benedict, and bam ham. Everything was delicious, esp the pork belly banh mi. It's tender and juicy and the baguette was nicely toasted. Love the crispy fish taco too. Their compliment chips and salsa were fresh and super good and crispy. Service was excellent. Our waitress did a great job checking up on us and serving us. I really want other food options too but I'm too full. Next time i visit i will definitely come back.\n",
      "compound: 0.9666, neg: 0.0, neu: 0.736, pos: 0.264, \n",
      "We had dinner at the Bellagio Buffet last night. The service was OK. Our server was great but kind of forgot about us towards the end of our visit. The food was cold. The only good thing there was the crab legs because they're suppose to be cold and the tacos because it was freshly made. The food was under a single lamp that didn't heat the food at all. We let the server know that the food was cold and he told the manager that was in charge. All she did was come over to ask what the problem was and said she was going to talk to the chief. Have no idea what actually happened though because we didn't see her after that. Half the buffet was closed as well so there wasn't that many options. I must say i rather go to the Rio buffet. For a high end casino this was a horrible experience.\n",
      "compound: -0.2694, neg: 0.066, neu: 0.868, pos: 0.066, \n",
      "I really enjoyed my visit here.\n",
      "Everything was visually appealing to me.\n",
      "Ambiance was great. Food tasted amazing. Service was . No complaints at all\n",
      "compound: 0.8221, neg: 0.142, neu: 0.523, pos: 0.334, \n",
      "Flat out fantastic!  Have been here twice and the croissants are the bomb. Can't wait until I can try other items. THE new breakfast spot in Ahwahtukee. The service is great as well. Family run business. Come and support them.\n",
      "compound: 0.9501, neg: 0.0, neu: 0.669, pos: 0.331, \n",
      "Very nice eating environment and the food are quite nice. Very native Japanese style.\n",
      "compound: 0.734, neg: 0.0, neu: 0.66, pos: 0.34, \n",
      "notes: 1 visit, breakfast/lunch\n",
      "overall: Excellent high-end buffet, but the dessert section needs a little work.\n",
      "\n",
      "highlights: \n",
      "- Dip the foccacia pizza in some chimichurri sauce, and it's the best pizza you'll have ever had.\n",
      "- Prime rib is excellent\n",
      "- I hate crab legs in general, but everyone else says they were great here, really fresh.\n",
      "- Cookies!  You must try their cookies.  I got so lucky and grabbed some white chocolate macadamia cookies when they were still warm.  Crispy on the sides and chewy and mouth-wateringly good.  I mean, I was stuffed beyond belief, but I couldn't stop eating it!\n",
      "- If you get in during breakfast time, do try the Portuguese sausage.  It's the only breakfast food really worth it.\n",
      "\n",
      "Avoid:\n",
      "- Gelato bar looks good, but the texture was more like the soft serve at Dairy Queen. (which I HATE) So disappointed.\n",
      "- Shrimp pad thai was served ice cold.  So gross.\n",
      "compound: 0.9837, neg: 0.092, neu: 0.661, pos: 0.247, \n",
      "I am years out from surgery with sacs and I wish I could turn back time.  He promises great things them butchers your body. I should have left my body alone. It was not bAd. I was out to perfect it.  We often talk about how he ruined a good body.  I will never forget his dirty nasty slippers coming into the operating room. I should have run from the room then.\n",
      "compound: 0.922, neg: 0.103, neu: 0.626, pos: 0.271, \n",
      "Such a unique place & a great find. Our waitress was funny, knowledgable, and did a fantastic job. The food was amazing. We will definitely return and recommend this restaurant to other couples!\n",
      "compound: 0.9633, neg: 0.0, neu: 0.536, pos: 0.464, \n",
      "Best Wonton soup ever!!! Delicious food and great service. We had Chicken Satay, Roti C., Wonton soup, and one of the fried noodle and shrimp dishes. Definitely will be back!\n",
      "compound: 0.9507, neg: 0.0, neu: 0.621, pos: 0.379, \n",
      "I've never experienced discrimination as I did last night at this place. I was with 2 other females...we had on dresses and heels. The place was very diverse as far as how everyone was dressed. Dresses, heels, jeans, flip flops, shorts, etc. Immediately we noticed large groups of people of a particular race coming from the back of the line and going inside. We thought nothing of it...assumed they were all on lists. Then it just got weird. We noticed the guy working the door was walking back and fourth scanning the line for people he would pull out and let go inside. Every time it just happened to be groups with Caucasian people. 4 Caucasian girls were in front of us and behind a group of 4 black males. The girls were pulled out of the line and taken to the door to go inside, no talk of any lists. The guys were told they must be on a list or leave. The guys left. We watched this happen quite a few more times before we just gave up here and removed ourselves from the line. We were standing in the front for a really long time with no acknowledgement from the guy working the door. Funny thing is he didn't make a big announcement that we must be on a list to get inside. He was walking up to particular groups and telling them in a low tone so they would leave. I know it wasn't because of how we were dressed or looked....they were letting people in with jeans and flip flops. Ultimately we were let in by a bouncer at a side door. There was nothing so special going on in there that they had to be \"picky\" about who they let inside. It was like a night at Suite.  Safe to say, I will never step foot in this place again.\n",
      "compound: -0.7135, neg: 0.058, neu: 0.915, pos: 0.027, \n",
      "We had dinner here and the food was excellent and the service couldn't have been better!\n",
      "Thanks Jose! \n",
      "We will be back for sure.\n",
      "compound: 0.7951, neg: 0.075, neu: 0.627, pos: 0.297, \n",
      "Absolutely love this place! I've been here many times and it never fails to impress me  the bff burger is unreal and the tsoynamis and cupcakes are amazing!! Everything is pretty much the best\n",
      "compound: 0.9698, neg: 0.046, neu: 0.517, pos: 0.437, \n",
      "Here's why I don't write reviews for Chinese restaurants: I have to look up their English names... \n",
      "\n",
      "It's so popular that I didn't try it until recently. The bubble tea here is really good. It's pricier than the one in Rose tea, but you also get more. \n",
      "I like that noodles with pork sauce. I've tried both the thin and wide/thick noodles. The wide one is less chewy and are kind of sticky. I prefer the thin one for this dish.\n",
      "Dan dan noodles are different from what I was expecting. My friend liked it but it's just okay for me.\n",
      "The noodle with wonton is flavorless to me. \n",
      "The soup dumplings are good but not amazing. If you've never had it before, give it a try and you probably will like it.\n",
      "I'd like to try noodles with beef soup next time.\n",
      "\n",
      "The appetizers are too pricy in my opinion. I won't pay $6 for a small plate of vegetables again...\n",
      "\n",
      "The owner is a nice guy and I enjoyed chatting with him a little bit during dinners.\n",
      "compound: 0.9874, neg: 0.028, neu: 0.772, pos: 0.2, \n",
      "We went here Saturday for dinner. We had a 2-1 coupon. Price was $37 for two people so a good deal. \n",
      "\n",
      "Very large space, open layout.  Been here a few times years ago. I ate mostly the crab legs. Prime rib. \n",
      "\n",
      "They provide a self serve drink area, which I think is good.  You don't have to flag down a staff to get a drink when you want one. We've all been in that situation. \n",
      "\n",
      "Unlimited alcohol, wines and beer. They have a bar area with one bartender working and a bunch of tv's to watch or get updates on games. \n",
      "\n",
      "I wouldn't go out of my way, but if I was in Mirage and hungry, I'd eat there if we had another 2-1 coupon. I wouldn't spend full retail price eating there. Other buffets on the strip are better for same price points.\n",
      "compound: 0.829, neg: 0.0, neu: 0.929, pos: 0.071, \n",
      "Took my kids here to hang out on one fine 72 degree sunny Saturday in February. Going over the bridge, coming from Aliante Casino, you cant miss the nice view of the waterfall that is at the forefront of the park.\n",
      "\n",
      "Too bad this and the playground were the only nice things I can vouch for. \n",
      "\n",
      "The playground is a nice fenced in little area that has a decent amount of playground equipment, swings, slides, tables, and benches. I like the soft material they use that the playground equipment is built on. There is also a sand lot area that has dinosaur bones as props. The day we went, the playground was packed. Kids were running into each other as they went down the slides. There were kids actually waiting to get on the swings! \n",
      "\n",
      "After a while we decided to walk around to check out the rest of the park. We see ducks everywhere especially in the pond that has the nice waterfall going into it. Unfortunately, this is where the \"nice stuff\" ends. Everywhere on the paths we were walking on were green duck crap. Which brings the question, \"Is there some kind of spray or force field they have on the playground?\" Because there were no ducks or green duck crap anywhere in the playground. Im also curious as to how many people would actually spread out a blanket and have a picnic on the grass for the crap was all over that as well. Just doing this review im starting to get grossed out thinking about that day.\n",
      "\n",
      "After carefully trying not to step on any crap going to the car, I made a mental note to make sure to mention all the green crap I saw in this review and to not hesitate in mentioning it to everybody I know that is either making plans on coming here or are just thinking about it. The only thing positive I can think of about that is to come here if you are on a diet. After seeing all the green crap, you probably wont be having much of an appetite and you definitely will get some exercise trying to avoid stepping on the stuff. \n",
      "\n",
      "So, yeah, im not worried about coming back to this place any time soon in this lifetime. (You think?). Lol. Maybe as a duck.\n",
      "compound: -0.8212, neg: 0.095, neu: 0.829, pos: 0.077, \n",
      "There is a reason I frequent Paul's Ace over the big names such as Home Depot or Lowes: the personalized assistance. Do the big name brands provide this? Yes, bit not at the same level Paul's Ace Hardware does in Tempe. If I need help, they are ready and willing to help me in every aspect of my project.\n",
      "\n",
      "The store manager Bras personally went out if his way to assist me in gathering all the materials I needed for my current project. He knows his store, bounced around to show me all options, and seemed to have recommendations on each project. This guy must love what he does because he knows everything in the store (or he is a constant do-it-yourselfer).\n",
      "\n",
      "I am always pleased with the help I receive and am thankful this place is in my neighborhood.\n",
      "compound: 0.9736, neg: 0.0, neu: 0.836, pos: 0.164, \n",
      "In need of a burger, this was the closest location from work that wasn't your typical fast food joint.\n",
      "\n",
      "I always like to chose a signature burger so I opted for the Spicy Cajun Burger and combo'd it up with there Beer Battered Rings and a Jones Strawberry-Lime  Soda.\n",
      "\n",
      "Its a small location with an even smaller patio ( maybe 8 bar stools on a cramped balcony) that looks onto Charles Street. But definitely sit outside if you can grab a seat. Luckily the patio was vacant that late afternoon.\n",
      "\n",
      "Toppings - They Spicy Cajun Burger - Avocado, jalapeños, lettuce,\n",
      "Jalapeño havarti, tomatoes, Cajun spice & Smokey chipotle & honey mayo. There was ample toppings on the burger, I enjoyed the avocado on my burger, overall not too spicy but good kick from the sliced jalapeños.\n",
      "\n",
      "Meat - Grilled perfectly, tasted average, but I found it too small compared to the bun.\n",
      "\n",
      "Bun - Very soft, tasted good, but didn't hold up against the burger and all the toppings and at the end I was left with lots of bun and no more burger.\n",
      "\n",
      "Beer Battered Onion Rings - Very thick batter on these rings, golden brown, crunchy, very filling.\n",
      "\n",
      "Drink -Jones Strawberry-Lime Soda - Yummy not sour but good balance,\n",
      "\n",
      "Overall prompt friendly service, quaint little patio, average burger but good for a quick fix in satisfying the burger craving.\n",
      "compound: 0.9907, neg: 0.012, neu: 0.814, pos: 0.174, \n",
      "Sadly this place has been sold.  The gas prices have sky rocketed, some of the long term staff is gone, lottery is gone, they have run out of popular cigarettes, I tried to get gas a few days ago and the vendors / delivery trucks that used to park on the side street or off to the side were parked at the pumps...I am going to give it a little time and see if it gets better.  I have been going to this store for 15+ years, but if it doesn't shape up, I will find another....\n",
      "compound: 0.2382, neg: 0.02, neu: 0.939, pos: 0.041, \n",
      "Easily entering my top 3 restaurants in Charlotte after just one visit!\n",
      "\n",
      "Pork Belly, unreal! Had an AMAZING prime NY Strip with bourbon butter jam, PHENOMENAL!\n",
      "compound: 0.8628, neg: 0.0, neu: 0.696, pos: 0.304, \n",
      "So good! They didn't make it to 5 stars due to the prices are a bit high for the amount of food and the location is a bit unsavory. \n",
      "The decor and atmosphere was surprisingly nice, from the outside I expected to be more run down inside. The staff was very nice. We were surprised how empty the dining room was for a Friday evening.\n",
      "We got Vegetable Samosas to start then ordered Chicken Tikka Masala, Lamb Rogan Josh, rice and plain Naan. Our only complaint was the lamb could've been more tender but everything was flavorful and delicious. \n",
      "I would definitely go again if given the chance.\n",
      "compound: 0.937, neg: 0.043, neu: 0.783, pos: 0.175, \n",
      "Employees were to busy chatting with each other. One employee had his head out the  drive thru window talking to people the entire time I was there. The cook come from outside and made my food. Did he was hands before making my food???\n",
      "compound: 0.0, neg: 0.0, neu: 1.0, pos: 0.0, \n",
      "This random hole in the wall is located in the Park Rd. shopping center.  I had never heard of it until that fateful St. Patricks day when another beer was in order.  After making my way there and enjoying the patio, I decided the food was my next venture.\n",
      "\n",
      "After my second, alcohol only, visit, I was excited to taste what vegetarian options they had.  I had the grilled cheese with spicy asparagus and portobello.  Let me tell you...grilled cheese is amazing, add a few interesting touches, it becomes addicting.  I was very happy with my sandwich.  Also, they have a very tasty appetizer of Goat Cheese Fritters with a red wine sauce.  Goat Cheese is one of my favorites and frying anything makes it better. I was in love.  \n",
      "Ther service is great and they can accomadate large groups, the few times I've been has been with 7-20 people.  Great staff, awesome menu choices, I'll be going back\n",
      "compound: 0.9902, neg: 0.0, neu: 0.783, pos: 0.217, \n",
      "((( LADIES BEWARE))) Don't ever take your machine to 35th Ave. sew and vac on Northern they broke my Elna machine while it was being repaired. I've spent over $10.000 at their store over the years and have been a long time customer .. Bill the owners son was so rude to me and did nothing to resolve my broken machine. I was disgusted when Bill the owners daughter wouldn't do Any thing to help me when the repair man broke my machine. It's terrible to bring a nice sewing machine in to be repaired and these people broke it while in their possession and they don't want to do a damm thing about it. It was like a big (screw you) to me. I won't buy another thing from these people for the way I was treated. Even the material is too over priced. I'm in the market for another machine but I won't go there ever again. My machine STILL NEEDS TO BE TAKEN CARE OF AND THEY STILL HAVE NOT RESOLVED THIS ISSUE. ITS STILL BROKEN AND IT HAPPENED WHILE REPAIRMAN WAS SERVICING MY MACHINE. I WISH I HAD NEVER TAKEN MY MACHINE TO 35TH AVE SEW AND VAC SHOP. WHY CANT PEOPLE OWN UP TO TAKE OWNERSHIP TO THEIR RESPONSIBILITY FOR THEIR OWN MISTAKES!!!! GO TO KINGS SEWING MACHINES MUCH BETTER SERVICE AND THEY DONT BREAK YOUR MACHINE!!!!!\n",
      "compound: 0.4, neg: 0.104, neu: 0.815, pos: 0.081, \n",
      "Great tanning salon near me, and clean, equipped with the latest tech and easy checkin and out spot for a short yet amazing relaxation and sunbathing time in chilli Cleveland. I am going to be obsessed with this place in winters and will recharge myself with vitamin D!\n",
      "compound: 0.9565, neg: 0.028, neu: 0.649, pos: 0.323, \n",
      "Th service here is very hit or miss... Sometimes the staff is personable and attentive. Other times I ask myself, \"Why do I come here???\" The staff often has the  \"GTFOH\" stamp placed permanently across their foreheads, and we as patrons just have to go with it, otherwise we are deemed \"that guy.\"  I would say that my continuos visits were for the great HH, but there are several other options close to home, with the same food and drink options for me to choose from. I think today may be last visit...\n",
      "compound: 0.4749, neg: 0.0, neu: 0.966, pos: 0.034, \n",
      "Great cocktails and very good food.  Overall first class restaurant.\n",
      "compound: 0.807, neg: 0.0, neu: 0.523, pos: 0.477, \n",
      "I took my wife out for a Birthday dinner with my daughter on 12-16-14  at Alfonsos.  I heard the food was good and it was and my waitress ( Dawn ) was also good ( even with it being very busy ). The problem I have is some of the waitress staff are rude. I had a gift card/ certificate to pay for dinner. After a few minutes, a big blond waitress came over and said  ( in a loud and rude tone ) I couldn't use it cause I needed to spend $100.00 in order to get $50.00 off. She then insulted me by saying (so the tables around me could hear ) couldn't I read the fine print telling me of requirements to use gift card. I showed her the certificate and the fine print was not legible She told me, sorry that's not our fault it's yours and she walked away. I am having second thoughts about going back to use gift card. I may give it away or toss it out.\n",
      "compound: 0.2201, neg: 0.102, neu: 0.802, pos: 0.096, \n",
      "This company tried deliver flowers to our home- my son was home by himself and called me.  I had him keep me on the phone while he opened the front door (our security screen door was  locked though).  He told the gal that he was not going to open the door, that his mom (me) was on the phone and he asked the driver to call me, his mom.  The driver was very insistent about getting a signature and became argumentative.  My son kept saying, call my mom, she's on the phone now.  And she kept interrupting and insistent on a signature.  I told my son to close the door.  I then called the company and spoke with a Manager, Sara.  She understood my concern and said she would make sure the driver was trained on these situations.  Three days pass and I still don't have my flowers or a phone call.  I called and spoke with Sara and she had a completely different tone with me than previously.  She was very curt and tried to give me lots of excuses. I asked that the Owners call me.  Five days later, I've never received a call back from the Owner or my flowers.  I called to find out when one of the Owners would call back, and Linda told me it would be by Friday, which meant six days later than my initial request.  I told Linda that was pretty unreasonable and she told me that the Owners are busy and have several other businesses.  In my opinion, that's completely unacceptable- do yourself a favor and do not order from this Company.  They are very unprofessional and not very concerned about customer service.\n",
      "compound: -0.2467, neg: 0.041, neu: 0.921, pos: 0.038, \n",
      "Heard about this place and was dying to check it put-and I'm very glad I did! Decent beer selection and kind of a hipster vibe, but $8 for a loaded hot dog and tater tots has got to be one of the best deals in town. Tons of unique toppings to pick from and delicious dipping sauces for tots (secret fry sauce was my fav). We were there early and had no problem getting a seat at the bar, but I can see how during prime time or when live music is on how it could be kind of tight. If you're going for the food is get there earlyu because that loaded dog would have been super hard to eat while standing.\n",
      "compound: 0.9286, neg: 0.058, neu: 0.807, pos: 0.135, \n",
      "received a  mailer and thought okay let's go. walked in on a Monday afternoon greeted by a bartender wearing a cute  t shirt that said the bar and below that the baby. how cute however never got her name. looked over menu asked what was good she said the club. so ordered it and  yes it is good. had a beer a club on white toast served with fries and watched sport center. really felt at ease there and good music playing. will go back again.\n",
      "compound: 0.9718, neg: 0.0, neu: 0.727, pos: 0.273, \n",
      "Met an old close friend for dinner at Portofino.  Great intimate dinning with class. Excellent pasta and meat dishes. Delightful service and great drinks. Will come back!\n",
      "compound: 0.9647, neg: 0.0, neu: 0.534, pos: 0.466, \n",
      "My company hosted a dinner and awards night at the hotel last night and the experience was the best we could have imagined! Working with Kristine Cole was fantastic and the communication was always on point. I walked in to be blown away by the set up and I had compliments on the food all night. I came into work today to be flooded with emails on how impressed everyone was with the presentation. The staff that was there to help us was GREAT! I believe Tim was in charge and he had Anna and one other gentleman with him and they made us laugh and gave us the privacy we needed. We will be back and I will be recommending them to everyone!\n",
      "compound: 0.9828, neg: 0.0, neu: 0.794, pos: 0.206, \n",
      "Yes... the Boba Tea explosion is in full force. I have been to Lee Lee International Supermarket in Chandler many times, but I never noticed this little gem next to it until a couple years ago. Boba Tea House has serving up some of the best boba tea in the Valley long before it became a big thing. They have a fantastic array of flavors and drink choices to choose like fruit slushes, snow, milk tea, pudding, mango jelly, coffee jelly, etc. They even have snacks like popcorn chicken, fried tofu, and fries. The staff is super friendly and the prices are reasonable. I still laugh at my friends who have no idea what Boba Tea is or are too afraid to suck up one of those chewy ball things. LOL. In case you didn't know, Boba Tea is a flavored tea (usually with milk) to which chewy tapioca balls or fruit jellies are added. I think they are super delicious. Today I got the Blueberry Milk Boba Tea and it made for the perfect snack in the middle of my day. Another favorite of my mine is the honeydew milk tea.\n",
      "compound: 0.9959, neg: 0.028, neu: 0.716, pos: 0.256, \n",
      "Yum!! Had the kale grits and would definitely have those again! Menu choices are unique, farm fresh and delicious!\n",
      "compound: 0.871, neg: 0.0, neu: 0.619, pos: 0.381, \n",
      "I stumbled upon this ice cream store and seeing the high reviews on Yelp, went in with high expectations. First off, the prices are fairly high considering the size of the cones and cups they use. It's almost $4 for a small scoop, which is pretty overpriced in my opinion. Their flavours are a little more creative than most traditional ice cream stores and it is marginally creamier. The Noah I had was pretty neat with some different ingredients mixed into it as well. But, not worth that price and on some hot summer days, that lineup.\n",
      "\n",
      "Also note that it is a tiny store that fits no more than a dozen people, so don't expect to sit inside enjoying your ice cream there.\n",
      "compound: 0.9387, neg: 0.029, neu: 0.824, pos: 0.147, \n",
      "ooooooh yummy.  i'm a red meat eating midwestern girl, and 9 had the best steak i can remember having in....who knows how long, it was DAMN GOOD.  the mac and cheese is a tasty, tasty side.  try the snicker dessert...it's basically two cookie/ice cream sanwiches with bits of snickers.  the s'mores my sister got were super fun too.  only complaint is that it was really loud and waaaaaaay too many annoying veil-toting bachelorette parties for my taste.  but hey, it is the palms.\n",
      "compound: 0.7845, neg: 0.064, neu: 0.784, pos: 0.152, \n",
      "Dreadful Service\n",
      "\n",
      "I've had Jimmy John's before several years ago in Minneapolis.. But apparently here in Phoenix, the store personnel must be trained differently. I had to take my sandwich back up to the counter twice to get the thick headed folks working at the one on Camelback at about 16th to get my sandwich the way I wanted it.\n",
      "\n",
      "I asked for a #10 Hunter's Club with all the veggies. What I got was the standard #10 Hunters Club with lettuce and tomatoes. \n",
      "\n",
      "After seeing that, I took it back up to the counter, and explained that I wanted all the veggies. They explained to me that those were all the veggies the sandwich came with. I carefully explained that I wanted all of the veggies that they have. The guy said, oh, you want the Freebies. I would have thought he would have clarified when I ordered whether I just wanted everything that came on the sandwich, or the Freebies as well. I said yes, I wanted all of the Freebie Veggies. \n",
      "\n",
      "I took my revised sandwich and sat down to eat it, only to find that along with the veggies I had requested, they had piled on Italian vinaigrette and Dijon mustard, which I did NOT want.\n",
      "compound: 0.886, neg: 0.014, neu: 0.901, pos: 0.085, \n",
      "These burgers are phenomenal! The Galley Boy just melts in your mouth, and paired with the potato teasers and a milkshake it is like heaven on Earth.\n",
      "compound: 0.6588, neg: 0.055, neu: 0.747, pos: 0.198, \n",
      "I got stuck in Myrtle Beach last week and stayed here waiting for another flight.  Very clean, comfortable and right near the airport.  I would definitely stay again.\n",
      "compound: 0.8059, neg: 0.06, neu: 0.661, pos: 0.279, \n",
      "#1 it should be advertised as a vegetarian dinner. For the price we paid, I really would have liked a nice cut of meat. \n",
      "#2. Way over priced. Dinner for 2 with (2) blue moon beers and (1) $10 glass of wine... $165+tip. We tipped over 25% because our server was great and the experience of eating in the Dark was a pretty interesting experience. \n",
      "#3. The food was Meh... I would have been okay with everything else if the food was outstanding. It really wasn't... I probably ate 3 bites of my dinner entree just to taste what the different Ingredients were... It was far from savory and could have used even a pasta or something. A couple of dry (what tasted like hush puppies)?? I would have been impressed a little if when I told the server that I didn't enjoy it if he would have offered to try one of the others, but I didn't make a big deal because like I said before he was really nice. The dessert was literally the only saving grace. \n",
      "All in all I gave a 2 star... (server and experience in the dark)... I just have to be honest incase others go in expecting a non-vegetarian meal... Be ready for a $200 vegetarian dinner!!!!\n",
      "*** also if they don't like your review on their Facebook page they will block you from commenting on other people talking crap about you, they can not handle the truth and allow others to put you down ***\n",
      "compound: 0.9756, neg: 0.05, neu: 0.794, pos: 0.157, \n",
      "First off food is DELICIOUS! By far my favorite restaurant in downtown Phoenix. I have tried so many different things from the menu and it never disappoints, but the Saturday night special Prime Rib and Horseradish Dauphinoise Potato is my favorite. Second, the service is amazing. Ian is my favorite waiter, will request him every time! He is so personable with a good sense of humor! He constantly is checking up to make sure everything is good (but not too much). He made the experience at the Arrogant Butcher memorable!\n",
      "compound: 0.9872, neg: 0.036, neu: 0.641, pos: 0.323, \n",
      "At least the Pinks concession stand by Section 3.  Unqualified servers who don't tell you that they won't take cash - and they seriously won't take cash.  Then the manager wouldn't even take the cash to another register. The lines are stupid \n",
      "long and the workers incapable of handling the slightest issue. I m sitting upstairs if there is a next time I come to a Knights game.\n",
      "compound: -0.7717, neg: 0.115, neu: 0.885, pos: 0.0, \n",
      "Wonderful experience. We sat outside on the patio and watched the Food Channel and listened to music while going over the menu and having a great conversation with out out-of-country guests. The patio is a good place for kids because the patio can drown out even the loudest child.  If you have a need for food with a great bite to it, this is the spot. We only waited 20 minutes for a table for 8 at the peak dinner hour of 7-8. Our server was quick to greet us and get our drinks to our table. We ordered the sashimi wonton tacos and sausage cheese dip with pretzels wrapped with pepperoni. Tuna was fresh. Wontons not greasy. Wasabi sauce with enough zing but not enough to over power the tuna. Pretzels and cheese dip was nice and hot. Pretzels sprinkled with parmesan cheese and crisp.  Entree's were big enough to serve two people! Beef brisket, beef short ribs, pork ribs, Caesar salad, bacon cheese burger all packed with flavor. Caesar salad comes with a huge garlic crouton, which my daughter cut up and we used it to finish up the sausage cheese dip! Caesar dressing was fresh. Corn bread and macaroni & cheese sides tasty. Ordered the cheesecake for dessert. It was large enough for our party of 8 and we left some of it there. Asked our server to put the pretzels, fudge sauce and potato chips on the side instead of on top, which they did.   If your stomach is sensitive, you may want to ask for the various sauces on the side because this isn't a place to miss. It's not that the food is spicy, it does the dance of the happy on your tongue and in your tummy. For some people, it may be too much but for me, this is a good thing!\n",
      "compound: 0.986, neg: 0.015, neu: 0.86, pos: 0.125, \n",
      "I was told so many great things about this place but my entire experience was awful. The food wasn't very good, way too greasy. My fries were luke warm and my tray was literally covered in grease. I needed about 50 napkins and a shower after that. The service was pretty awful too. I can't believe I paid $14 for a small meal with no extra fixings. On national cheeseburger day of all days too. Such a disappointment and I've never gone back since. Best thing about it was the soda, but that's pretty difficult to mess up.\n",
      "compound: -0.6951, neg: 0.204, neu: 0.639, pos: 0.157, \n",
      "Came here for the \"midnight\" launch of the PSVR. After previously being told by another employee a week prior to get there at 6:01PM to get one of the six extra systems that weren't pre-ordered, and that it was first come first serve, I ended up not able to get a system. When I came in yesterday, the woman behind the counter told me they had written down names and numbers of people who wanted one a few days prior, and that they all were accounted for. \n",
      "\n",
      "The previous employee even told me I was the first person to have asked about it. If they were organized, and told ALL their employees customers could put their names down on a PSVR, I could have gotten a system last night.\n",
      "\n",
      "Not only did this illiminate my chances of getting a system at GameStop, but made it too late for me to go to other department stores who had stock (as they were too far away, and lines were already forming at each location). \n",
      "\n",
      "Not happy.\n",
      "compound: -0.5569, neg: 0.024, neu: 0.968, pos: 0.008, \n",
      "This place is quite possibly my favorite restaurant in Phoenix. \n",
      "\n",
      "My favorites are the Chicken Scarpariello, the pizza and the Sangria. My wife can't decide between four dishes. Our daughter loves the Penne ala Vodka, Lasagna, or Ravioli.\n",
      "\n",
      "Mario and his sons work hard to please and we've never had a bad meal here. I've seen them bend over backwards to try and take care of obvious jerks. \n",
      "\n",
      "Plus to top it off, when local school invited local pizza places to present to a class on making pizza and recycling issues, Mario came and talked to the kids as if they were adults. All the other places treated it as a marketing event and brought coupons. \n",
      "\n",
      "Get the idea? It's all good at this neighborhood gem!\n",
      "compound: 0.9618, neg: 0.025, neu: 0.809, pos: 0.166, \n",
      "Dr.K. & Dr.B. together with their Agape team are caring, professional, thorough and knowledgeable.\n",
      "Dr.K. & Dr.B. will holistically bring your health & well being back into balance, not just treat individual injuries.\n",
      "Each visit is carefully tailored to your current state of being and needs.\n",
      "compound: 0.5487, neg: 0.047, neu: 0.812, pos: 0.141, \n",
      "Man, I love Toronto! Hiding in a strip mall on Overlea, find a dingy looking restaurant that serves up fantastic, cheap kabob...be warned regardless of when you come here you'll likely be waiting for a table as this place is always overrun with people...If you're a fan of perfectly grilled spicy meat, you must try this place out...now that I've been here I need to limit how many times I go here per month :)\n",
      "\n",
      "Take the drive out and have some kabob...if you don't own a car, borrow one or get a zipcar membership...totally worth it!\n",
      "compound: 0.9476, neg: 0.041, neu: 0.769, pos: 0.19, \n",
      "Today was my first time seeing the staff at Bella Smile and it was a great experience.  Although I'm not currently living in Las Vegas I plan on coming back for checkups and any other problems that may arise.  There was no wait time whatsoever and I was out of there without a drop of pain or discomfort.  The manager Severn was very accommodating and will be getting business from my family and friends in town.\n",
      "compound: 0.7591, neg: 0.09, neu: 0.745, pos: 0.165, \n",
      "I've taken my kids here several times, and we've never had to wait more then 5 minutes. We go right up, sign in, and they usually call us back right as I'm done signing their paperwork. The doctors have always been super nice. My daughter had stitches done, and she was a nervous wreck. The staff tried so hard to make her comfortable and gave her a stuffed toy when she was done. It was very nice. I wish they would open a bit earlier in the day...otherwise, they're great.\n",
      "compound: 0.9327, neg: 0.067, neu: 0.74, pos: 0.193, \n",
      "One of the crappier Marriotts I've ever stayed at. The staff is nice and professional enough. But the fact that it's right by the frontage road along I-17, you tend to attract a seedier crowd. Also, with three floors worth of rooms here, guess how many washer/dryer they have for everyone? ONE crappy washer and ONE crappy dryer! Don't even think about washing your clothes on a Friday night. For a two hour period, I went to see if the washer was finally available, each time I was met with yet another load of dirty clothes inside. If they can't afford to get more machines, consider installing one of those number ticket dispensers! Just a thought. Maybe I would have a better shot of washing my clothes. I also considered sitting on top of the washer until the load was done, but that would be kind of creepy on my part. I will be packing all my dirty clothes with me and never come back here again.\n",
      "compound: -0.658, neg: 0.066, neu: 0.877, pos: 0.057, \n",
      "Beer, beer, and more beer.  It's definitely a low-key nieghborhood bar.  As an out of towner, I enjoyed it.  It felt like Pittsburgh's version of Cheers except grimier.\n",
      "\n",
      "Unfortunately, the kitchen closes fairly early on weekdays otherwise this place may have received another star.\n",
      "compound: 0.7823, neg: 0.095, neu: 0.681, pos: 0.224, \n",
      "Love the crust on this pizza. The sauce is decent, cheese is okay, the pepperoni was not the best quality. \n",
      "My friend ordered an everything slice, said it was good, just wished so cheese was on the toppings to hold it together.\n",
      "compound: 0.833, neg: 0.064, neu: 0.704, pos: 0.232, \n",
      "Normally, I give a restaurant at least 3 stars as long as it has good food. However, our group was quite disappointed with this restaurant. Granted, we were expecting a lot from an Italian restaurant in the Venetian, but I also think those are fine expectations to have when eating at these prices.\n",
      "\n",
      "First, we changed our reservation, and they said they could accommodate the time. Clearly, they shouldn't have. We were seated at a folding table in the hallway next to the restaurant, quite literally in the food court next to a kiosk selling trinkets to tourists. Whatever ambiance this restaurant might offer is a mystery to me. They shouldn't have switched the reservation if it wasn't possible to accommodate the change (our fault, wouldn't blame them). I know they threw a table together as our table and chairs looked different from the rest of the ones set up. A few were just in front of the restaurant but not off to the side like ours was.\n",
      "\n",
      "I expected to pay a lot in the Venetian, but I expected to be blown away. I would have preferred dining at several places we walked at on the way to this one. I paid $17 for spaghetti carbonara. It was very tasty, a well-balanced sauce with a decent amount of pancetta. However, I finished the whole thing. I can't finish an entree at Olive Garden for the same price. I also ate a few pieces of bread. One of my friends ordered a chicken kabob (who knows why that's sold at an Italian restaurant). It was one single kabob with perhaps 4-5 pieces of chicken and 4-5 vegetables on a bed of rice and it cost $25! Absolutely outrageous. \n",
      "\n",
      "To top it off, we told the waiter we were celebrating a birthday. He said ok, so I expected we would receive a dessert, as is customary. We received nothing. Of course, our waiter didn't seem keen on giving us the time of day so I don't know why I expected him to remember a birthday.\n",
      "compound: 0.9555, neg: 0.042, neu: 0.863, pos: 0.096, \n",
      "I'm not that familiar with Scottsdale so I'm just guessing that this restaurant is fairly new. The atmosphere is great and lively but s but loud. They have a huge wine and drink list. \n",
      "\n",
      "The food was really good, I highly recommend the ahi tuna appetizer, ravioli and the skirt steak!\n",
      "compound: 0.9443, neg: 0.0, neu: 0.727, pos: 0.273, \n",
      "\"Good morning, cocktails for you?\" \n",
      "Wait...what? Oh...it's Vegas!\n",
      "\n",
      "Dining here, you best not be dieting because this place is literally the definition of excess, but in a good way. I'm a sucker for benedicts so that was awesome. \n",
      "Service was really great too and the staff was so welcoming. It was our first stop just after landing so really appreciate the service.\n",
      "\n",
      "Back in Hawaii this reminds me of Zippys or Anna Millers - that home feeling. Prices are a bit high, but for what you get it's totally worth it. Will remember this place if I ever return to Vegas in the future.\n",
      "compound: 0.9832, neg: 0.057, neu: 0.674, pos: 0.27, \n",
      "Hands down best Bloody Mary ever. So many things in my BM, veggies  mmm bacon.  \"Nailed it\" it's an appetizer. I also had the burger with fries. Who knew fries could be so good. The presentation doesn't disappoint ether. Very nice. Great seating outside although we sat inside. Would love to see this restaurant near my hometown. Seriously. Get the BM. You rock Guy!\n",
      "compound: 0.9616, neg: 0.056, neu: 0.673, pos: 0.271, \n"
     ]
    }
   ],
   "source": [
    "sid = SentimentIntensityAnalyzer()\n",
    "for sentence in sentences:\n",
    "     print(sentence)\n",
    "     ss = sid.polarity_scores(sentence)\n",
    "     for k in sorted(ss):\n",
    "         print('{0}: {1}, '.format(k, ss[k]), end='')\n",
    "     print()"
   ]
  },
  {
   "cell_type": "code",
   "execution_count": null,
   "metadata": {
    "_kg_hide-output": true,
    "_uuid": "1991e058c20f6a99f4bf93f9a21086919b77a4fa",
    "collapsed": true
   },
   "outputs": [],
   "source": []
  },
  {
   "cell_type": "code",
   "execution_count": null,
   "metadata": {
    "_uuid": "728ce9b06befcda9ab841e266faf7dc3ef121ab4",
    "collapsed": true
   },
   "outputs": [],
   "source": []
  }
 ],
 "metadata": {
  "kernelspec": {
   "display_name": "Python 3",
   "language": "python",
   "name": "python3"
  },
  "language_info": {
   "codemirror_mode": {
    "name": "ipython",
    "version": 3
   },
   "file_extension": ".py",
   "mimetype": "text/x-python",
   "name": "python",
   "nbconvert_exporter": "python",
   "pygments_lexer": "ipython3",
   "version": "3.7.1"
  }
 },
 "nbformat": 4,
 "nbformat_minor": 1
}
